{
 "cells": [
  {
   "cell_type": "markdown",
   "metadata": {},
   "source": [
    "# Balance Search\n",
    "## Description\n",
    "Traditionally cooling/heating degree variables are calculated using a static balance point. This fails to account for differences in specific building characteristics and HVAC systems."
   ]
  },
  {
   "cell_type": "markdown",
   "metadata": {},
   "source": [
    "## Imports"
   ]
  },
  {
   "cell_type": "code",
   "execution_count": 46,
   "metadata": {},
   "outputs": [],
   "source": [
    "import calendar\n",
    "import json\n",
    "\n",
    "import numpy as np\n",
    "import pandas as pd\n",
    "\n",
    "from sqlalchemy import create_engine\n",
    "\n",
    "import statsmodels.formula.api as smf\n",
    "from statsmodels.stats.anova import anova_lm\n",
    "\n",
    "import matplotlib.pyplot as plt\n",
    "import plotly.graph_objects as go\n",
    "\n",
    "from joblib import Parallel, delayed, parallel_backend"
   ]
  },
  {
   "cell_type": "markdown",
   "metadata": {},
   "source": [
    "## Helper functions"
   ]
  },
  {
   "cell_type": "code",
   "execution_count": 88,
   "metadata": {},
   "outputs": [],
   "source": [
    "def degree_difference(reference_temp, temps, is_cooling=True):\n",
    "    deltas = None\n",
    "    \n",
    "    if is_cooling:\n",
    "        deltas = np.maximum(temps - reference_temp, 0)\n",
    "    else:\n",
    "        deltas = np.maximum(reference_temp - temps, 0)\n",
    "        \n",
    "    return deltas.sum(axis=1)\n",
    "\n",
    "\n",
    "def score_balance(model_data, temps, balance, distance):\n",
    "    temp_cooling = balance + distance/2.0\n",
    "    temp_heating = balance - distance/2.0\n",
    "\n",
    "    model_data['cdd'] = degree_difference(temp_cooling, temps, is_cooling=True)\n",
    "    model_data['hdd'] = degree_difference(temp_heating, temps, is_cooling=False)\n",
    "    \n",
    "    lmod = smf.ols(\n",
    "        formula = \"usage ~ cdd + hdd + C(day_of_week)\",\n",
    "        data = model_data\n",
    "    ).fit()\n",
    "    \n",
    "    fit = {\n",
    "        'score': lmod.ssr,\n",
    "        'balance': balance,\n",
    "        'distance': distance,\n",
    "    }\n",
    "    \n",
    "    return fit\n",
    "\n",
    "\n",
    "def plotOptimizationSurface(results_df):\n",
    "    z_data = results_df.pivot(index='balance', columns='distance', values='score')\n",
    "\n",
    "    fig = go.Figure(data=[go.Surface(z=z_data.values)])\n",
    "\n",
    "    fig.update_layout(\n",
    "        title='Balance Search Scores', \n",
    "        autosize=False,     \n",
    "        width=500, \n",
    "        height=500,        \n",
    "        margin=dict(\n",
    "            l=65, \n",
    "            r=50, \n",
    "            b=65, \n",
    "            t=90\n",
    "        ),\n",
    "        scene = dict(\n",
    "            xaxis_title='Distance',\n",
    "            yaxis_title='Balance Point - 40',\n",
    "            zaxis_title='SSR'\n",
    "        )\n",
    "    )\n",
    "\n",
    "    fig.show()\n",
    "    \n",
    "    \n",
    "def plotDayOfWeekEffect(lmod):\n",
    "\n",
    "    is_day_of_week_feature = ['C(day_of_week)' in feature or feature == 'Intercept' for feature in lmod.conf_int().index]\n",
    "    conf_int_widths = lmod.conf_int()[is_day_of_week_feature].diff(axis=1)[1]\n",
    "    conf_int_widths\n",
    "\n",
    "    fig = go.Figure(data=go.Scatter(\n",
    "            x=['Monday', 'Tuesday', 'Wednesday', 'Thursday', 'Friday', 'Saturday', 'Sunday'],\n",
    "            y=[ lmod.params['C(day_of_week)[T.Monday]'],\n",
    "                lmod.params['C(day_of_week)[T.Tuesday]'],\n",
    "                lmod.params['C(day_of_week)[T.Wednesday]'],\n",
    "                lmod.params['C(day_of_week)[T.Thursday]'],\n",
    "                0, # Friday was the default treatment variable\n",
    "                lmod.params['C(day_of_week)[T.Saturday]'],\n",
    "                lmod.params['C(day_of_week)[T.Sunday]']\n",
    "            ],\n",
    "            error_y=dict(\n",
    "                type='data', # value of error bar given in data coordinates\n",
    "                array=[ conf_int_widths['C(day_of_week)[T.Monday]'],\n",
    "                        conf_int_widths['C(day_of_week)[T.Tuesday]'],\n",
    "                        conf_int_widths['C(day_of_week)[T.Wednesday]'],\n",
    "                        conf_int_widths['C(day_of_week)[T.Thursday]'],\n",
    "                        conf_int_widths['Intercept'],\n",
    "                        conf_int_widths['C(day_of_week)[T.Saturday]'],\n",
    "                        conf_int_widths['C(day_of_week)[T.Sunday]']\n",
    "                ],\n",
    "                visible=True)\n",
    "        ))\n",
    "    fig.show()\n",
    "\n",
    "\n",
    "def plotModel(balance, distance, data_dataid, lmod):\n",
    "    usage_pred = lmod.fittedvalues\n",
    "\n",
    "    temp_cooling = balance + distance/2.0\n",
    "    temp_heating = balance - distance/2.0\n",
    "\n",
    "    # separate the heating and cooling plot lines if they are at the same value\n",
    "    heat_cool_plot_offset = 0\n",
    "    if temp_cooling == temp_heating:\n",
    "        heat_cool_plot_offset = 0.33\n",
    "\n",
    "    plt.scatter(\n",
    "        data_dataid['avg_temp'], \n",
    "        data_dataid['usage'], \n",
    "        label='Observed'\n",
    "    )\n",
    "\n",
    "    plt.scatter(\n",
    "        data_dataid['avg_temp'], \n",
    "        usage_pred, \n",
    "        label='Model'\n",
    "    )\n",
    "\n",
    "    plt.axvline(\n",
    "        x=temp_cooling+heat_cool_plot_offset, \n",
    "        label='Cooling: %d F'%temp_cooling,\n",
    "        c='blue',\n",
    "        linestyle='dashed'\n",
    "    )\n",
    "\n",
    "    plt.axvline(\n",
    "        x=temp_heating-heat_cool_plot_offset, \n",
    "        label='Heating: %d F'%temp_heating, \n",
    "        c='red',\n",
    "        linestyle='dashed'\n",
    "    )\n",
    "\n",
    "\n",
    "    plt.title('dataid: ' + str(dataid))\n",
    "    plt.xlabel('Temperature, F')\n",
    "    plt.ylabel('Usage kWh')\n",
    "    plt.legend()\n",
    "    plt.show()"
   ]
  },
  {
   "cell_type": "markdown",
   "metadata": {},
   "source": [
    "## Database connection"
   ]
  },
  {
   "cell_type": "code",
   "execution_count": 2,
   "metadata": {},
   "outputs": [],
   "source": [
    "# load credentials\n",
    "credentials_file_path = '../credentials.json'\n",
    "with open(credentials_file_path) as credentials_file:\n",
    "    credentials = json.load(credentials_file)\n",
    "    \n",
    "# connect to database\n",
    "engine = create_engine('mysql+mysqldb://{user}@{host}/{db}'.format(\n",
    "    user = credentials['user'],\n",
    "    host = credentials['host'],\n",
    "    db = credentials['db']\n",
    "))\n",
    "\n",
    "conn = engine.connect()"
   ]
  },
  {
   "cell_type": "markdown",
   "metadata": {},
   "source": [
    "## Load the data"
   ]
  },
  {
   "cell_type": "code",
   "execution_count": 3,
   "metadata": {},
   "outputs": [
    {
     "data": {
      "text/html": [
       "<div>\n",
       "<style scoped>\n",
       "    .dataframe tbody tr th:only-of-type {\n",
       "        vertical-align: middle;\n",
       "    }\n",
       "\n",
       "    .dataframe tbody tr th {\n",
       "        vertical-align: top;\n",
       "    }\n",
       "\n",
       "    .dataframe thead th {\n",
       "        text-align: right;\n",
       "    }\n",
       "</style>\n",
       "<table border=\"1\" class=\"dataframe\">\n",
       "  <thead>\n",
       "    <tr style=\"text-align: right;\">\n",
       "      <th></th>\n",
       "      <th>city_state</th>\n",
       "      <th>year</th>\n",
       "      <th>month</th>\n",
       "      <th>day</th>\n",
       "      <th>dataid</th>\n",
       "      <th>dt</th>\n",
       "      <th>cooling</th>\n",
       "      <th>furnace</th>\n",
       "      <th>heaters</th>\n",
       "      <th>heating</th>\n",
       "      <th>solar</th>\n",
       "      <th>usage</th>\n",
       "      <th>avg_temp</th>\n",
       "      <th>hourly_temps</th>\n",
       "      <th>day_of_week</th>\n",
       "    </tr>\n",
       "  </thead>\n",
       "  <tbody>\n",
       "    <tr>\n",
       "      <th>0</th>\n",
       "      <td>Austin, Texas</td>\n",
       "      <td>2018</td>\n",
       "      <td>1</td>\n",
       "      <td>2</td>\n",
       "      <td>661</td>\n",
       "      <td>2018-01-02 00:00:00-06:00</td>\n",
       "      <td>0.000</td>\n",
       "      <td>337.424</td>\n",
       "      <td>0.0</td>\n",
       "      <td>337.424</td>\n",
       "      <td>275.095</td>\n",
       "      <td>1.281377</td>\n",
       "      <td>24.650</td>\n",
       "      <td>[25.16, 24.8, 25.16, 24.98, 24.8, 24.8, 24.62,...</td>\n",
       "      <td>Tuesday</td>\n",
       "    </tr>\n",
       "    <tr>\n",
       "      <th>1</th>\n",
       "      <td>Austin, Texas</td>\n",
       "      <td>2018</td>\n",
       "      <td>1</td>\n",
       "      <td>2</td>\n",
       "      <td>1642</td>\n",
       "      <td>2018-01-02 00:00:00-06:00</td>\n",
       "      <td>2.474</td>\n",
       "      <td>0.000</td>\n",
       "      <td>0.0</td>\n",
       "      <td>0.000</td>\n",
       "      <td>261.061</td>\n",
       "      <td>1.198648</td>\n",
       "      <td>24.650</td>\n",
       "      <td>[25.16, 24.8, 25.16, 24.98, 24.8, 24.8, 24.62,...</td>\n",
       "      <td>Tuesday</td>\n",
       "    </tr>\n",
       "    <tr>\n",
       "      <th>2</th>\n",
       "      <td>Austin, Texas</td>\n",
       "      <td>2018</td>\n",
       "      <td>1</td>\n",
       "      <td>2</td>\n",
       "      <td>2335</td>\n",
       "      <td>2018-01-02 00:00:00-06:00</td>\n",
       "      <td>2.275</td>\n",
       "      <td>475.461</td>\n",
       "      <td>0.0</td>\n",
       "      <td>475.461</td>\n",
       "      <td>236.227</td>\n",
       "      <td>1.428540</td>\n",
       "      <td>24.650</td>\n",
       "      <td>[25.16, 24.8, 25.16, 24.98, 24.8, 24.8, 24.62,...</td>\n",
       "      <td>Tuesday</td>\n",
       "    </tr>\n",
       "    <tr>\n",
       "      <th>3</th>\n",
       "      <td>Austin, Texas</td>\n",
       "      <td>2018</td>\n",
       "      <td>1</td>\n",
       "      <td>2</td>\n",
       "      <td>2361</td>\n",
       "      <td>2018-01-02 00:00:00-06:00</td>\n",
       "      <td>47.886</td>\n",
       "      <td>419.124</td>\n",
       "      <td>0.0</td>\n",
       "      <td>419.124</td>\n",
       "      <td>254.814</td>\n",
       "      <td>-0.677539</td>\n",
       "      <td>24.650</td>\n",
       "      <td>[25.16, 24.8, 25.16, 24.98, 24.8, 24.8, 24.62,...</td>\n",
       "      <td>Tuesday</td>\n",
       "    </tr>\n",
       "    <tr>\n",
       "      <th>4</th>\n",
       "      <td>Austin, Texas</td>\n",
       "      <td>2018</td>\n",
       "      <td>1</td>\n",
       "      <td>2</td>\n",
       "      <td>2818</td>\n",
       "      <td>2018-01-02 00:00:00-06:00</td>\n",
       "      <td>0.242</td>\n",
       "      <td>399.285</td>\n",
       "      <td>0.0</td>\n",
       "      <td>399.285</td>\n",
       "      <td>243.497</td>\n",
       "      <td>0.985386</td>\n",
       "      <td>24.650</td>\n",
       "      <td>[25.16, 24.8, 25.16, 24.98, 24.8, 24.8, 24.62,...</td>\n",
       "      <td>Tuesday</td>\n",
       "    </tr>\n",
       "    <tr>\n",
       "      <th>...</th>\n",
       "      <td>...</td>\n",
       "      <td>...</td>\n",
       "      <td>...</td>\n",
       "      <td>...</td>\n",
       "      <td>...</td>\n",
       "      <td>...</td>\n",
       "      <td>...</td>\n",
       "      <td>...</td>\n",
       "      <td>...</td>\n",
       "      <td>...</td>\n",
       "      <td>...</td>\n",
       "      <td>...</td>\n",
       "      <td>...</td>\n",
       "      <td>...</td>\n",
       "      <td>...</td>\n",
       "    </tr>\n",
       "    <tr>\n",
       "      <th>8640</th>\n",
       "      <td>Austin, Texas</td>\n",
       "      <td>2018</td>\n",
       "      <td>12</td>\n",
       "      <td>31</td>\n",
       "      <td>8565</td>\n",
       "      <td>2018-12-31 00:00:00-06:00</td>\n",
       "      <td>38.654</td>\n",
       "      <td>439.949</td>\n",
       "      <td>0.0</td>\n",
       "      <td>439.949</td>\n",
       "      <td>0.000</td>\n",
       "      <td>1.551472</td>\n",
       "      <td>44.675</td>\n",
       "      <td>[38.480000000000004, 38.3, 37.94, 38.12, 37.94...</td>\n",
       "      <td>Monday</td>\n",
       "    </tr>\n",
       "    <tr>\n",
       "      <th>8641</th>\n",
       "      <td>Austin, Texas</td>\n",
       "      <td>2018</td>\n",
       "      <td>12</td>\n",
       "      <td>31</td>\n",
       "      <td>9019</td>\n",
       "      <td>2018-12-31 00:00:00-06:00</td>\n",
       "      <td>1.424</td>\n",
       "      <td>49.241</td>\n",
       "      <td>0.0</td>\n",
       "      <td>49.241</td>\n",
       "      <td>264.470</td>\n",
       "      <td>1.085366</td>\n",
       "      <td>44.675</td>\n",
       "      <td>[38.480000000000004, 38.3, 37.94, 38.12, 37.94...</td>\n",
       "      <td>Monday</td>\n",
       "    </tr>\n",
       "    <tr>\n",
       "      <th>8642</th>\n",
       "      <td>Austin, Texas</td>\n",
       "      <td>2018</td>\n",
       "      <td>12</td>\n",
       "      <td>31</td>\n",
       "      <td>9160</td>\n",
       "      <td>2018-12-31 00:00:00-06:00</td>\n",
       "      <td>0.408</td>\n",
       "      <td>137.032</td>\n",
       "      <td>0.0</td>\n",
       "      <td>137.032</td>\n",
       "      <td>631.769</td>\n",
       "      <td>0.718530</td>\n",
       "      <td>44.675</td>\n",
       "      <td>[38.480000000000004, 38.3, 37.94, 38.12, 37.94...</td>\n",
       "      <td>Monday</td>\n",
       "    </tr>\n",
       "    <tr>\n",
       "      <th>8643</th>\n",
       "      <td>Austin, Texas</td>\n",
       "      <td>2018</td>\n",
       "      <td>12</td>\n",
       "      <td>31</td>\n",
       "      <td>9278</td>\n",
       "      <td>2018-12-31 00:00:00-06:00</td>\n",
       "      <td>1205.246</td>\n",
       "      <td>208.127</td>\n",
       "      <td>0.0</td>\n",
       "      <td>208.127</td>\n",
       "      <td>793.183</td>\n",
       "      <td>2.976680</td>\n",
       "      <td>44.675</td>\n",
       "      <td>[38.480000000000004, 38.3, 37.94, 38.12, 37.94...</td>\n",
       "      <td>Monday</td>\n",
       "    </tr>\n",
       "    <tr>\n",
       "      <th>8644</th>\n",
       "      <td>Austin, Texas</td>\n",
       "      <td>2018</td>\n",
       "      <td>12</td>\n",
       "      <td>31</td>\n",
       "      <td>9922</td>\n",
       "      <td>2018-12-31 00:00:00-06:00</td>\n",
       "      <td>-4.493</td>\n",
       "      <td>327.351</td>\n",
       "      <td>0.0</td>\n",
       "      <td>327.351</td>\n",
       "      <td>0.000</td>\n",
       "      <td>3.125235</td>\n",
       "      <td>44.675</td>\n",
       "      <td>[38.480000000000004, 38.3, 37.94, 38.12, 37.94...</td>\n",
       "      <td>Monday</td>\n",
       "    </tr>\n",
       "  </tbody>\n",
       "</table>\n",
       "<p>8577 rows × 15 columns</p>\n",
       "</div>"
      ],
      "text/plain": [
       "         city_state  year  month  day  dataid                         dt  \\\n",
       "0     Austin, Texas  2018      1    2     661  2018-01-02 00:00:00-06:00   \n",
       "1     Austin, Texas  2018      1    2    1642  2018-01-02 00:00:00-06:00   \n",
       "2     Austin, Texas  2018      1    2    2335  2018-01-02 00:00:00-06:00   \n",
       "3     Austin, Texas  2018      1    2    2361  2018-01-02 00:00:00-06:00   \n",
       "4     Austin, Texas  2018      1    2    2818  2018-01-02 00:00:00-06:00   \n",
       "...             ...   ...    ...  ...     ...                        ...   \n",
       "8640  Austin, Texas  2018     12   31    8565  2018-12-31 00:00:00-06:00   \n",
       "8641  Austin, Texas  2018     12   31    9019  2018-12-31 00:00:00-06:00   \n",
       "8642  Austin, Texas  2018     12   31    9160  2018-12-31 00:00:00-06:00   \n",
       "8643  Austin, Texas  2018     12   31    9278  2018-12-31 00:00:00-06:00   \n",
       "8644  Austin, Texas  2018     12   31    9922  2018-12-31 00:00:00-06:00   \n",
       "\n",
       "       cooling  furnace  heaters  heating    solar     usage  avg_temp  \\\n",
       "0        0.000  337.424      0.0  337.424  275.095  1.281377    24.650   \n",
       "1        2.474    0.000      0.0    0.000  261.061  1.198648    24.650   \n",
       "2        2.275  475.461      0.0  475.461  236.227  1.428540    24.650   \n",
       "3       47.886  419.124      0.0  419.124  254.814 -0.677539    24.650   \n",
       "4        0.242  399.285      0.0  399.285  243.497  0.985386    24.650   \n",
       "...        ...      ...      ...      ...      ...       ...       ...   \n",
       "8640    38.654  439.949      0.0  439.949    0.000  1.551472    44.675   \n",
       "8641     1.424   49.241      0.0   49.241  264.470  1.085366    44.675   \n",
       "8642     0.408  137.032      0.0  137.032  631.769  0.718530    44.675   \n",
       "8643  1205.246  208.127      0.0  208.127  793.183  2.976680    44.675   \n",
       "8644    -4.493  327.351      0.0  327.351    0.000  3.125235    44.675   \n",
       "\n",
       "                                           hourly_temps day_of_week  \n",
       "0     [25.16, 24.8, 25.16, 24.98, 24.8, 24.8, 24.62,...     Tuesday  \n",
       "1     [25.16, 24.8, 25.16, 24.98, 24.8, 24.8, 24.62,...     Tuesday  \n",
       "2     [25.16, 24.8, 25.16, 24.98, 24.8, 24.8, 24.62,...     Tuesday  \n",
       "3     [25.16, 24.8, 25.16, 24.98, 24.8, 24.8, 24.62,...     Tuesday  \n",
       "4     [25.16, 24.8, 25.16, 24.98, 24.8, 24.8, 24.62,...     Tuesday  \n",
       "...                                                 ...         ...  \n",
       "8640  [38.480000000000004, 38.3, 37.94, 38.12, 37.94...      Monday  \n",
       "8641  [38.480000000000004, 38.3, 37.94, 38.12, 37.94...      Monday  \n",
       "8642  [38.480000000000004, 38.3, 37.94, 38.12, 37.94...      Monday  \n",
       "8643  [38.480000000000004, 38.3, 37.94, 38.12, 37.94...      Monday  \n",
       "8644  [38.480000000000004, 38.3, 37.94, 38.12, 37.94...      Monday  \n",
       "\n",
       "[8577 rows x 15 columns]"
      ]
     },
     "execution_count": 3,
     "metadata": {},
     "output_type": "execute_result"
    }
   ],
   "source": [
    "data = pd.read_sql('SELECT * FROM model_data', conn)\n",
    "\n",
    "# filter out suspect temperature values\n",
    "data = data[data['avg_temp'] > -100].copy()\n",
    "\n",
    "data['usage'] = data['usage'] + data['solar']\n",
    "\n",
    "# convert temperature from C to F\n",
    "data['avg_temp'] = (data['avg_temp']*(9.0/5.0))+32\n",
    "\n",
    "# convert usage from Wh to kWh\n",
    "data['usage'] = data['usage']/1000.0\n",
    "\n",
    "# use the actual datetime class\n",
    "data['dt'] = pd.to_datetime(data['dt'])\n",
    "\n",
    "# make a day of the week category\n",
    "data['day_of_week'] = data['dt'].apply(lambda dt: calendar.day_name[dt.weekday()])\n",
    "\n",
    "# convert array column back into an actual array, it's currently a string\n",
    "# Note: we also convert from Celcius to Farenheit while we're in the array\n",
    "data['hourly_temps'] = data['hourly_temps'].apply(lambda hourly_temps: [(float(hourly_temp)*(9.0/5.0))+32 for hourly_temp in hourly_temps.replace('[', '').replace(']', '').split(',')])\n",
    "\n",
    "# output\n",
    "data"
   ]
  },
  {
   "cell_type": "code",
   "execution_count": 6,
   "metadata": {
    "scrolled": false
   },
   "outputs": [
    {
     "data": {
      "image/png": "[encoded data removed]",
      "text/plain": [
       "<Figure size 432x288 with 1 Axes>"
      ]
     },
     "metadata": {
      "needs_background": "light"
     },
     "output_type": "display_data"
    },
    {
     "data": {
      "image/png": "[encoded data removed]",
      "text/plain": [
       "<Figure size 432x288 with 1 Axes>"
      ]
     },
     "metadata": {
      "needs_background": "light"
     },
     "output_type": "display_data"
    },
    {
     "data": {
      "image/png": "[encoded data removed]",
      "text/plain": [
       "<Figure size 432x288 with 1 Axes>"
      ]
     },
     "metadata": {
      "needs_background": "light"
     },
     "output_type": "display_data"
    },
    {
     "data": {
      "image/png": "[encoded data removed]",
      "text/plain": [
       "<Figure size 432x288 with 1 Axes>"
      ]
     },
     "metadata": {
      "needs_background": "light"
     },
     "output_type": "display_data"
    },
    {
     "data": {
      "image/png": "[encoded data removed]",
      "text/plain": [
       "<Figure size 432x288 with 1 Axes>"
      ]
     },
     "metadata": {
      "needs_background": "light"
     },
     "output_type": "display_data"
    },
    {
     "data": {
      "image/png": "[encoded data removed]",
      "text/plain": [
       "<Figure size 432x288 with 1 Axes>"
      ]
     },
     "metadata": {
      "needs_background": "light"
     },
     "output_type": "display_data"
    },
    {
     "data": {
      "image/png": "[encoded data removed]",
      "text/plain": [
       "<Figure size 432x288 with 1 Axes>"
      ]
     },
     "metadata": {
      "needs_background": "light"
     },
     "output_type": "display_data"
    },
    {
     "data": {
      "image/png": "[encoded data removed]",
      "text/plain": [
       "<Figure size 432x288 with 1 Axes>"
      ]
     },
     "metadata": {
      "needs_background": "light"
     },
     "output_type": "display_data"
    },
    {
     "data": {
      "image/png": "[encoded data removed]",
      "text/plain": [
       "<Figure size 432x288 with 1 Axes>"
      ]
     },
     "metadata": {
      "needs_background": "light"
     },
     "output_type": "display_data"
    },
    {
     "data": {
      "image/png": "[encoded data removed]",
      "text/plain": [
       "<Figure size 432x288 with 1 Axes>"
      ]
     },
     "metadata": {
      "needs_background": "light"
     },
     "output_type": "display_data"
    },
    {
     "data": {
      "image/png": "[encoded data removed]",
      "text/plain": [
       "<Figure size 432x288 with 1 Axes>"
      ]
     },
     "metadata": {
      "needs_background": "light"
     },
     "output_type": "display_data"
    },
    {
     "data": {
      "image/png": "[encoded data removed]",
      "text/plain": [
       "<Figure size 432x288 with 1 Axes>"
      ]
     },
     "metadata": {
      "needs_background": "light"
     },
     "output_type": "display_data"
    },
    {
     "data": {
      "image/png": "[encoded data removed]",
      "text/plain": [
       "<Figure size 432x288 with 1 Axes>"
      ]
     },
     "metadata": {
      "needs_background": "light"
     },
     "output_type": "display_data"
    },
    {
     "data": {
      "image/png": "[encoded data removed]",
      "text/plain": [
       "<Figure size 432x288 with 1 Axes>"
      ]
     },
     "metadata": {
      "needs_background": "light"
     },
     "output_type": "display_data"
    },
    {
     "data": {
      "image/png": "[encoded data removed]",
      "text/plain": [
       "<Figure size 432x288 with 1 Axes>"
      ]
     },
     "metadata": {
      "needs_background": "light"
     },
     "output_type": "display_data"
    },
    {
     "data": {
      "image/png": "[encoded data removed]",
      "text/plain": [
       "<Figure size 432x288 with 1 Axes>"
      ]
     },
     "metadata": {
      "needs_background": "light"
     },
     "output_type": "display_data"
    },
    {
     "data": {
      "image/png": "[encoded data removed]",
      "text/plain": [
       "<Figure size 432x288 with 1 Axes>"
      ]
     },
     "metadata": {
      "needs_background": "light"
     },
     "output_type": "display_data"
    },
    {
     "data": {
      "image/png": "[encoded data removed]",
      "text/plain": [
       "<Figure size 432x288 with 1 Axes>"
      ]
     },
     "metadata": {
      "needs_background": "light"
     },
     "output_type": "display_data"
    },
    {
     "data": {
      "image/png": "[encoded data removed]",
      "text/plain": [
       "<Figure size 432x288 with 1 Axes>"
      ]
     },
     "metadata": {
      "needs_background": "light"
     },
     "output_type": "display_data"
    },
    {
     "data": {
      "image/png": "[encoded data removed]",
      "text/plain": [
       "<Figure size 432x288 with 1 Axes>"
      ]
     },
     "metadata": {
      "needs_background": "light"
     },
     "output_type": "display_data"
    },
    {
     "data": {
      "image/png": "[encoded data removed]",
      "text/plain": [
       "<Figure size 432x288 with 1 Axes>"
      ]
     },
     "metadata": {
      "needs_background": "light"
     },
     "output_type": "display_data"
    },
    {
     "data": {
      "image/png": "[encoded data removed]",
      "text/plain": [
       "<Figure size 432x288 with 1 Axes>"
      ]
     },
     "metadata": {
      "needs_background": "light"
     },
     "output_type": "display_data"
    },
    {
     "data": {
      "image/png": "[encoded data removed]",
      "text/plain": [
       "<Figure size 432x288 with 1 Axes>"
      ]
     },
     "metadata": {
      "needs_background": "light"
     },
     "output_type": "display_data"
    },
    {
     "data": {
      "image/png": "[encoded data removed]",
      "text/plain": [
       "<Figure size 432x288 with 1 Axes>"
      ]
     },
     "metadata": {
      "needs_background": "light"
     },
     "output_type": "display_data"
    },
    {
     "data": {
      "image/png": "[encoded data removed]",
      "text/plain": [
       "<Figure size 432x288 with 1 Axes>"
      ]
     },
     "metadata": {
      "needs_background": "light"
     },
     "output_type": "display_data"
    }
   ],
   "source": [
    "dataids = data['dataid'].unique()\n",
    "for dataid in dataids:\n",
    "    data_dataid = data[data['dataid'] == dataid]\n",
    "\n",
    "    plt.title('dataid: ' + str(dataid))\n",
    "    plt.scatter(data_dataid['avg_temp'], data_dataid['usage'])\n",
    "    plt.xlabel('Temperature, F')\n",
    "    plt.ylabel('Usage kWh')\n",
    "    plt.show()"
   ]
  },
  {
   "cell_type": "markdown",
   "metadata": {},
   "source": [
    "## Run the balance search"
   ]
  },
  {
   "cell_type": "code",
   "execution_count": 266,
   "metadata": {},
   "outputs": [],
   "source": [
    "balances = np.arange(40,81)\n",
    "distances = np.arange(0,21)\n",
    "\n",
    "results_dataids = []\n",
    "\n",
    "for dataid in dataids:\n",
    "    data_dataid = data[data['dataid'] == dataid].copy()\n",
    "\n",
    "    temps = np.array(data_dataid['hourly_temps'].tolist())\n",
    "\n",
    "    with parallel_backend('loky', n_jobs=-1):\n",
    "        results = Parallel()(delayed(score_balance)(data_dataid, temps, balance, distance) for balance in balances for distance in distances)\n",
    "\n",
    "    results_dataids.append({\n",
    "        'dataid': dataid,\n",
    "        'results': results\n",
    "    })\n"
   ]
  },
  {
   "cell_type": "markdown",
   "metadata": {},
   "source": [
    "## Look at the optimization surface"
   ]
  },
  {
   "cell_type": "code",
   "execution_count": 100,
   "metadata": {},
   "outputs": [
    {
     "data": {
      "application/vnd.plotly.v1+json": {
       "config": {
        "plotlyServerURL": "https://plot.ly"
       },
       "data": [
        {
         "type": "surface",
         "z": [
          [
           221.77046218655136,
           222.1226916136187,
           222.2574888991248,
           222.19565707142863,
           221.94636282731727,
           221.53912647912958,
           221.01054377538622,
           220.33407214246907,
           219.5373003276623,
           218.63844219611113,
           217.6481659108571,
           216.57538923417303,
           215.41091687411287,
           214.14794216065877,
           212.818282301675,
           211.41397434882344,
           209.8894321286754,
           208.26117515083894,
           206.55910389354267,
           204.76938957440584,
           202.9087259247317
          ],
          [
           218.54332924629497,
           218.94084867613117,
           219.12026161108832,
           219.0943960184639,
           218.88698482432042,
           218.4951392217713,
           217.9233577584916,
           217.19389834055616,
           216.35679195476825,
           215.4086386054168,
           214.35150988107495,
           213.18957564354585,
           211.94459183514954,
           210.61116649107777,
           209.16250012442165,
           207.6003423478399,
           205.94680157610318,
           204.2012810449262,
           202.37514091357718,
           200.44947311013217,
           198.4582633396781
          ],
          [
           214.91795287192275,
           215.3480611403597,
           215.59706013463156,
           215.62328300170958,
           215.4388045905359,
           215.04916156156634,
           214.49537787760661,
           213.79749696675205,
           212.93623561043773,
           211.92084159274066,
           210.80952016285764,
           209.58457041356942,
           208.22997280338296,
           206.75661940675593,
           205.17653192810107,
           203.49207884974828,
           201.73103860294594,
           199.86175919613967,
           197.91190940004657,
           195.88427391126612,
           193.77798519959424
          ],
          [
           211.1706065795986,
           211.53190397080166,
           211.71464983717786,
           211.73929838960336,
           211.59605794236376,
           211.27226336606913,
           210.75681946123717,
           210.0414240705985,
           209.17855889654763,
           208.17267576872467,
           206.9878427176451,
           205.6420128324161,
           204.1783035038622,
           202.5874115626831,
           200.90777715833536,
           199.11537248434928,
           197.22922565272796,
           195.25483810783223,
           193.20543893572864,
           191.08604746060968,
           188.91211371300702
          ],
          [
           207.15614237266644,
           207.50605051800872,
           207.67256063864227,
           207.6526608574045,
           207.46788441783477,
           207.12310091377748,
           206.62637697689442,
           205.95316622015807,
           205.07532838765474,
           203.99509378091864,
           202.74816114886968,
           201.34699794948543,
           199.81342667221054,
           198.1308140271419,
           196.34653734761125,
           194.4541913820784,
           192.47648944983968,
           190.4246891361619,
           188.30667000503036,
           186.16331397496648,
           183.97956637473246
          ],
          [
           202.96934462773922,
           203.28436510207462,
           203.42903828846408,
           203.3768212989447,
           203.15752170503367,
           202.75483222441554,
           202.16951373646276,
           201.4202807102234,
           200.49880624350524,
           199.39124515605891,
           198.12927568005514,
           196.6800376923667,
           195.08557496846376,
           193.36022616199244,
           191.510216525371,
           189.55427455475862,
           187.52603423964337,
           185.45503271031544,
           183.33483082546437,
           181.17071106382684,
           178.9744540399471
          ],
          [
           198.7135364321274,
           198.93600595573216,
           198.98854105831657,
           198.88589999563516,
           198.59246634349938,
           198.10265419817668,
           197.42606768214142,
           196.55559074188847,
           195.55231505376423,
           194.39720200743463,
           193.09293086096034,
           191.63004793007252,
           190.02301554821574,
           188.27465186785108,
           186.41417872985573,
           184.4913048063872,
           182.48318468470654,
           180.40333562938085,
           178.28672143948356,
           176.1241053740207,
           173.92529359045906
          ],
          [
           194.24156750313452,
           194.4237166135809,
           194.40652424827834,
           194.16209293477212,
           193.72511190223221,
           193.11753339024835,
           192.37274270546484,
           191.44707848637984,
           190.3600900160965,
           189.10830776670494,
           187.7319631890604,
           186.24690422026424,
           184.64717376791734,
           182.96067190403522,
           181.17127584410096,
           179.2773130840354,
           177.31003328601173,
           175.2788852394186,
           173.17838043084387,
           171.02115186783314,
           168.8366530178899
          ],
          [
           189.57691917687157,
           189.6644138824331,
           189.505074364356,
           189.14705525290748,
           188.64663682185525,
           187.93826805287213,
           187.0642237279868,
           186.04745492126403,
           184.9014563378728,
           183.62022183966081,
           182.21459058693202,
           180.71773151133524,
           179.13571538918887,
           177.47909639073444,
           175.7472238967327,
           173.9287702403025,
           172.02534050302717,
           170.03521049026344,
           167.98360933724808,
           165.87997692591486,
           163.7203697756451
          ],
          [
           184.50405369783655,
           184.522328443378,
           184.34507821519858,
           183.93409563911445,
           183.30733104416262,
           182.5127523751506,
           181.58339358901023,
           180.49467414004752,
           179.27863084205217,
           177.9929828706119,
           176.61732759017536,
           175.1436240168429,
           173.5865932364225,
           171.93813404711807,
           170.22122261111159,
           168.4460542517604,
           166.60696424582494,
           164.69413651195052,
           162.71151882346152,
           160.64233464177428,
           158.49600040032524
          ],
          [
           179.16073588470988,
           179.09505195359563,
           178.85349729257294,
           178.39951848850964,
           177.76088853847895,
           176.93746566738784,
           175.9399993918013,
           174.85040359123923,
           173.66652157137298,
           172.36398030707718,
           170.97643606262153,
           169.51685928712357,
           167.98480953433284,
           166.37504165793183,
           164.69381548944287,
           162.9338074172896,
           161.11876986691556,
           159.24314389447545,
           157.28814379372196,
           155.26035423959956,
           153.15601549142832
          ],
          [
           173.62109605208198,
           173.47838802747864,
           173.1565479024817,
           172.64286194553299,
           171.99262882225423,
           171.20975832626272,
           170.28512130228512,
           169.21469666367034,
           168.01674859275002,
           166.72702862534956,
           165.3638184507057,
           163.90781279582606,
           162.37878222948518,
           160.78921135870777,
           159.1410027061582,
           157.4149650965194,
           155.60317883314826,
           153.7132297266197,
           151.75905881185847,
           149.76313473396002,
           147.74474064121623
          ],
          [
           167.97739203465517,
           167.74827376404204,
           167.3684234531627,
           166.864271172852,
           166.22018618053045,
           165.42119758475744,
           164.52955474989548,
           163.510079174244,
           162.37501562409093,
           161.12309643923427,
           159.75949519210627,
           158.3193603579688,
           156.82244597119026,
           155.23591473892813,
           153.5633514437186,
           151.82792973697863,
           150.023460013843,
           148.1612054493618,
           146.2720230613527,
           144.33344070209463,
           142.36521091828314
          ],
          [
           162.36646809059562,
           162.08155329464932,
           161.66906310329892,
           161.11745737573202,
           160.45842705873585,
           159.6792701354459,
           158.78810757559194,
           157.77523592116017,
           156.6835080669576,
           155.484402866092,
           154.1915673248315,
           152.78690196424088,
           151.2628058084305,
           149.66083638413244,
           147.9909637888073,
           146.25338648974605,
           144.48956953606273,
           142.69079781521773,
           140.85808005472273,
           138.98732257441475,
           137.08744067860607
          ],
          [
           157.00815380497423,
           156.5961114802401,
           156.0825235974889,
           155.48722022593742,
           154.7922401826432,
           153.99414437979448,
           153.10425594896685,
           152.1160842250595,
           151.03919830222424,
           149.84727251497898,
           148.56877358486776,
           147.18443045717376,
           145.6967102421366,
           144.11993223413214,
           142.48782858134388,
           140.80856046030735,
           139.09726296083423,
           137.3406211252527,
           135.55379631817254,
           133.7998703595629,
           132.05097347270103
          ],
          [
           151.7927227965592,
           151.3082461055864,
           150.7332768494887,
           150.05276254682013,
           149.28339939673538,
           148.45095844035455,
           147.5431195719043,
           146.5405172998376,
           145.4425293460123,
           144.2465684265016,
           142.95017000772367,
           141.5616791373968,
           140.14957968338723,
           138.66711894106032,
           137.12085339488723,
           135.50960518185929,
           133.8406054331516,
           132.1941491930351,
           130.55662892954035,
           128.9357955068472,
           127.34227940247096
          ],
          [
           146.78907221959113,
           146.22511732594722,
           145.5721996406209,
           144.83433952624708,
           144.02666174400954,
           143.12166463202678,
           142.12653382001932,
           141.06485505095125,
           139.91463563153482,
           138.6932966251317,
           137.44251949662055,
           136.13075462219467,
           134.75782163863664,
           133.31691410611091,
           131.84548549957213,
           130.37717285868493,
           128.89103179498713,
           127.40224195611313,
           125.91771891824764,
           124.46570524915232,
           123.07257562044202
          ],
          [
           141.99296492730284,
           141.35662449053734,
           140.6445037655458,
           139.84062862335034,
           138.9459049579831,
           137.9615806586314,
           136.89158713916905,
           135.75001576827313,
           134.58681355007403,
           133.39418082788717,
           132.15376086434915,
           130.8666000066842,
           129.54172769256218,
           128.22925145705256,
           126.90361237179472,
           125.57036283940336,
           124.26595295907013,
           122.97605742464705,
           121.72045742956668,
           120.51063405015414,
           119.3388767350759
          ],
          [
           137.43451313546274,
           136.7251747753171,
           135.92104829668008,
           135.0213989156192,
           134.02778533565643,
           132.96715912947462,
           131.8864737294848,
           130.75865920379013,
           129.58770576825034,
           128.3730106679475,
           127.12798991237013,
           125.92438392972508,
           124.72332675928384,
           123.53366841220331,
           122.36663033920107,
           121.22107139310981,
           120.11209689390967,
           119.04312985139981,
           118.03096304859466,
           117.10507216798231,
           116.31065494660834
          ],
          [
           133.06086110255583,
           132.27025302741916,
           131.36558290702368,
           130.37837022747235,
           129.36792840042625,
           128.30925596939295,
           127.203518462547,
           126.05978034047526,
           124.8871583454627,
           123.74210629275261,
           122.6070997251145,
           121.48647764882165,
           120.39676959344865,
           119.35320271416923,
           118.35956821422482,
           117.42330362181599,
           116.53597764712663,
           115.74056633353248,
           115.076128419703,
           114.54204912558215,
           114.13017268286535
          ],
          [
           128.7917592426528,
           127.94588001975784,
           127.04914975957792,
           126.08091673077514,
           125.04821042180637,
           123.96517785058619,
           122.85090091513445,
           121.76587732831143,
           120.69163243871293,
           119.63597258310152,
           118.61358172789868,
           117.62558433079633,
           116.69396212132871,
           115.82299609456273,
           115.00724213717386,
           114.30484937795445,
           113.74420125930006,
           113.32885024746076,
           113.02683862564119,
           112.81286076481933,
           112.6674830816329
          ],
          [
           124.77257342839617,
           123.92297522568838,
           123.02030095782804,
           122.05862030029304,
           121.04152876555663,
           120.03398923499815,
           119.02402555804734,
           118.02110224891206,
           117.05050966658577,
           116.11718217540763,
           115.24169482708758,
           114.42988582065908,
           113.6735916186257,
           113.02138693277189,
           112.51598277675043,
           112.15998249110515,
           111.92199320103539,
           111.78728996111064,
           111.72897402335143,
           111.79546795840989,
           111.88541082430116
          ],
          [
           121.0857707988129,
           120.22567892519197,
           119.31360128699693,
           118.40953693686114,
           117.51366007512979,
           116.61585019636475,
           115.73090104865838,
           114.86627577089274,
           114.04687081818636,
           113.28038439330818,
           112.56687752589808,
           111.96140015782227,
           111.50356239898291,
           111.19811704262025,
           111.01009428344615,
           110.91636780848408,
           110.90297850684529,
           111.01821891020664,
           111.15905609637944,
           111.36749120180421,
           111.66338355256083
          ],
          [
           117.71535859659713,
           116.9214019587715,
           116.12077666758918,
           115.31532345068321,
           114.5231455689734,
           113.7483610297739,
           113.0269849469404,
           112.34940458477175,
           111.7070235257089,
           111.15840228499096,
           110.74457287606704,
           110.47469716423817,
           110.31912495278272,
           110.26017840058357,
           110.28244165291437,
           110.43581124458342,
           110.61258687403866,
           110.84832019076585,
           111.17106539845051,
           111.60824294284322,
           112.11203316607111
          ],
          [
           114.8772659480038,
           114.1576418406845,
           113.45745092492801,
           112.78035006684534,
           112.1412627244249,
           111.54240871291825,
           110.97651716853221,
           110.50082094662883,
           110.1642665220688,
           109.96425814426249,
           109.86335847608612,
           109.84511804819742,
           109.89627060053698,
           110.0719631224344,
           110.26710068785546,
           110.52215636990339,
           110.86195343624614,
           111.31477653974197,
           111.83164288240386,
           112.37351634169029,
           113.01487847802856
          ],
          [
           112.57432530678331,
           111.96894811633412,
           111.40640020372783,
           110.8825689943261,
           110.39197726792642,
           109.99437449908521,
           109.72083726161283,
           109.58249420613393,
           109.53934741847512,
           109.57293703042596,
           109.67773183055921,
           109.90060507850708,
           110.12967861845802,
           110.40580908383225,
           110.75405731481507,
           111.20782989675097,
           111.72213907486923,
           112.26236607302756,
           112.90254555094056,
           113.60472511314158,
           114.4650032246861
          ],
          [
           110.83846605616976,
           110.39076933787236,
           109.9720389024023,
           109.63488184462614,
           109.42137453098576,
           109.340614341798,
           109.35192230316383,
           109.43860222993071,
           109.5839876744198,
           109.84659844531939,
           110.11035053659262,
           110.4139553570667,
           110.78770964122452,
           111.259374703018,
           111.78170863771945,
           112.32052624212908,
           112.95188913834723,
           113.64110265334179,
           114.48837516713817,
           115.444494045232,
           116.51324406427138
          ],
          [
           109.66978590158828,
           109.41110107999698,
           109.264006348752,
           109.24220584330156,
           109.3056133548761,
           109.43121330582551,
           109.61304849617832,
           109.90983365323021,
           110.20277729267167,
           110.53197086026151,
           110.91966973425187,
           111.40272072044449,
           111.93269919223796,
           112.47421483947745,
           113.1088699176305,
           113.79705813764042,
           114.63887787668655,
           115.58509341302079,
           116.63924576775652,
           117.85009888254314,
           119.1320553318405
          ],
          [
           109.19024352042172,
           109.2319695659098,
           109.35423812772954,
           109.53230779685602,
           109.75356928819348,
           110.08215091392609,
           110.39948547567974,
           110.74190403979547,
           111.13843786361936,
           111.62706306238574,
           112.15945431317516,
           112.70171340383894,
           113.33132130855365,
           114.01415791472942,
           114.84981355916088,
           115.78805776842782,
           116.83512873383377,
           118.03627844713873,
           119.30566644611874,
           120.75579206242088,
           122.42532398731169
          ],
          [
           109.47239259179253,
           109.6966302686498,
           109.95509930150178,
           110.31727115068607,
           110.66100935339712,
           111.02290091586657,
           111.42740797716296,
           111.91701023181903,
           112.44680868179805,
           112.98070574033568,
           113.60125598494962,
           114.27465517893029,
           115.1001673155884,
           116.02812506391736,
           117.06133323027115,
           118.24879848437291,
           119.50367453211663,
           120.93721905555425,
           122.58976771568328,
           124.39945689083667,
           126.32541729570485
          ],
          [
           110.17211175540321,
           110.59135034718133,
           110.96555150015911,
           111.33962181118272,
           111.74803956052496,
           112.23760124772376,
           112.76385897558151,
           113.29118769393018,
           113.90053657918274,
           114.55990711561708,
           115.3707542367774,
           116.28143594140548,
           117.29707897624186,
           118.46680145458656,
           119.702855359959,
           121.11592607895139,
           122.74475094558551,
           124.52964494339878,
           126.42950177681736,
           128.3232041809661,
           130.36584329627973
          ],
          [
           111.19632226533624,
           111.62722297836454,
           112.06660245456857,
           112.57002057287475,
           113.09314640617686,
           113.6078009189175,
           114.2017547152277,
           114.84480580979651,
           115.63841819742363,
           116.53037208850468,
           117.52470350323016,
           118.67120762591497,
           119.88334305664961,
           121.26970469307852,
           122.8699336095808,
           124.62431917841269,
           126.49173613298466,
           128.35106821829103,
           130.35805633378158,
           132.5797873723752,
           135.05262903521734
          ],
          [
           112.25850947237318,
           112.8052851418841,
           113.35752649110985,
           113.88709452922753,
           114.48116817033947,
           115.11516412999661,
           115.89003577236896,
           116.75756037493676,
           117.72565132420357,
           118.84489209086256,
           120.0286461399024,
           121.38385098071139,
           122.94982846550519,
           124.66712853043698,
           126.49541044772906,
           128.31341414737597,
           130.27768438696611,
           132.45432720750307,
           134.87814768768663,
           137.635409072829,
           140.70933360259247
          ],
          [
           113.49889017403144,
           114.05382364865424,
           114.6664424487588,
           115.30817449888441,
           116.08157869539377,
           116.93783605608577,
           117.88533114142021,
           118.9776697015791,
           120.12893978062824,
           121.44710070856772,
           122.97302833160293,
           124.64746730999312,
           126.43013293078934,
           128.19973996053903,
           130.11377273083787,
           132.237862140499,
           134.6037633662939,
           137.29848368824804,
           140.30497481900355,
           143.34702312782525,
           146.56221729260102
          ],
          [
           114.76272581680797,
           115.41461985695287,
           116.19204501420285,
           117.04377259885436,
           117.9792730957674,
           119.05053606167323,
           120.17305938784642,
           121.45379767643537,
           122.9350060068008,
           124.55887338027836,
           126.28816886405008,
           128.00300143061523,
           129.8610200142262,
           131.92594452359032,
           134.2260257919805,
           136.84815565392998,
           139.7759518791266,
           142.73893880376784,
           145.87161844318396,
           149.27883558016828,
           153.01403014740708
          ],
          [
           116.25030533645163,
           117.09893239737626,
           118.02588447356527,
           119.08050935503132,
           120.17813451000416,
           121.42408752380662,
           122.86017773836902,
           124.42930386150951,
           126.09530103929524,
           127.74016221360048,
           129.52562661633837,
           131.51452577990082,
           133.7374767412469,
           136.28007460617928,
           139.12328912455123,
           141.99955055111923,
           145.04036082179172,
           148.34997177046588,
           151.98394244767084,
           156.00047866465815,
           160.39474163451231
          ],
          [
           118.05083115226185,
           119.09168196949756,
           120.16952789415596,
           121.38755657215647,
           122.78489109599809,
           124.30424905745755,
           125.90872474042116,
           127.48248130746629,
           129.18635712273806,
           131.0848613144514,
           133.2056249412529,
           135.63591173775745,
           138.36245545341865,
           141.12382351997277,
           144.05740811548955,
           147.26248249616813,
           150.7905331629159,
           154.69488321543946,
           158.9693767212136,
           163.6916631339594,
           168.73163725567295
          ],
          [
           120.15707832072886,
           121.35205630601983,
           122.71966842302909,
           124.20035180785734,
           125.75718525350086,
           127.27112898099664,
           128.90038406973397,
           130.7116725738064,
           132.72888337004184,
           135.04195789418793,
           137.6344079491329,
           140.25468085432684,
           143.03677778646,
           146.08279232386045,
           149.45468620064227,
           153.20508695293069,
           157.3398341143732,
           161.93036928427816,
           166.8395770410085,
           171.90492442427822,
           177.221679358892
          ],
          [
           122.6623464906176,
           124.11150272180868,
           125.62829719280332,
           127.09334420701819,
           128.66714780846218,
           130.4103647325961,
           132.34587177913747,
           134.55613793417524,
           137.02081766896535,
           139.49975606885707,
           142.12377409209165,
           144.99964713137823,
           148.18660860136183,
           151.7410780162457,
           155.66848382401685,
           160.04752691415297,
           164.7547871289565,
           169.62990162532304,
           174.77775256556873,
           180.64541603794862,
           187.0729544835595
          ],
          [
           125.51844396536626,
           126.94310298437142,
           128.4688917997581,
           130.15651526979372,
           132.0226620618059,
           134.14826228015548,
           136.51658268710315,
           138.88233343330927,
           141.37669327278897,
           144.09602993976566,
           147.09617142670263,
           150.44421458523215,
           154.1461608137819,
           158.29253817138326,
           162.7575238742604,
           167.38415491023406,
           172.2702976122869,
           177.85633809391678,
           184.0019848983966,
           190.75331530871003,
           198.29045844048636
          ],
          [
           128.31318341559043,
           129.9450728937631,
           131.74658396659797,
           133.8016337689883,
           136.0865378734912,
           138.35976200856177,
           140.74349676026222,
           143.3324679085994,
           146.18767577032452,
           149.3628888009394,
           152.8685077915308,
           156.78467983268018,
           160.9852916278377,
           165.33323925441755,
           169.92616426642834,
           175.2004963205226,
           181.01399509171685,
           187.4168173818963,
           194.5733070439736,
           202.2824865288406,
           210.81319147005325
          ]
         ]
        }
       ],
       "layout": {
        "autosize": false,
        "height": 500,
        "margin": {
         "b": 65,
         "l": 65,
         "r": 50,
         "t": 90
        },
        "scene": {
         "xaxis": {
          "title": {
           "text": "Distance"
          }
         },
         "yaxis": {
          "title": {
           "text": "Balance Point - 40"
          }
         },
         "zaxis": {
          "title": {
           "text": "SSR"
          }
         }
        },
        "template": {
         "data": {
          "bar": [
           {
            "error_x": {
             "color": "#2a3f5f"
            },
            "error_y": {
             "color": "#2a3f5f"
            },
            "marker": {
             "line": {
              "color": "#E5ECF6",
              "width": 0.5
             }
            },
            "type": "bar"
           }
          ],
          "barpolar": [
           {
            "marker": {
             "line": {
              "color": "#E5ECF6",
              "width": 0.5
             }
            },
            "type": "barpolar"
           }
          ],
          "carpet": [
           {
            "aaxis": {
             "endlinecolor": "#2a3f5f",
             "gridcolor": "white",
             "linecolor": "white",
             "minorgridcolor": "white",
             "startlinecolor": "#2a3f5f"
            },
            "baxis": {
             "endlinecolor": "#2a3f5f",
             "gridcolor": "white",
             "linecolor": "white",
             "minorgridcolor": "white",
             "startlinecolor": "#2a3f5f"
            },
            "type": "carpet"
           }
          ],
          "choropleth": [
           {
            "colorbar": {
             "outlinewidth": 0,
             "ticks": ""
            },
            "type": "choropleth"
           }
          ],
          "contour": [
           {
            "colorbar": {
             "outlinewidth": 0,
             "ticks": ""
            },
            "colorscale": [
             [
              0,
              "#0d0887"
             ],
             [
              0.1111111111111111,
              "#46039f"
             ],
             [
              0.2222222222222222,
              "#7201a8"
             ],
             [
              0.3333333333333333,
              "#9c179e"
             ],
             [
              0.4444444444444444,
              "#bd3786"
             ],
             [
              0.5555555555555556,
              "#d8576b"
             ],
             [
              0.6666666666666666,
              "#ed7953"
             ],
             [
              0.7777777777777778,
              "#fb9f3a"
             ],
             [
              0.8888888888888888,
              "#fdca26"
             ],
             [
              1,
              "#f0f921"
             ]
            ],
            "type": "contour"
           }
          ],
          "contourcarpet": [
           {
            "colorbar": {
             "outlinewidth": 0,
             "ticks": ""
            },
            "type": "contourcarpet"
           }
          ],
          "heatmap": [
           {
            "colorbar": {
             "outlinewidth": 0,
             "ticks": ""
            },
            "colorscale": [
             [
              0,
              "#0d0887"
             ],
             [
              0.1111111111111111,
              "#46039f"
             ],
             [
              0.2222222222222222,
              "#7201a8"
             ],
             [
              0.3333333333333333,
              "#9c179e"
             ],
             [
              0.4444444444444444,
              "#bd3786"
             ],
             [
              0.5555555555555556,
              "#d8576b"
             ],
             [
              0.6666666666666666,
              "#ed7953"
             ],
             [
              0.7777777777777778,
              "#fb9f3a"
             ],
             [
              0.8888888888888888,
              "#fdca26"
             ],
             [
              1,
              "#f0f921"
             ]
            ],
            "type": "heatmap"
           }
          ],
          "heatmapgl": [
           {
            "colorbar": {
             "outlinewidth": 0,
             "ticks": ""
            },
            "colorscale": [
             [
              0,
              "#0d0887"
             ],
             [
              0.1111111111111111,
              "#46039f"
             ],
             [
              0.2222222222222222,
              "#7201a8"
             ],
             [
              0.3333333333333333,
              "#9c179e"
             ],
             [
              0.4444444444444444,
              "#bd3786"
             ],
             [
              0.5555555555555556,
              "#d8576b"
             ],
             [
              0.6666666666666666,
              "#ed7953"
             ],
             [
              0.7777777777777778,
              "#fb9f3a"
             ],
             [
              0.8888888888888888,
              "#fdca26"
             ],
             [
              1,
              "#f0f921"
             ]
            ],
            "type": "heatmapgl"
           }
          ],
          "histogram": [
           {
            "marker": {
             "colorbar": {
              "outlinewidth": 0,
              "ticks": ""
             }
            },
            "type": "histogram"
           }
          ],
          "histogram2d": [
           {
            "colorbar": {
             "outlinewidth": 0,
             "ticks": ""
            },
            "colorscale": [
             [
              0,
              "#0d0887"
             ],
             [
              0.1111111111111111,
              "#46039f"
             ],
             [
              0.2222222222222222,
              "#7201a8"
             ],
             [
              0.3333333333333333,
              "#9c179e"
             ],
             [
              0.4444444444444444,
              "#bd3786"
             ],
             [
              0.5555555555555556,
              "#d8576b"
             ],
             [
              0.6666666666666666,
              "#ed7953"
             ],
             [
              0.7777777777777778,
              "#fb9f3a"
             ],
             [
              0.8888888888888888,
              "#fdca26"
             ],
             [
              1,
              "#f0f921"
             ]
            ],
            "type": "histogram2d"
           }
          ],
          "histogram2dcontour": [
           {
            "colorbar": {
             "outlinewidth": 0,
             "ticks": ""
            },
            "colorscale": [
             [
              0,
              "#0d0887"
             ],
             [
              0.1111111111111111,
              "#46039f"
             ],
             [
              0.2222222222222222,
              "#7201a8"
             ],
             [
              0.3333333333333333,
              "#9c179e"
             ],
             [
              0.4444444444444444,
              "#bd3786"
             ],
             [
              0.5555555555555556,
              "#d8576b"
             ],
             [
              0.6666666666666666,
              "#ed7953"
             ],
             [
              0.7777777777777778,
              "#fb9f3a"
             ],
             [
              0.8888888888888888,
              "#fdca26"
             ],
             [
              1,
              "#f0f921"
             ]
            ],
            "type": "histogram2dcontour"
           }
          ],
          "mesh3d": [
           {
            "colorbar": {
             "outlinewidth": 0,
             "ticks": ""
            },
            "type": "mesh3d"
           }
          ],
          "parcoords": [
           {
            "line": {
             "colorbar": {
              "outlinewidth": 0,
              "ticks": ""
             }
            },
            "type": "parcoords"
           }
          ],
          "pie": [
           {
            "automargin": true,
            "type": "pie"
           }
          ],
          "scatter": [
           {
            "marker": {
             "colorbar": {
              "outlinewidth": 0,
              "ticks": ""
             }
            },
            "type": "scatter"
           }
          ],
          "scatter3d": [
           {
            "line": {
             "colorbar": {
              "outlinewidth": 0,
              "ticks": ""
             }
            },
            "marker": {
             "colorbar": {
              "outlinewidth": 0,
              "ticks": ""
             }
            },
            "type": "scatter3d"
           }
          ],
          "scattercarpet": [
           {
            "marker": {
             "colorbar": {
              "outlinewidth": 0,
              "ticks": ""
             }
            },
            "type": "scattercarpet"
           }
          ],
          "scattergeo": [
           {
            "marker": {
             "colorbar": {
              "outlinewidth": 0,
              "ticks": ""
             }
            },
            "type": "scattergeo"
           }
          ],
          "scattergl": [
           {
            "marker": {
             "colorbar": {
              "outlinewidth": 0,
              "ticks": ""
             }
            },
            "type": "scattergl"
           }
          ],
          "scattermapbox": [
           {
            "marker": {
             "colorbar": {
              "outlinewidth": 0,
              "ticks": ""
             }
            },
            "type": "scattermapbox"
           }
          ],
          "scatterpolar": [
           {
            "marker": {
             "colorbar": {
              "outlinewidth": 0,
              "ticks": ""
             }
            },
            "type": "scatterpolar"
           }
          ],
          "scatterpolargl": [
           {
            "marker": {
             "colorbar": {
              "outlinewidth": 0,
              "ticks": ""
             }
            },
            "type": "scatterpolargl"
           }
          ],
          "scatterternary": [
           {
            "marker": {
             "colorbar": {
              "outlinewidth": 0,
              "ticks": ""
             }
            },
            "type": "scatterternary"
           }
          ],
          "surface": [
           {
            "colorbar": {
             "outlinewidth": 0,
             "ticks": ""
            },
            "colorscale": [
             [
              0,
              "#0d0887"
             ],
             [
              0.1111111111111111,
              "#46039f"
             ],
             [
              0.2222222222222222,
              "#7201a8"
             ],
             [
              0.3333333333333333,
              "#9c179e"
             ],
             [
              0.4444444444444444,
              "#bd3786"
             ],
             [
              0.5555555555555556,
              "#d8576b"
             ],
             [
              0.6666666666666666,
              "#ed7953"
             ],
             [
              0.7777777777777778,
              "#fb9f3a"
             ],
             [
              0.8888888888888888,
              "#fdca26"
             ],
             [
              1,
              "#f0f921"
             ]
            ],
            "type": "surface"
           }
          ],
          "table": [
           {
            "cells": {
             "fill": {
              "color": "#EBF0F8"
             },
             "line": {
              "color": "white"
             }
            },
            "header": {
             "fill": {
              "color": "#C8D4E3"
             },
             "line": {
              "color": "white"
             }
            },
            "type": "table"
           }
          ]
         },
         "layout": {
          "annotationdefaults": {
           "arrowcolor": "#2a3f5f",
           "arrowhead": 0,
           "arrowwidth": 1
          },
          "coloraxis": {
           "colorbar": {
            "outlinewidth": 0,
            "ticks": ""
           }
          },
          "colorscale": {
           "diverging": [
            [
             0,
             "#8e0152"
            ],
            [
             0.1,
             "#c51b7d"
            ],
            [
             0.2,
             "#de77ae"
            ],
            [
             0.3,
             "#f1b6da"
            ],
            [
             0.4,
             "#fde0ef"
            ],
            [
             0.5,
             "#f7f7f7"
            ],
            [
             0.6,
             "#e6f5d0"
            ],
            [
             0.7,
             "#b8e186"
            ],
            [
             0.8,
             "#7fbc41"
            ],
            [
             0.9,
             "#4d9221"
            ],
            [
             1,
             "#276419"
            ]
           ],
           "sequential": [
            [
             0,
             "#0d0887"
            ],
            [
             0.1111111111111111,
             "#46039f"
            ],
            [
             0.2222222222222222,
             "#7201a8"
            ],
            [
             0.3333333333333333,
             "#9c179e"
            ],
            [
             0.4444444444444444,
             "#bd3786"
            ],
            [
             0.5555555555555556,
             "#d8576b"
            ],
            [
             0.6666666666666666,
             "#ed7953"
            ],
            [
             0.7777777777777778,
             "#fb9f3a"
            ],
            [
             0.8888888888888888,
             "#fdca26"
            ],
            [
             1,
             "#f0f921"
            ]
           ],
           "sequentialminus": [
            [
             0,
             "#0d0887"
            ],
            [
             0.1111111111111111,
             "#46039f"
            ],
            [
             0.2222222222222222,
             "#7201a8"
            ],
            [
             0.3333333333333333,
             "#9c179e"
            ],
            [
             0.4444444444444444,
             "#bd3786"
            ],
            [
             0.5555555555555556,
             "#d8576b"
            ],
            [
             0.6666666666666666,
             "#ed7953"
            ],
            [
             0.7777777777777778,
             "#fb9f3a"
            ],
            [
             0.8888888888888888,
             "#fdca26"
            ],
            [
             1,
             "#f0f921"
            ]
           ]
          },
          "colorway": [
           "#636efa",
           "#EF553B",
           "#00cc96",
           "#ab63fa",
           "#FFA15A",
           "#19d3f3",
           "#FF6692",
           "#B6E880",
           "#FF97FF",
           "#FECB52"
          ],
          "font": {
           "color": "#2a3f5f"
          },
          "geo": {
           "bgcolor": "white",
           "lakecolor": "white",
           "landcolor": "#E5ECF6",
           "showlakes": true,
           "showland": true,
           "subunitcolor": "white"
          },
          "hoverlabel": {
           "align": "left"
          },
          "hovermode": "closest",
          "mapbox": {
           "style": "light"
          },
          "paper_bgcolor": "white",
          "plot_bgcolor": "#E5ECF6",
          "polar": {
           "angularaxis": {
            "gridcolor": "white",
            "linecolor": "white",
            "ticks": ""
           },
           "bgcolor": "#E5ECF6",
           "radialaxis": {
            "gridcolor": "white",
            "linecolor": "white",
            "ticks": ""
           }
          },
          "scene": {
           "xaxis": {
            "backgroundcolor": "#E5ECF6",
            "gridcolor": "white",
            "gridwidth": 2,
            "linecolor": "white",
            "showbackground": true,
            "ticks": "",
            "zerolinecolor": "white"
           },
           "yaxis": {
            "backgroundcolor": "#E5ECF6",
            "gridcolor": "white",
            "gridwidth": 2,
            "linecolor": "white",
            "showbackground": true,
            "ticks": "",
            "zerolinecolor": "white"
           },
           "zaxis": {
            "backgroundcolor": "#E5ECF6",
            "gridcolor": "white",
            "gridwidth": 2,
            "linecolor": "white",
            "showbackground": true,
            "ticks": "",
            "zerolinecolor": "white"
           }
          },
          "shapedefaults": {
           "line": {
            "color": "#2a3f5f"
           }
          },
          "ternary": {
           "aaxis": {
            "gridcolor": "white",
            "linecolor": "white",
            "ticks": ""
           },
           "baxis": {
            "gridcolor": "white",
            "linecolor": "white",
            "ticks": ""
           },
           "bgcolor": "#E5ECF6",
           "caxis": {
            "gridcolor": "white",
            "linecolor": "white",
            "ticks": ""
           }
          },
          "title": {
           "x": 0.05
          },
          "xaxis": {
           "automargin": true,
           "gridcolor": "white",
           "linecolor": "white",
           "ticks": "",
           "title": {
            "standoff": 15
           },
           "zerolinecolor": "white",
           "zerolinewidth": 2
          },
          "yaxis": {
           "automargin": true,
           "gridcolor": "white",
           "linecolor": "white",
           "ticks": "",
           "title": {
            "standoff": 15
           },
           "zerolinecolor": "white",
           "zerolinewidth": 2
          }
         }
        },
        "title": {
         "text": "Balance Search Scores"
        },
        "width": 500
       }
      },
      "text/html": [
       "<div>\n",
       "        \n",
       "        \n",
       "            <div id=\"634cb098-8b20-4ba8-b100-777f23a186e7\" class=\"plotly-graph-div\" style=\"height:500px; width:500px;\"></div>\n",
       "            <script type=\"text/javascript\">\n",
       "                require([\"plotly\"], function(Plotly) {\n",
       "                    window.PLOTLYENV=window.PLOTLYENV || {};\n",
       "                    \n",
       "                if (document.getElementById(\"634cb098-8b20-4ba8-b100-777f23a186e7\")) {\n",
       "                    Plotly.newPlot(\n",
       "                        '634cb098-8b20-4ba8-b100-777f23a186e7',\n",
       "                        [{\"type\": \"surface\", \"z\": [[221.77046218655136, 222.1226916136187, 222.2574888991248, 222.19565707142863, 221.94636282731727, 221.53912647912958, 221.01054377538622, 220.33407214246907, 219.5373003276623, 218.63844219611113, 217.6481659108571, 216.57538923417303, 215.41091687411287, 214.14794216065877, 212.818282301675, 211.41397434882344, 209.8894321286754, 208.26117515083894, 206.55910389354267, 204.76938957440584, 202.9087259247317], [218.54332924629497, 218.94084867613117, 219.12026161108832, 219.0943960184639, 218.88698482432042, 218.4951392217713, 217.9233577584916, 217.19389834055616, 216.35679195476825, 215.4086386054168, 214.35150988107495, 213.18957564354585, 211.94459183514954, 210.61116649107777, 209.16250012442165, 207.6003423478399, 205.94680157610318, 204.2012810449262, 202.37514091357718, 200.44947311013217, 198.4582633396781], [214.91795287192275, 215.3480611403597, 215.59706013463156, 215.62328300170958, 215.4388045905359, 215.04916156156634, 214.49537787760661, 213.79749696675205, 212.93623561043773, 211.92084159274066, 210.80952016285764, 209.58457041356942, 208.22997280338296, 206.75661940675593, 205.17653192810107, 203.49207884974828, 201.73103860294594, 199.86175919613967, 197.91190940004657, 195.88427391126612, 193.77798519959424], [211.1706065795986, 211.53190397080166, 211.71464983717786, 211.73929838960336, 211.59605794236376, 211.27226336606913, 210.75681946123717, 210.0414240705985, 209.17855889654763, 208.17267576872467, 206.9878427176451, 205.6420128324161, 204.1783035038622, 202.5874115626831, 200.90777715833536, 199.11537248434928, 197.22922565272796, 195.25483810783223, 193.20543893572864, 191.08604746060968, 188.91211371300702], [207.15614237266644, 207.50605051800872, 207.67256063864227, 207.6526608574045, 207.46788441783477, 207.12310091377748, 206.62637697689442, 205.95316622015807, 205.07532838765474, 203.99509378091864, 202.74816114886968, 201.34699794948543, 199.81342667221054, 198.1308140271419, 196.34653734761125, 194.4541913820784, 192.47648944983968, 190.4246891361619, 188.30667000503036, 186.16331397496648, 183.97956637473246], [202.96934462773922, 203.28436510207462, 203.42903828846408, 203.3768212989447, 203.15752170503367, 202.75483222441554, 202.16951373646276, 201.4202807102234, 200.49880624350524, 199.39124515605891, 198.12927568005514, 196.6800376923667, 195.08557496846376, 193.36022616199244, 191.510216525371, 189.55427455475862, 187.52603423964337, 185.45503271031544, 183.33483082546437, 181.17071106382684, 178.9744540399471], [198.7135364321274, 198.93600595573216, 198.98854105831657, 198.88589999563516, 198.59246634349938, 198.10265419817668, 197.42606768214142, 196.55559074188847, 195.55231505376423, 194.39720200743463, 193.09293086096034, 191.63004793007252, 190.02301554821574, 188.27465186785108, 186.41417872985573, 184.4913048063872, 182.48318468470654, 180.40333562938085, 178.28672143948356, 176.1241053740207, 173.92529359045906], [194.24156750313452, 194.4237166135809, 194.40652424827834, 194.16209293477212, 193.72511190223221, 193.11753339024835, 192.37274270546484, 191.44707848637984, 190.3600900160965, 189.10830776670494, 187.7319631890604, 186.24690422026424, 184.64717376791734, 182.96067190403522, 181.17127584410096, 179.2773130840354, 177.31003328601173, 175.2788852394186, 173.17838043084387, 171.02115186783314, 168.8366530178899], [189.57691917687157, 189.6644138824331, 189.505074364356, 189.14705525290748, 188.64663682185525, 187.93826805287213, 187.0642237279868, 186.04745492126403, 184.9014563378728, 183.62022183966081, 182.21459058693202, 180.71773151133524, 179.13571538918887, 177.47909639073444, 175.7472238967327, 173.9287702403025, 172.02534050302717, 170.03521049026344, 167.98360933724808, 165.87997692591486, 163.7203697756451], [184.50405369783655, 184.522328443378, 184.34507821519858, 183.93409563911445, 183.30733104416262, 182.5127523751506, 181.58339358901023, 180.49467414004752, 179.27863084205217, 177.9929828706119, 176.61732759017536, 175.1436240168429, 173.5865932364225, 171.93813404711807, 170.22122261111159, 168.4460542517604, 166.60696424582494, 164.69413651195052, 162.71151882346152, 160.64233464177428, 158.49600040032524], [179.16073588470988, 179.09505195359563, 178.85349729257294, 178.39951848850964, 177.76088853847895, 176.93746566738784, 175.9399993918013, 174.85040359123923, 173.66652157137298, 172.36398030707718, 170.97643606262153, 169.51685928712357, 167.98480953433284, 166.37504165793183, 164.69381548944287, 162.9338074172896, 161.11876986691556, 159.24314389447545, 157.28814379372196, 155.26035423959956, 153.15601549142832], [173.62109605208198, 173.47838802747864, 173.1565479024817, 172.64286194553299, 171.99262882225423, 171.20975832626272, 170.28512130228512, 169.21469666367034, 168.01674859275002, 166.72702862534956, 165.3638184507057, 163.90781279582606, 162.37878222948518, 160.78921135870777, 159.1410027061582, 157.4149650965194, 155.60317883314826, 153.7132297266197, 151.75905881185847, 149.76313473396002, 147.74474064121623], [167.97739203465517, 167.74827376404204, 167.3684234531627, 166.864271172852, 166.22018618053045, 165.42119758475744, 164.52955474989548, 163.510079174244, 162.37501562409093, 161.12309643923427, 159.75949519210627, 158.3193603579688, 156.82244597119026, 155.23591473892813, 153.5633514437186, 151.82792973697863, 150.023460013843, 148.1612054493618, 146.2720230613527, 144.33344070209463, 142.36521091828314], [162.36646809059562, 162.08155329464932, 161.66906310329892, 161.11745737573202, 160.45842705873585, 159.6792701354459, 158.78810757559194, 157.77523592116017, 156.6835080669576, 155.484402866092, 154.1915673248315, 152.78690196424088, 151.2628058084305, 149.66083638413244, 147.9909637888073, 146.25338648974605, 144.48956953606273, 142.69079781521773, 140.85808005472273, 138.98732257441475, 137.08744067860607], [157.00815380497423, 156.5961114802401, 156.0825235974889, 155.48722022593742, 154.7922401826432, 153.99414437979448, 153.10425594896685, 152.1160842250595, 151.03919830222424, 149.84727251497898, 148.56877358486776, 147.18443045717376, 145.6967102421366, 144.11993223413214, 142.48782858134388, 140.80856046030735, 139.09726296083423, 137.3406211252527, 135.55379631817254, 133.7998703595629, 132.05097347270103], [151.7927227965592, 151.3082461055864, 150.7332768494887, 150.05276254682013, 149.28339939673538, 148.45095844035455, 147.5431195719043, 146.5405172998376, 145.4425293460123, 144.2465684265016, 142.95017000772367, 141.5616791373968, 140.14957968338723, 138.66711894106032, 137.12085339488723, 135.50960518185929, 133.8406054331516, 132.1941491930351, 130.55662892954035, 128.9357955068472, 127.34227940247096], [146.78907221959113, 146.22511732594722, 145.5721996406209, 144.83433952624708, 144.02666174400954, 143.12166463202678, 142.12653382001932, 141.06485505095125, 139.91463563153482, 138.6932966251317, 137.44251949662055, 136.13075462219467, 134.75782163863664, 133.31691410611091, 131.84548549957213, 130.37717285868493, 128.89103179498713, 127.40224195611313, 125.91771891824764, 124.46570524915232, 123.07257562044202], [141.99296492730284, 141.35662449053734, 140.6445037655458, 139.84062862335034, 138.9459049579831, 137.9615806586314, 136.89158713916905, 135.75001576827313, 134.58681355007403, 133.39418082788717, 132.15376086434915, 130.8666000066842, 129.54172769256218, 128.22925145705256, 126.90361237179472, 125.57036283940336, 124.26595295907013, 122.97605742464705, 121.72045742956668, 120.51063405015414, 119.3388767350759], [137.43451313546274, 136.7251747753171, 135.92104829668008, 135.0213989156192, 134.02778533565643, 132.96715912947462, 131.8864737294848, 130.75865920379013, 129.58770576825034, 128.3730106679475, 127.12798991237013, 125.92438392972508, 124.72332675928384, 123.53366841220331, 122.36663033920107, 121.22107139310981, 120.11209689390967, 119.04312985139981, 118.03096304859466, 117.10507216798231, 116.31065494660834], [133.06086110255583, 132.27025302741916, 131.36558290702368, 130.37837022747235, 129.36792840042625, 128.30925596939295, 127.203518462547, 126.05978034047526, 124.8871583454627, 123.74210629275261, 122.6070997251145, 121.48647764882165, 120.39676959344865, 119.35320271416923, 118.35956821422482, 117.42330362181599, 116.53597764712663, 115.74056633353248, 115.076128419703, 114.54204912558215, 114.13017268286535], [128.7917592426528, 127.94588001975784, 127.04914975957792, 126.08091673077514, 125.04821042180637, 123.96517785058619, 122.85090091513445, 121.76587732831143, 120.69163243871293, 119.63597258310152, 118.61358172789868, 117.62558433079633, 116.69396212132871, 115.82299609456273, 115.00724213717386, 114.30484937795445, 113.74420125930006, 113.32885024746076, 113.02683862564119, 112.81286076481933, 112.6674830816329], [124.77257342839617, 123.92297522568838, 123.02030095782804, 122.05862030029304, 121.04152876555663, 120.03398923499815, 119.02402555804734, 118.02110224891206, 117.05050966658577, 116.11718217540763, 115.24169482708758, 114.42988582065908, 113.6735916186257, 113.02138693277189, 112.51598277675043, 112.15998249110515, 111.92199320103539, 111.78728996111064, 111.72897402335143, 111.79546795840989, 111.88541082430116], [121.0857707988129, 120.22567892519197, 119.31360128699693, 118.40953693686114, 117.51366007512979, 116.61585019636475, 115.73090104865838, 114.86627577089274, 114.04687081818636, 113.28038439330818, 112.56687752589808, 111.96140015782227, 111.50356239898291, 111.19811704262025, 111.01009428344615, 110.91636780848408, 110.90297850684529, 111.01821891020664, 111.15905609637944, 111.36749120180421, 111.66338355256083], [117.71535859659713, 116.9214019587715, 116.12077666758918, 115.31532345068321, 114.5231455689734, 113.7483610297739, 113.0269849469404, 112.34940458477175, 111.7070235257089, 111.15840228499096, 110.74457287606704, 110.47469716423817, 110.31912495278272, 110.26017840058357, 110.28244165291437, 110.43581124458342, 110.61258687403866, 110.84832019076585, 111.17106539845051, 111.60824294284322, 112.11203316607111], [114.8772659480038, 114.1576418406845, 113.45745092492801, 112.78035006684534, 112.1412627244249, 111.54240871291825, 110.97651716853221, 110.50082094662883, 110.1642665220688, 109.96425814426249, 109.86335847608612, 109.84511804819742, 109.89627060053698, 110.0719631224344, 110.26710068785546, 110.52215636990339, 110.86195343624614, 111.31477653974197, 111.83164288240386, 112.37351634169029, 113.01487847802856], [112.57432530678331, 111.96894811633412, 111.40640020372783, 110.8825689943261, 110.39197726792642, 109.99437449908521, 109.72083726161283, 109.58249420613393, 109.53934741847512, 109.57293703042596, 109.67773183055921, 109.90060507850708, 110.12967861845802, 110.40580908383225, 110.75405731481507, 111.20782989675097, 111.72213907486923, 112.26236607302756, 112.90254555094056, 113.60472511314158, 114.4650032246861], [110.83846605616976, 110.39076933787236, 109.9720389024023, 109.63488184462614, 109.42137453098576, 109.340614341798, 109.35192230316383, 109.43860222993071, 109.5839876744198, 109.84659844531939, 110.11035053659262, 110.4139553570667, 110.78770964122452, 111.259374703018, 111.78170863771945, 112.32052624212908, 112.95188913834723, 113.64110265334179, 114.48837516713817, 115.444494045232, 116.51324406427138], [109.66978590158828, 109.41110107999698, 109.264006348752, 109.24220584330156, 109.3056133548761, 109.43121330582551, 109.61304849617832, 109.90983365323021, 110.20277729267167, 110.53197086026151, 110.91966973425187, 111.40272072044449, 111.93269919223796, 112.47421483947745, 113.1088699176305, 113.79705813764042, 114.63887787668655, 115.58509341302079, 116.63924576775652, 117.85009888254314, 119.1320553318405], [109.19024352042172, 109.2319695659098, 109.35423812772954, 109.53230779685602, 109.75356928819348, 110.08215091392609, 110.39948547567974, 110.74190403979547, 111.13843786361936, 111.62706306238574, 112.15945431317516, 112.70171340383894, 113.33132130855365, 114.01415791472942, 114.84981355916088, 115.78805776842782, 116.83512873383377, 118.03627844713873, 119.30566644611874, 120.75579206242088, 122.42532398731169], [109.47239259179253, 109.6966302686498, 109.95509930150178, 110.31727115068607, 110.66100935339712, 111.02290091586657, 111.42740797716296, 111.91701023181903, 112.44680868179805, 112.98070574033568, 113.60125598494962, 114.27465517893029, 115.1001673155884, 116.02812506391736, 117.06133323027115, 118.24879848437291, 119.50367453211663, 120.93721905555425, 122.58976771568328, 124.39945689083667, 126.32541729570485], [110.17211175540321, 110.59135034718133, 110.96555150015911, 111.33962181118272, 111.74803956052496, 112.23760124772376, 112.76385897558151, 113.29118769393018, 113.90053657918274, 114.55990711561708, 115.3707542367774, 116.28143594140548, 117.29707897624186, 118.46680145458656, 119.702855359959, 121.11592607895139, 122.74475094558551, 124.52964494339878, 126.42950177681736, 128.3232041809661, 130.36584329627973], [111.19632226533624, 111.62722297836454, 112.06660245456857, 112.57002057287475, 113.09314640617686, 113.6078009189175, 114.2017547152277, 114.84480580979651, 115.63841819742363, 116.53037208850468, 117.52470350323016, 118.67120762591497, 119.88334305664961, 121.26970469307852, 122.8699336095808, 124.62431917841269, 126.49173613298466, 128.35106821829103, 130.35805633378158, 132.5797873723752, 135.05262903521734], [112.25850947237318, 112.8052851418841, 113.35752649110985, 113.88709452922753, 114.48116817033947, 115.11516412999661, 115.89003577236896, 116.75756037493676, 117.72565132420357, 118.84489209086256, 120.0286461399024, 121.38385098071139, 122.94982846550519, 124.66712853043698, 126.49541044772906, 128.31341414737597, 130.27768438696611, 132.45432720750307, 134.87814768768663, 137.635409072829, 140.70933360259247], [113.49889017403144, 114.05382364865424, 114.6664424487588, 115.30817449888441, 116.08157869539377, 116.93783605608577, 117.88533114142021, 118.9776697015791, 120.12893978062824, 121.44710070856772, 122.97302833160293, 124.64746730999312, 126.43013293078934, 128.19973996053903, 130.11377273083787, 132.237862140499, 134.6037633662939, 137.29848368824804, 140.30497481900355, 143.34702312782525, 146.56221729260102], [114.76272581680797, 115.41461985695287, 116.19204501420285, 117.04377259885436, 117.9792730957674, 119.05053606167323, 120.17305938784642, 121.45379767643537, 122.9350060068008, 124.55887338027836, 126.28816886405008, 128.00300143061523, 129.8610200142262, 131.92594452359032, 134.2260257919805, 136.84815565392998, 139.7759518791266, 142.73893880376784, 145.87161844318396, 149.27883558016828, 153.01403014740708], [116.25030533645163, 117.09893239737626, 118.02588447356527, 119.08050935503132, 120.17813451000416, 121.42408752380662, 122.86017773836902, 124.42930386150951, 126.09530103929524, 127.74016221360048, 129.52562661633837, 131.51452577990082, 133.7374767412469, 136.28007460617928, 139.12328912455123, 141.99955055111923, 145.04036082179172, 148.34997177046588, 151.98394244767084, 156.00047866465815, 160.39474163451231], [118.05083115226185, 119.09168196949756, 120.16952789415596, 121.38755657215647, 122.78489109599809, 124.30424905745755, 125.90872474042116, 127.48248130746629, 129.18635712273806, 131.0848613144514, 133.2056249412529, 135.63591173775745, 138.36245545341865, 141.12382351997277, 144.05740811548955, 147.26248249616813, 150.7905331629159, 154.69488321543946, 158.9693767212136, 163.6916631339594, 168.73163725567295], [120.15707832072886, 121.35205630601983, 122.71966842302909, 124.20035180785734, 125.75718525350086, 127.27112898099664, 128.90038406973397, 130.7116725738064, 132.72888337004184, 135.04195789418793, 137.6344079491329, 140.25468085432684, 143.03677778646, 146.08279232386045, 149.45468620064227, 153.20508695293069, 157.3398341143732, 161.93036928427816, 166.8395770410085, 171.90492442427822, 177.221679358892], [122.6623464906176, 124.11150272180868, 125.62829719280332, 127.09334420701819, 128.66714780846218, 130.4103647325961, 132.34587177913747, 134.55613793417524, 137.02081766896535, 139.49975606885707, 142.12377409209165, 144.99964713137823, 148.18660860136183, 151.7410780162457, 155.66848382401685, 160.04752691415297, 164.7547871289565, 169.62990162532304, 174.77775256556873, 180.64541603794862, 187.0729544835595], [125.51844396536626, 126.94310298437142, 128.4688917997581, 130.15651526979372, 132.0226620618059, 134.14826228015548, 136.51658268710315, 138.88233343330927, 141.37669327278897, 144.09602993976566, 147.09617142670263, 150.44421458523215, 154.1461608137819, 158.29253817138326, 162.7575238742604, 167.38415491023406, 172.2702976122869, 177.85633809391678, 184.0019848983966, 190.75331530871003, 198.29045844048636], [128.31318341559043, 129.9450728937631, 131.74658396659797, 133.8016337689883, 136.0865378734912, 138.35976200856177, 140.74349676026222, 143.3324679085994, 146.18767577032452, 149.3628888009394, 152.8685077915308, 156.78467983268018, 160.9852916278377, 165.33323925441755, 169.92616426642834, 175.2004963205226, 181.01399509171685, 187.4168173818963, 194.5733070439736, 202.2824865288406, 210.81319147005325]]}],\n",
       "                        {\"autosize\": false, \"height\": 500, \"margin\": {\"b\": 65, \"l\": 65, \"r\": 50, \"t\": 90}, \"scene\": {\"xaxis\": {\"title\": {\"text\": \"Distance\"}}, \"yaxis\": {\"title\": {\"text\": \"Balance Point - 40\"}}, \"zaxis\": {\"title\": {\"text\": \"SSR\"}}}, \"template\": {\"data\": {\"bar\": [{\"error_x\": {\"color\": \"#2a3f5f\"}, \"error_y\": {\"color\": \"#2a3f5f\"}, \"marker\": {\"line\": {\"color\": \"#E5ECF6\", \"width\": 0.5}}, \"type\": \"bar\"}], \"barpolar\": [{\"marker\": {\"line\": {\"color\": \"#E5ECF6\", \"width\": 0.5}}, \"type\": \"barpolar\"}], \"carpet\": [{\"aaxis\": {\"endlinecolor\": \"#2a3f5f\", \"gridcolor\": \"white\", \"linecolor\": \"white\", \"minorgridcolor\": \"white\", \"startlinecolor\": \"#2a3f5f\"}, \"baxis\": {\"endlinecolor\": \"#2a3f5f\", \"gridcolor\": \"white\", \"linecolor\": \"white\", \"minorgridcolor\": \"white\", \"startlinecolor\": \"#2a3f5f\"}, \"type\": \"carpet\"}], \"choropleth\": [{\"colorbar\": {\"outlinewidth\": 0, \"ticks\": \"\"}, \"type\": \"choropleth\"}], \"contour\": [{\"colorbar\": {\"outlinewidth\": 0, \"ticks\": \"\"}, \"colorscale\": [[0.0, \"#0d0887\"], [0.1111111111111111, \"#46039f\"], [0.2222222222222222, \"#7201a8\"], [0.3333333333333333, \"#9c179e\"], [0.4444444444444444, \"#bd3786\"], [0.5555555555555556, \"#d8576b\"], [0.6666666666666666, \"#ed7953\"], [0.7777777777777778, \"#fb9f3a\"], [0.8888888888888888, \"#fdca26\"], [1.0, \"#f0f921\"]], \"type\": \"contour\"}], \"contourcarpet\": [{\"colorbar\": {\"outlinewidth\": 0, \"ticks\": \"\"}, \"type\": \"contourcarpet\"}], \"heatmap\": [{\"colorbar\": {\"outlinewidth\": 0, \"ticks\": \"\"}, \"colorscale\": [[0.0, \"#0d0887\"], [0.1111111111111111, \"#46039f\"], [0.2222222222222222, \"#7201a8\"], [0.3333333333333333, \"#9c179e\"], [0.4444444444444444, \"#bd3786\"], [0.5555555555555556, \"#d8576b\"], [0.6666666666666666, \"#ed7953\"], [0.7777777777777778, \"#fb9f3a\"], [0.8888888888888888, \"#fdca26\"], [1.0, \"#f0f921\"]], \"type\": \"heatmap\"}], \"heatmapgl\": [{\"colorbar\": {\"outlinewidth\": 0, \"ticks\": \"\"}, \"colorscale\": [[0.0, \"#0d0887\"], [0.1111111111111111, \"#46039f\"], [0.2222222222222222, \"#7201a8\"], [0.3333333333333333, \"#9c179e\"], [0.4444444444444444, \"#bd3786\"], [0.5555555555555556, \"#d8576b\"], [0.6666666666666666, \"#ed7953\"], [0.7777777777777778, \"#fb9f3a\"], [0.8888888888888888, \"#fdca26\"], [1.0, \"#f0f921\"]], \"type\": \"heatmapgl\"}], \"histogram\": [{\"marker\": {\"colorbar\": {\"outlinewidth\": 0, \"ticks\": \"\"}}, \"type\": \"histogram\"}], \"histogram2d\": [{\"colorbar\": {\"outlinewidth\": 0, \"ticks\": \"\"}, \"colorscale\": [[0.0, \"#0d0887\"], [0.1111111111111111, \"#46039f\"], [0.2222222222222222, \"#7201a8\"], [0.3333333333333333, \"#9c179e\"], [0.4444444444444444, \"#bd3786\"], [0.5555555555555556, \"#d8576b\"], [0.6666666666666666, \"#ed7953\"], [0.7777777777777778, \"#fb9f3a\"], [0.8888888888888888, \"#fdca26\"], [1.0, \"#f0f921\"]], \"type\": \"histogram2d\"}], \"histogram2dcontour\": [{\"colorbar\": {\"outlinewidth\": 0, \"ticks\": \"\"}, \"colorscale\": [[0.0, \"#0d0887\"], [0.1111111111111111, \"#46039f\"], [0.2222222222222222, \"#7201a8\"], [0.3333333333333333, \"#9c179e\"], [0.4444444444444444, \"#bd3786\"], [0.5555555555555556, \"#d8576b\"], [0.6666666666666666, \"#ed7953\"], [0.7777777777777778, \"#fb9f3a\"], [0.8888888888888888, \"#fdca26\"], [1.0, \"#f0f921\"]], \"type\": \"histogram2dcontour\"}], \"mesh3d\": [{\"colorbar\": {\"outlinewidth\": 0, \"ticks\": \"\"}, \"type\": \"mesh3d\"}], \"parcoords\": [{\"line\": {\"colorbar\": {\"outlinewidth\": 0, \"ticks\": \"\"}}, \"type\": \"parcoords\"}], \"pie\": [{\"automargin\": true, \"type\": \"pie\"}], \"scatter\": [{\"marker\": {\"colorbar\": {\"outlinewidth\": 0, \"ticks\": \"\"}}, \"type\": \"scatter\"}], \"scatter3d\": [{\"line\": {\"colorbar\": {\"outlinewidth\": 0, \"ticks\": \"\"}}, \"marker\": {\"colorbar\": {\"outlinewidth\": 0, \"ticks\": \"\"}}, \"type\": \"scatter3d\"}], \"scattercarpet\": [{\"marker\": {\"colorbar\": {\"outlinewidth\": 0, \"ticks\": \"\"}}, \"type\": \"scattercarpet\"}], \"scattergeo\": [{\"marker\": {\"colorbar\": {\"outlinewidth\": 0, \"ticks\": \"\"}}, \"type\": \"scattergeo\"}], \"scattergl\": [{\"marker\": {\"colorbar\": {\"outlinewidth\": 0, \"ticks\": \"\"}}, \"type\": \"scattergl\"}], \"scattermapbox\": [{\"marker\": {\"colorbar\": {\"outlinewidth\": 0, \"ticks\": \"\"}}, \"type\": \"scattermapbox\"}], \"scatterpolar\": [{\"marker\": {\"colorbar\": {\"outlinewidth\": 0, \"ticks\": \"\"}}, \"type\": \"scatterpolar\"}], \"scatterpolargl\": [{\"marker\": {\"colorbar\": {\"outlinewidth\": 0, \"ticks\": \"\"}}, \"type\": \"scatterpolargl\"}], \"scatterternary\": [{\"marker\": {\"colorbar\": {\"outlinewidth\": 0, \"ticks\": \"\"}}, \"type\": \"scatterternary\"}], \"surface\": [{\"colorbar\": {\"outlinewidth\": 0, \"ticks\": \"\"}, \"colorscale\": [[0.0, \"#0d0887\"], [0.1111111111111111, \"#46039f\"], [0.2222222222222222, \"#7201a8\"], [0.3333333333333333, \"#9c179e\"], [0.4444444444444444, \"#bd3786\"], [0.5555555555555556, \"#d8576b\"], [0.6666666666666666, \"#ed7953\"], [0.7777777777777778, \"#fb9f3a\"], [0.8888888888888888, \"#fdca26\"], [1.0, \"#f0f921\"]], \"type\": \"surface\"}], \"table\": [{\"cells\": {\"fill\": {\"color\": \"#EBF0F8\"}, \"line\": {\"color\": \"white\"}}, \"header\": {\"fill\": {\"color\": \"#C8D4E3\"}, \"line\": {\"color\": \"white\"}}, \"type\": \"table\"}]}, \"layout\": {\"annotationdefaults\": {\"arrowcolor\": \"#2a3f5f\", \"arrowhead\": 0, \"arrowwidth\": 1}, \"coloraxis\": {\"colorbar\": {\"outlinewidth\": 0, \"ticks\": \"\"}}, \"colorscale\": {\"diverging\": [[0, \"#8e0152\"], [0.1, \"#c51b7d\"], [0.2, \"#de77ae\"], [0.3, \"#f1b6da\"], [0.4, \"#fde0ef\"], [0.5, \"#f7f7f7\"], [0.6, \"#e6f5d0\"], [0.7, \"#b8e186\"], [0.8, \"#7fbc41\"], [0.9, \"#4d9221\"], [1, \"#276419\"]], \"sequential\": [[0.0, \"#0d0887\"], [0.1111111111111111, \"#46039f\"], [0.2222222222222222, \"#7201a8\"], [0.3333333333333333, \"#9c179e\"], [0.4444444444444444, \"#bd3786\"], [0.5555555555555556, \"#d8576b\"], [0.6666666666666666, \"#ed7953\"], [0.7777777777777778, \"#fb9f3a\"], [0.8888888888888888, \"#fdca26\"], [1.0, \"#f0f921\"]], \"sequentialminus\": [[0.0, \"#0d0887\"], [0.1111111111111111, \"#46039f\"], [0.2222222222222222, \"#7201a8\"], [0.3333333333333333, \"#9c179e\"], [0.4444444444444444, \"#bd3786\"], [0.5555555555555556, \"#d8576b\"], [0.6666666666666666, \"#ed7953\"], [0.7777777777777778, \"#fb9f3a\"], [0.8888888888888888, \"#fdca26\"], [1.0, \"#f0f921\"]]}, \"colorway\": [\"#636efa\", \"#EF553B\", \"#00cc96\", \"#ab63fa\", \"#FFA15A\", \"#19d3f3\", \"#FF6692\", \"#B6E880\", \"#FF97FF\", \"#FECB52\"], \"font\": {\"color\": \"#2a3f5f\"}, \"geo\": {\"bgcolor\": \"white\", \"lakecolor\": \"white\", \"landcolor\": \"#E5ECF6\", \"showlakes\": true, \"showland\": true, \"subunitcolor\": \"white\"}, \"hoverlabel\": {\"align\": \"left\"}, \"hovermode\": \"closest\", \"mapbox\": {\"style\": \"light\"}, \"paper_bgcolor\": \"white\", \"plot_bgcolor\": \"#E5ECF6\", \"polar\": {\"angularaxis\": {\"gridcolor\": \"white\", \"linecolor\": \"white\", \"ticks\": \"\"}, \"bgcolor\": \"#E5ECF6\", \"radialaxis\": {\"gridcolor\": \"white\", \"linecolor\": \"white\", \"ticks\": \"\"}}, \"scene\": {\"xaxis\": {\"backgroundcolor\": \"#E5ECF6\", \"gridcolor\": \"white\", \"gridwidth\": 2, \"linecolor\": \"white\", \"showbackground\": true, \"ticks\": \"\", \"zerolinecolor\": \"white\"}, \"yaxis\": {\"backgroundcolor\": \"#E5ECF6\", \"gridcolor\": \"white\", \"gridwidth\": 2, \"linecolor\": \"white\", \"showbackground\": true, \"ticks\": \"\", \"zerolinecolor\": \"white\"}, \"zaxis\": {\"backgroundcolor\": \"#E5ECF6\", \"gridcolor\": \"white\", \"gridwidth\": 2, \"linecolor\": \"white\", \"showbackground\": true, \"ticks\": \"\", \"zerolinecolor\": \"white\"}}, \"shapedefaults\": {\"line\": {\"color\": \"#2a3f5f\"}}, \"ternary\": {\"aaxis\": {\"gridcolor\": \"white\", \"linecolor\": \"white\", \"ticks\": \"\"}, \"baxis\": {\"gridcolor\": \"white\", \"linecolor\": \"white\", \"ticks\": \"\"}, \"bgcolor\": \"#E5ECF6\", \"caxis\": {\"gridcolor\": \"white\", \"linecolor\": \"white\", \"ticks\": \"\"}}, \"title\": {\"x\": 0.05}, \"xaxis\": {\"automargin\": true, \"gridcolor\": \"white\", \"linecolor\": \"white\", \"ticks\": \"\", \"title\": {\"standoff\": 15}, \"zerolinecolor\": \"white\", \"zerolinewidth\": 2}, \"yaxis\": {\"automargin\": true, \"gridcolor\": \"white\", \"linecolor\": \"white\", \"ticks\": \"\", \"title\": {\"standoff\": 15}, \"zerolinecolor\": \"white\", \"zerolinewidth\": 2}}}, \"title\": {\"text\": \"Balance Search Scores\"}, \"width\": 500},\n",
       "                        {\"responsive\": true}\n",
       "                    ).then(function(){\n",
       "                            \n",
       "var gd = document.getElementById('634cb098-8b20-4ba8-b100-777f23a186e7');\n",
       "var x = new MutationObserver(function (mutations, observer) {{\n",
       "        var display = window.getComputedStyle(gd).display;\n",
       "        if (!display || display === 'none') {{\n",
       "            console.log([gd, 'removed!']);\n",
       "            Plotly.purge(gd);\n",
       "            observer.disconnect();\n",
       "        }}\n",
       "}});\n",
       "\n",
       "// Listen for the removal of the full notebook cells\n",
       "var notebookContainer = gd.closest('#notebook-container');\n",
       "if (notebookContainer) {{\n",
       "    x.observe(notebookContainer, {childList: true});\n",
       "}}\n",
       "\n",
       "// Listen for the clearing of the current output cell\n",
       "var outputEl = gd.closest('.output');\n",
       "if (outputEl) {{\n",
       "    x.observe(outputEl, {childList: true});\n",
       "}}\n",
       "\n",
       "                        })\n",
       "                };\n",
       "                });\n",
       "            </script>\n",
       "        </div>"
      ]
     },
     "metadata": {},
     "output_type": "display_data"
    }
   ],
   "source": [
    "results_dataid = results_dataids[0]\n",
    "df = pd.DataFrame(results_dataid['results'])\n",
    "best_fit = df.iloc[df['score'].idxmin()]\n",
    "\n",
    "results_dataid['best_score'] = best_fit['score']\n",
    "results_dataid['best_balance'] = best_fit['balance']\n",
    "results_dataid['best_distance'] = best_fit['distance']\n",
    "\n",
    "results_df = pd.DataFrame(results_dataid['results'])\n",
    "plotOptimizationSurface(results_df)"
   ]
  },
  {
   "cell_type": "markdown",
   "metadata": {},
   "source": [
    "## Examine the best models"
   ]
  },
  {
   "cell_type": "code",
   "execution_count": 267,
   "metadata": {
    "scrolled": false
   },
   "outputs": [
    {
     "name": "stdout",
     "output_type": "stream",
     "text": [
      "   df_resid         ssr  df_diff    ss_diff          F        Pr(>F)\n",
      "0     353.0  129.892470      0.0        NaN        NaN           NaN\n",
      "1     347.0  109.190244      6.0  20.702227  10.965071  3.421512e-11\n"
     ]
    },
    {
     "data": {
      "application/vnd.plotly.v1+json": {
       "config": {
        "plotlyServerURL": "https://plot.ly"
       },
       "data": [
        {
         "error_y": {
          "array": [
           0.4349132268201085,
           0.43741564410443035,
           0.4352993481962423,
           0.43491103417819194,
           0.3879280741327764,
           0.43712931849076475,
           0.4349943922708391
          ],
          "type": "data",
          "visible": true
         },
         "type": "scatter",
         "x": [
          "Monday",
          "Tuesday",
          "Wednesday",
          "Thursday",
          "Friday",
          "Saturday",
          "Sunday"
         ],
         "y": [
          -0.00938511688437886,
          -0.1286077753516121,
          -0.09148058957390191,
          -0.138190564525816,
          0,
          0.4751131298599397,
          0.4278856496314154
         ]
        }
       ],
       "layout": {
        "template": {
         "data": {
          "bar": [
           {
            "error_x": {
             "color": "#2a3f5f"
            },
            "error_y": {
             "color": "#2a3f5f"
            },
            "marker": {
             "line": {
              "color": "#E5ECF6",
              "width": 0.5
             }
            },
            "type": "bar"
           }
          ],
          "barpolar": [
           {
            "marker": {
             "line": {
              "color": "#E5ECF6",
              "width": 0.5
             }
            },
            "type": "barpolar"
           }
          ],
          "carpet": [
           {
            "aaxis": {
             "endlinecolor": "#2a3f5f",
             "gridcolor": "white",
             "linecolor": "white",
             "minorgridcolor": "white",
             "startlinecolor": "#2a3f5f"
            },
            "baxis": {
             "endlinecolor": "#2a3f5f",
             "gridcolor": "white",
             "linecolor": "white",
             "minorgridcolor": "white",
             "startlinecolor": "#2a3f5f"
            },
            "type": "carpet"
           }
          ],
          "choropleth": [
           {
            "colorbar": {
             "outlinewidth": 0,
             "ticks": ""
            },
            "type": "choropleth"
           }
          ],
          "contour": [
           {
            "colorbar": {
             "outlinewidth": 0,
             "ticks": ""
            },
            "colorscale": [
             [
              0,
              "#0d0887"
             ],
             [
              0.1111111111111111,
              "#46039f"
             ],
             [
              0.2222222222222222,
              "#7201a8"
             ],
             [
              0.3333333333333333,
              "#9c179e"
             ],
             [
              0.4444444444444444,
              "#bd3786"
             ],
             [
              0.5555555555555556,
              "#d8576b"
             ],
             [
              0.6666666666666666,
              "#ed7953"
             ],
             [
              0.7777777777777778,
              "#fb9f3a"
             ],
             [
              0.8888888888888888,
              "#fdca26"
             ],
             [
              1,
              "#f0f921"
             ]
            ],
            "type": "contour"
           }
          ],
          "contourcarpet": [
           {
            "colorbar": {
             "outlinewidth": 0,
             "ticks": ""
            },
            "type": "contourcarpet"
           }
          ],
          "heatmap": [
           {
            "colorbar": {
             "outlinewidth": 0,
             "ticks": ""
            },
            "colorscale": [
             [
              0,
              "#0d0887"
             ],
             [
              0.1111111111111111,
              "#46039f"
             ],
             [
              0.2222222222222222,
              "#7201a8"
             ],
             [
              0.3333333333333333,
              "#9c179e"
             ],
             [
              0.4444444444444444,
              "#bd3786"
             ],
             [
              0.5555555555555556,
              "#d8576b"
             ],
             [
              0.6666666666666666,
              "#ed7953"
             ],
             [
              0.7777777777777778,
              "#fb9f3a"
             ],
             [
              0.8888888888888888,
              "#fdca26"
             ],
             [
              1,
              "#f0f921"
             ]
            ],
            "type": "heatmap"
           }
          ],
          "heatmapgl": [
           {
            "colorbar": {
             "outlinewidth": 0,
             "ticks": ""
            },
            "colorscale": [
             [
              0,
              "#0d0887"
             ],
             [
              0.1111111111111111,
              "#46039f"
             ],
             [
              0.2222222222222222,
              "#7201a8"
             ],
             [
              0.3333333333333333,
              "#9c179e"
             ],
             [
              0.4444444444444444,
              "#bd3786"
             ],
             [
              0.5555555555555556,
              "#d8576b"
             ],
             [
              0.6666666666666666,
              "#ed7953"
             ],
             [
              0.7777777777777778,
              "#fb9f3a"
             ],
             [
              0.8888888888888888,
              "#fdca26"
             ],
             [
              1,
              "#f0f921"
             ]
            ],
            "type": "heatmapgl"
           }
          ],
          "histogram": [
           {
            "marker": {
             "colorbar": {
              "outlinewidth": 0,
              "ticks": ""
             }
            },
            "type": "histogram"
           }
          ],
          "histogram2d": [
           {
            "colorbar": {
             "outlinewidth": 0,
             "ticks": ""
            },
            "colorscale": [
             [
              0,
              "#0d0887"
             ],
             [
              0.1111111111111111,
              "#46039f"
             ],
             [
              0.2222222222222222,
              "#7201a8"
             ],
             [
              0.3333333333333333,
              "#9c179e"
             ],
             [
              0.4444444444444444,
              "#bd3786"
             ],
             [
              0.5555555555555556,
              "#d8576b"
             ],
             [
              0.6666666666666666,
              "#ed7953"
             ],
             [
              0.7777777777777778,
              "#fb9f3a"
             ],
             [
              0.8888888888888888,
              "#fdca26"
             ],
             [
              1,
              "#f0f921"
             ]
            ],
            "type": "histogram2d"
           }
          ],
          "histogram2dcontour": [
           {
            "colorbar": {
             "outlinewidth": 0,
             "ticks": ""
            },
            "colorscale": [
             [
              0,
              "#0d0887"
             ],
             [
              0.1111111111111111,
              "#46039f"
             ],
             [
              0.2222222222222222,
              "#7201a8"
             ],
             [
              0.3333333333333333,
              "#9c179e"
             ],
             [
              0.4444444444444444,
              "#bd3786"
             ],
             [
              0.5555555555555556,
              "#d8576b"
             ],
             [
              0.6666666666666666,
              "#ed7953"
             ],
             [
              0.7777777777777778,
              "#fb9f3a"
             ],
             [
              0.8888888888888888,
              "#fdca26"
             ],
             [
              1,
              "#f0f921"
             ]
            ],
            "type": "histogram2dcontour"
           }
          ],
          "mesh3d": [
           {
            "colorbar": {
             "outlinewidth": 0,
             "ticks": ""
            },
            "type": "mesh3d"
           }
          ],
          "parcoords": [
           {
            "line": {
             "colorbar": {
              "outlinewidth": 0,
              "ticks": ""
             }
            },
            "type": "parcoords"
           }
          ],
          "pie": [
           {
            "automargin": true,
            "type": "pie"
           }
          ],
          "scatter": [
           {
            "marker": {
             "colorbar": {
              "outlinewidth": 0,
              "ticks": ""
             }
            },
            "type": "scatter"
           }
          ],
          "scatter3d": [
           {
            "line": {
             "colorbar": {
              "outlinewidth": 0,
              "ticks": ""
             }
            },
            "marker": {
             "colorbar": {
              "outlinewidth": 0,
              "ticks": ""
             }
            },
            "type": "scatter3d"
           }
          ],
          "scattercarpet": [
           {
            "marker": {
             "colorbar": {
              "outlinewidth": 0,
              "ticks": ""
             }
            },
            "type": "scattercarpet"
           }
          ],
          "scattergeo": [
           {
            "marker": {
             "colorbar": {
              "outlinewidth": 0,
              "ticks": ""
             }
            },
            "type": "scattergeo"
           }
          ],
          "scattergl": [
           {
            "marker": {
             "colorbar": {
              "outlinewidth": 0,
              "ticks": ""
             }
            },
            "type": "scattergl"
           }
          ],
          "scattermapbox": [
           {
            "marker": {
             "colorbar": {
              "outlinewidth": 0,
              "ticks": ""
             }
            },
            "type": "scattermapbox"
           }
          ],
          "scatterpolar": [
           {
            "marker": {
             "colorbar": {
              "outlinewidth": 0,
              "ticks": ""
             }
            },
            "type": "scatterpolar"
           }
          ],
          "scatterpolargl": [
           {
            "marker": {
             "colorbar": {
              "outlinewidth": 0,
              "ticks": ""
             }
            },
            "type": "scatterpolargl"
           }
          ],
          "scatterternary": [
           {
            "marker": {
             "colorbar": {
              "outlinewidth": 0,
              "ticks": ""
             }
            },
            "type": "scatterternary"
           }
          ],
          "surface": [
           {
            "colorbar": {
             "outlinewidth": 0,
             "ticks": ""
            },
            "colorscale": [
             [
              0,
              "#0d0887"
             ],
             [
              0.1111111111111111,
              "#46039f"
             ],
             [
              0.2222222222222222,
              "#7201a8"
             ],
             [
              0.3333333333333333,
              "#9c179e"
             ],
             [
              0.4444444444444444,
              "#bd3786"
             ],
             [
              0.5555555555555556,
              "#d8576b"
             ],
             [
              0.6666666666666666,
              "#ed7953"
             ],
             [
              0.7777777777777778,
              "#fb9f3a"
             ],
             [
              0.8888888888888888,
              "#fdca26"
             ],
             [
              1,
              "#f0f921"
             ]
            ],
            "type": "surface"
           }
          ],
          "table": [
           {
            "cells": {
             "fill": {
              "color": "#EBF0F8"
             },
             "line": {
              "color": "white"
             }
            },
            "header": {
             "fill": {
              "color": "#C8D4E3"
             },
             "line": {
              "color": "white"
             }
            },
            "type": "table"
           }
          ]
         },
         "layout": {
          "annotationdefaults": {
           "arrowcolor": "#2a3f5f",
           "arrowhead": 0,
           "arrowwidth": 1
          },
          "coloraxis": {
           "colorbar": {
            "outlinewidth": 0,
            "ticks": ""
           }
          },
          "colorscale": {
           "diverging": [
            [
             0,
             "#8e0152"
            ],
            [
             0.1,
             "#c51b7d"
            ],
            [
             0.2,
             "#de77ae"
            ],
            [
             0.3,
             "#f1b6da"
            ],
            [
             0.4,
             "#fde0ef"
            ],
            [
             0.5,
             "#f7f7f7"
            ],
            [
             0.6,
             "#e6f5d0"
            ],
            [
             0.7,
             "#b8e186"
            ],
            [
             0.8,
             "#7fbc41"
            ],
            [
             0.9,
             "#4d9221"
            ],
            [
             1,
             "#276419"
            ]
           ],
           "sequential": [
            [
             0,
             "#0d0887"
            ],
            [
             0.1111111111111111,
             "#46039f"
            ],
            [
             0.2222222222222222,
             "#7201a8"
            ],
            [
             0.3333333333333333,
             "#9c179e"
            ],
            [
             0.4444444444444444,
             "#bd3786"
            ],
            [
             0.5555555555555556,
             "#d8576b"
            ],
            [
             0.6666666666666666,
             "#ed7953"
            ],
            [
             0.7777777777777778,
             "#fb9f3a"
            ],
            [
             0.8888888888888888,
             "#fdca26"
            ],
            [
             1,
             "#f0f921"
            ]
           ],
           "sequentialminus": [
            [
             0,
             "#0d0887"
            ],
            [
             0.1111111111111111,
             "#46039f"
            ],
            [
             0.2222222222222222,
             "#7201a8"
            ],
            [
             0.3333333333333333,
             "#9c179e"
            ],
            [
             0.4444444444444444,
             "#bd3786"
            ],
            [
             0.5555555555555556,
             "#d8576b"
            ],
            [
             0.6666666666666666,
             "#ed7953"
            ],
            [
             0.7777777777777778,
             "#fb9f3a"
            ],
            [
             0.8888888888888888,
             "#fdca26"
            ],
            [
             1,
             "#f0f921"
            ]
           ]
          },
          "colorway": [
           "#636efa",
           "#EF553B",
           "#00cc96",
           "#ab63fa",
           "#FFA15A",
           "#19d3f3",
           "#FF6692",
           "#B6E880",
           "#FF97FF",
           "#FECB52"
          ],
          "font": {
           "color": "#2a3f5f"
          },
          "geo": {
           "bgcolor": "white",
           "lakecolor": "white",
           "landcolor": "#E5ECF6",
           "showlakes": true,
           "showland": true,
           "subunitcolor": "white"
          },
          "hoverlabel": {
           "align": "left"
          },
          "hovermode": "closest",
          "mapbox": {
           "style": "light"
          },
          "paper_bgcolor": "white",
          "plot_bgcolor": "#E5ECF6",
          "polar": {
           "angularaxis": {
            "gridcolor": "white",
            "linecolor": "white",
            "ticks": ""
           },
           "bgcolor": "#E5ECF6",
           "radialaxis": {
            "gridcolor": "white",
            "linecolor": "white",
            "ticks": ""
           }
          },
          "scene": {
           "xaxis": {
            "backgroundcolor": "#E5ECF6",
            "gridcolor": "white",
            "gridwidth": 2,
            "linecolor": "white",
            "showbackground": true,
            "ticks": "",
            "zerolinecolor": "white"
           },
           "yaxis": {
            "backgroundcolor": "#E5ECF6",
            "gridcolor": "white",
            "gridwidth": 2,
            "linecolor": "white",
            "showbackground": true,
            "ticks": "",
            "zerolinecolor": "white"
           },
           "zaxis": {
            "backgroundcolor": "#E5ECF6",
            "gridcolor": "white",
            "gridwidth": 2,
            "linecolor": "white",
            "showbackground": true,
            "ticks": "",
            "zerolinecolor": "white"
           }
          },
          "shapedefaults": {
           "line": {
            "color": "#2a3f5f"
           }
          },
          "ternary": {
           "aaxis": {
            "gridcolor": "white",
            "linecolor": "white",
            "ticks": ""
           },
           "baxis": {
            "gridcolor": "white",
            "linecolor": "white",
            "ticks": ""
           },
           "bgcolor": "#E5ECF6",
           "caxis": {
            "gridcolor": "white",
            "linecolor": "white",
            "ticks": ""
           }
          },
          "title": {
           "x": 0.05
          },
          "xaxis": {
           "automargin": true,
           "gridcolor": "white",
           "linecolor": "white",
           "ticks": "",
           "title": {
            "standoff": 15
           },
           "zerolinecolor": "white",
           "zerolinewidth": 2
          },
          "yaxis": {
           "automargin": true,
           "gridcolor": "white",
           "linecolor": "white",
           "ticks": "",
           "title": {
            "standoff": 15
           },
           "zerolinecolor": "white",
           "zerolinewidth": 2
          }
         }
        }
       }
      },
      "text/html": [
       "<div>\n",
       "        \n",
       "        \n",
       "            <div id=\"b6a3b5f3-38b1-4d9e-9b7a-de7c04339f9a\" class=\"plotly-graph-div\" style=\"height:525px; width:100%;\"></div>\n",
       "            <script type=\"text/javascript\">\n",
       "                require([\"plotly\"], function(Plotly) {\n",
       "                    window.PLOTLYENV=window.PLOTLYENV || {};\n",
       "                    \n",
       "                if (document.getElementById(\"b6a3b5f3-38b1-4d9e-9b7a-de7c04339f9a\")) {\n",
       "                    Plotly.newPlot(\n",
       "                        'b6a3b5f3-38b1-4d9e-9b7a-de7c04339f9a',\n",
       "                        [{\"error_y\": {\"array\": [0.4349132268201085, 0.43741564410443035, 0.4352993481962423, 0.43491103417819194, 0.3879280741327764, 0.43712931849076475, 0.4349943922708391], \"type\": \"data\", \"visible\": true}, \"type\": \"scatter\", \"x\": [\"Monday\", \"Tuesday\", \"Wednesday\", \"Thursday\", \"Friday\", \"Saturday\", \"Sunday\"], \"y\": [-0.00938511688437886, -0.1286077753516121, -0.09148058957390191, -0.138190564525816, 0, 0.4751131298599397, 0.4278856496314154]}],\n",
       "                        {\"template\": {\"data\": {\"bar\": [{\"error_x\": {\"color\": \"#2a3f5f\"}, \"error_y\": {\"color\": \"#2a3f5f\"}, \"marker\": {\"line\": {\"color\": \"#E5ECF6\", \"width\": 0.5}}, \"type\": \"bar\"}], \"barpolar\": [{\"marker\": {\"line\": {\"color\": \"#E5ECF6\", \"width\": 0.5}}, \"type\": \"barpolar\"}], \"carpet\": [{\"aaxis\": {\"endlinecolor\": \"#2a3f5f\", \"gridcolor\": \"white\", \"linecolor\": \"white\", \"minorgridcolor\": \"white\", \"startlinecolor\": \"#2a3f5f\"}, \"baxis\": {\"endlinecolor\": \"#2a3f5f\", \"gridcolor\": \"white\", \"linecolor\": \"white\", \"minorgridcolor\": \"white\", \"startlinecolor\": \"#2a3f5f\"}, \"type\": \"carpet\"}], \"choropleth\": [{\"colorbar\": {\"outlinewidth\": 0, \"ticks\": \"\"}, \"type\": \"choropleth\"}], \"contour\": [{\"colorbar\": {\"outlinewidth\": 0, \"ticks\": \"\"}, \"colorscale\": [[0.0, \"#0d0887\"], [0.1111111111111111, \"#46039f\"], [0.2222222222222222, \"#7201a8\"], [0.3333333333333333, \"#9c179e\"], [0.4444444444444444, \"#bd3786\"], [0.5555555555555556, \"#d8576b\"], [0.6666666666666666, \"#ed7953\"], [0.7777777777777778, \"#fb9f3a\"], [0.8888888888888888, \"#fdca26\"], [1.0, \"#f0f921\"]], \"type\": \"contour\"}], \"contourcarpet\": [{\"colorbar\": {\"outlinewidth\": 0, \"ticks\": \"\"}, \"type\": \"contourcarpet\"}], \"heatmap\": [{\"colorbar\": {\"outlinewidth\": 0, \"ticks\": \"\"}, \"colorscale\": [[0.0, \"#0d0887\"], [0.1111111111111111, \"#46039f\"], [0.2222222222222222, \"#7201a8\"], [0.3333333333333333, \"#9c179e\"], [0.4444444444444444, \"#bd3786\"], [0.5555555555555556, \"#d8576b\"], [0.6666666666666666, \"#ed7953\"], [0.7777777777777778, \"#fb9f3a\"], [0.8888888888888888, \"#fdca26\"], [1.0, \"#f0f921\"]], \"type\": \"heatmap\"}], \"heatmapgl\": [{\"colorbar\": {\"outlinewidth\": 0, \"ticks\": \"\"}, \"colorscale\": [[0.0, \"#0d0887\"], [0.1111111111111111, \"#46039f\"], [0.2222222222222222, \"#7201a8\"], [0.3333333333333333, \"#9c179e\"], [0.4444444444444444, \"#bd3786\"], [0.5555555555555556, \"#d8576b\"], [0.6666666666666666, \"#ed7953\"], [0.7777777777777778, \"#fb9f3a\"], [0.8888888888888888, \"#fdca26\"], [1.0, \"#f0f921\"]], \"type\": \"heatmapgl\"}], \"histogram\": [{\"marker\": {\"colorbar\": {\"outlinewidth\": 0, \"ticks\": \"\"}}, \"type\": \"histogram\"}], \"histogram2d\": [{\"colorbar\": {\"outlinewidth\": 0, \"ticks\": \"\"}, \"colorscale\": [[0.0, \"#0d0887\"], [0.1111111111111111, \"#46039f\"], [0.2222222222222222, \"#7201a8\"], [0.3333333333333333, \"#9c179e\"], [0.4444444444444444, \"#bd3786\"], [0.5555555555555556, \"#d8576b\"], [0.6666666666666666, \"#ed7953\"], [0.7777777777777778, \"#fb9f3a\"], [0.8888888888888888, \"#fdca26\"], [1.0, \"#f0f921\"]], \"type\": \"histogram2d\"}], \"histogram2dcontour\": [{\"colorbar\": {\"outlinewidth\": 0, \"ticks\": \"\"}, \"colorscale\": [[0.0, \"#0d0887\"], [0.1111111111111111, \"#46039f\"], [0.2222222222222222, \"#7201a8\"], [0.3333333333333333, \"#9c179e\"], [0.4444444444444444, \"#bd3786\"], [0.5555555555555556, \"#d8576b\"], [0.6666666666666666, \"#ed7953\"], [0.7777777777777778, \"#fb9f3a\"], [0.8888888888888888, \"#fdca26\"], [1.0, \"#f0f921\"]], \"type\": \"histogram2dcontour\"}], \"mesh3d\": [{\"colorbar\": {\"outlinewidth\": 0, \"ticks\": \"\"}, \"type\": \"mesh3d\"}], \"parcoords\": [{\"line\": {\"colorbar\": {\"outlinewidth\": 0, \"ticks\": \"\"}}, \"type\": \"parcoords\"}], \"pie\": [{\"automargin\": true, \"type\": \"pie\"}], \"scatter\": [{\"marker\": {\"colorbar\": {\"outlinewidth\": 0, \"ticks\": \"\"}}, \"type\": \"scatter\"}], \"scatter3d\": [{\"line\": {\"colorbar\": {\"outlinewidth\": 0, \"ticks\": \"\"}}, \"marker\": {\"colorbar\": {\"outlinewidth\": 0, \"ticks\": \"\"}}, \"type\": \"scatter3d\"}], \"scattercarpet\": [{\"marker\": {\"colorbar\": {\"outlinewidth\": 0, \"ticks\": \"\"}}, \"type\": \"scattercarpet\"}], \"scattergeo\": [{\"marker\": {\"colorbar\": {\"outlinewidth\": 0, \"ticks\": \"\"}}, \"type\": \"scattergeo\"}], \"scattergl\": [{\"marker\": {\"colorbar\": {\"outlinewidth\": 0, \"ticks\": \"\"}}, \"type\": \"scattergl\"}], \"scattermapbox\": [{\"marker\": {\"colorbar\": {\"outlinewidth\": 0, \"ticks\": \"\"}}, \"type\": \"scattermapbox\"}], \"scatterpolar\": [{\"marker\": {\"colorbar\": {\"outlinewidth\": 0, \"ticks\": \"\"}}, \"type\": \"scatterpolar\"}], \"scatterpolargl\": [{\"marker\": {\"colorbar\": {\"outlinewidth\": 0, \"ticks\": \"\"}}, \"type\": \"scatterpolargl\"}], \"scatterternary\": [{\"marker\": {\"colorbar\": {\"outlinewidth\": 0, \"ticks\": \"\"}}, \"type\": \"scatterternary\"}], \"surface\": [{\"colorbar\": {\"outlinewidth\": 0, \"ticks\": \"\"}, \"colorscale\": [[0.0, \"#0d0887\"], [0.1111111111111111, \"#46039f\"], [0.2222222222222222, \"#7201a8\"], [0.3333333333333333, \"#9c179e\"], [0.4444444444444444, \"#bd3786\"], [0.5555555555555556, \"#d8576b\"], [0.6666666666666666, \"#ed7953\"], [0.7777777777777778, \"#fb9f3a\"], [0.8888888888888888, \"#fdca26\"], [1.0, \"#f0f921\"]], \"type\": \"surface\"}], \"table\": [{\"cells\": {\"fill\": {\"color\": \"#EBF0F8\"}, \"line\": {\"color\": \"white\"}}, \"header\": {\"fill\": {\"color\": \"#C8D4E3\"}, \"line\": {\"color\": \"white\"}}, \"type\": \"table\"}]}, \"layout\": {\"annotationdefaults\": {\"arrowcolor\": \"#2a3f5f\", \"arrowhead\": 0, \"arrowwidth\": 1}, \"coloraxis\": {\"colorbar\": {\"outlinewidth\": 0, \"ticks\": \"\"}}, \"colorscale\": {\"diverging\": [[0, \"#8e0152\"], [0.1, \"#c51b7d\"], [0.2, \"#de77ae\"], [0.3, \"#f1b6da\"], [0.4, \"#fde0ef\"], [0.5, \"#f7f7f7\"], [0.6, \"#e6f5d0\"], [0.7, \"#b8e186\"], [0.8, \"#7fbc41\"], [0.9, \"#4d9221\"], [1, \"#276419\"]], \"sequential\": [[0.0, \"#0d0887\"], [0.1111111111111111, \"#46039f\"], [0.2222222222222222, \"#7201a8\"], [0.3333333333333333, \"#9c179e\"], [0.4444444444444444, \"#bd3786\"], [0.5555555555555556, \"#d8576b\"], [0.6666666666666666, \"#ed7953\"], [0.7777777777777778, \"#fb9f3a\"], [0.8888888888888888, \"#fdca26\"], [1.0, \"#f0f921\"]], \"sequentialminus\": [[0.0, \"#0d0887\"], [0.1111111111111111, \"#46039f\"], [0.2222222222222222, \"#7201a8\"], [0.3333333333333333, \"#9c179e\"], [0.4444444444444444, \"#bd3786\"], [0.5555555555555556, \"#d8576b\"], [0.6666666666666666, \"#ed7953\"], [0.7777777777777778, \"#fb9f3a\"], [0.8888888888888888, \"#fdca26\"], [1.0, \"#f0f921\"]]}, \"colorway\": [\"#636efa\", \"#EF553B\", \"#00cc96\", \"#ab63fa\", \"#FFA15A\", \"#19d3f3\", \"#FF6692\", \"#B6E880\", \"#FF97FF\", \"#FECB52\"], \"font\": {\"color\": \"#2a3f5f\"}, \"geo\": {\"bgcolor\": \"white\", \"lakecolor\": \"white\", \"landcolor\": \"#E5ECF6\", \"showlakes\": true, \"showland\": true, \"subunitcolor\": \"white\"}, \"hoverlabel\": {\"align\": \"left\"}, \"hovermode\": \"closest\", \"mapbox\": {\"style\": \"light\"}, \"paper_bgcolor\": \"white\", \"plot_bgcolor\": \"#E5ECF6\", \"polar\": {\"angularaxis\": {\"gridcolor\": \"white\", \"linecolor\": \"white\", \"ticks\": \"\"}, \"bgcolor\": \"#E5ECF6\", \"radialaxis\": {\"gridcolor\": \"white\", \"linecolor\": \"white\", \"ticks\": \"\"}}, \"scene\": {\"xaxis\": {\"backgroundcolor\": \"#E5ECF6\", \"gridcolor\": \"white\", \"gridwidth\": 2, \"linecolor\": \"white\", \"showbackground\": true, \"ticks\": \"\", \"zerolinecolor\": \"white\"}, \"yaxis\": {\"backgroundcolor\": \"#E5ECF6\", \"gridcolor\": \"white\", \"gridwidth\": 2, \"linecolor\": \"white\", \"showbackground\": true, \"ticks\": \"\", \"zerolinecolor\": \"white\"}, \"zaxis\": {\"backgroundcolor\": \"#E5ECF6\", \"gridcolor\": \"white\", \"gridwidth\": 2, \"linecolor\": \"white\", \"showbackground\": true, \"ticks\": \"\", \"zerolinecolor\": \"white\"}}, \"shapedefaults\": {\"line\": {\"color\": \"#2a3f5f\"}}, \"ternary\": {\"aaxis\": {\"gridcolor\": \"white\", \"linecolor\": \"white\", \"ticks\": \"\"}, \"baxis\": {\"gridcolor\": \"white\", \"linecolor\": \"white\", \"ticks\": \"\"}, \"bgcolor\": \"#E5ECF6\", \"caxis\": {\"gridcolor\": \"white\", \"linecolor\": \"white\", \"ticks\": \"\"}}, \"title\": {\"x\": 0.05}, \"xaxis\": {\"automargin\": true, \"gridcolor\": \"white\", \"linecolor\": \"white\", \"ticks\": \"\", \"title\": {\"standoff\": 15}, \"zerolinecolor\": \"white\", \"zerolinewidth\": 2}, \"yaxis\": {\"automargin\": true, \"gridcolor\": \"white\", \"linecolor\": \"white\", \"ticks\": \"\", \"title\": {\"standoff\": 15}, \"zerolinecolor\": \"white\", \"zerolinewidth\": 2}}}},\n",
       "                        {\"responsive\": true}\n",
       "                    ).then(function(){\n",
       "                            \n",
       "var gd = document.getElementById('b6a3b5f3-38b1-4d9e-9b7a-de7c04339f9a');\n",
       "var x = new MutationObserver(function (mutations, observer) {{\n",
       "        var display = window.getComputedStyle(gd).display;\n",
       "        if (!display || display === 'none') {{\n",
       "            console.log([gd, 'removed!']);\n",
       "            Plotly.purge(gd);\n",
       "            observer.disconnect();\n",
       "        }}\n",
       "}});\n",
       "\n",
       "// Listen for the removal of the full notebook cells\n",
       "var notebookContainer = gd.closest('#notebook-container');\n",
       "if (notebookContainer) {{\n",
       "    x.observe(notebookContainer, {childList: true});\n",
       "}}\n",
       "\n",
       "// Listen for the clearing of the current output cell\n",
       "var outputEl = gd.closest('.output');\n",
       "if (outputEl) {{\n",
       "    x.observe(outputEl, {childList: true});\n",
       "}}\n",
       "\n",
       "                        })\n",
       "                };\n",
       "                });\n",
       "            </script>\n",
       "        </div>"
      ]
     },
     "metadata": {},
     "output_type": "display_data"
    },
    {
     "data": {
      "image/png": "[encoded data removed]",
      "text/plain": [
       "<Figure size 432x288 with 1 Axes>"
      ]
     },
     "metadata": {
      "needs_background": "light"
     },
     "output_type": "display_data"
    },
    {
     "data": {
      "text/html": [
       "<table class=\"simpletable\">\n",
       "<caption>OLS Regression Results</caption>\n",
       "<tr>\n",
       "  <th>Dep. Variable:</th>          <td>usage</td>      <th>  R-squared:         </th> <td>   0.764</td> \n",
       "</tr>\n",
       "<tr>\n",
       "  <th>Model:</th>                   <td>OLS</td>       <th>  Adj. R-squared:    </th> <td>   0.759</td> \n",
       "</tr>\n",
       "<tr>\n",
       "  <th>Method:</th>             <td>Least Squares</td>  <th>  F-statistic:       </th> <td>   140.8</td> \n",
       "</tr>\n",
       "<tr>\n",
       "  <th>Date:</th>             <td>Mon, 31 Aug 2020</td> <th>  Prob (F-statistic):</th> <td>4.52e-104</td>\n",
       "</tr>\n",
       "<tr>\n",
       "  <th>Time:</th>                 <td>09:02:33</td>     <th>  Log-Likelihood:    </th> <td> -294.77</td> \n",
       "</tr>\n",
       "<tr>\n",
       "  <th>No. Observations:</th>      <td>   356</td>      <th>  AIC:               </th> <td>   607.5</td> \n",
       "</tr>\n",
       "<tr>\n",
       "  <th>Df Residuals:</th>          <td>   347</td>      <th>  BIC:               </th> <td>   642.4</td> \n",
       "</tr>\n",
       "<tr>\n",
       "  <th>Df Model:</th>              <td>     8</td>      <th>                     </th>     <td> </td>    \n",
       "</tr>\n",
       "<tr>\n",
       "  <th>Covariance Type:</th>      <td>nonrobust</td>    <th>                     </th>     <td> </td>    \n",
       "</tr>\n",
       "</table>\n",
       "<table class=\"simpletable\">\n",
       "<tr>\n",
       "               <td></td>                  <th>coef</th>     <th>std err</th>      <th>t</th>      <th>P>|t|</th>  <th>[0.025</th>    <th>0.975]</th>  \n",
       "</tr>\n",
       "<tr>\n",
       "  <th>Intercept</th>                   <td>    0.8000</td> <td>    0.099</td> <td>    8.112</td> <td> 0.000</td> <td>    0.606</td> <td>    0.994</td>\n",
       "</tr>\n",
       "<tr>\n",
       "  <th>C(day_of_week)[T.Monday]</th>    <td>   -0.0094</td> <td>    0.111</td> <td>   -0.085</td> <td> 0.932</td> <td>   -0.227</td> <td>    0.208</td>\n",
       "</tr>\n",
       "<tr>\n",
       "  <th>C(day_of_week)[T.Saturday]</th>  <td>    0.4751</td> <td>    0.111</td> <td>    4.275</td> <td> 0.000</td> <td>    0.257</td> <td>    0.694</td>\n",
       "</tr>\n",
       "<tr>\n",
       "  <th>C(day_of_week)[T.Sunday]</th>    <td>    0.4279</td> <td>    0.111</td> <td>    3.869</td> <td> 0.000</td> <td>    0.210</td> <td>    0.645</td>\n",
       "</tr>\n",
       "<tr>\n",
       "  <th>C(day_of_week)[T.Thursday]</th>  <td>   -0.1382</td> <td>    0.111</td> <td>   -1.250</td> <td> 0.212</td> <td>   -0.356</td> <td>    0.079</td>\n",
       "</tr>\n",
       "<tr>\n",
       "  <th>C(day_of_week)[T.Tuesday]</th>   <td>   -0.1286</td> <td>    0.111</td> <td>   -1.157</td> <td> 0.248</td> <td>   -0.347</td> <td>    0.090</td>\n",
       "</tr>\n",
       "<tr>\n",
       "  <th>C(day_of_week)[T.Wednesday]</th> <td>   -0.0915</td> <td>    0.111</td> <td>   -0.827</td> <td> 0.409</td> <td>   -0.309</td> <td>    0.126</td>\n",
       "</tr>\n",
       "<tr>\n",
       "  <th>cdd</th>                         <td>    0.0072</td> <td>    0.000</td> <td>   28.002</td> <td> 0.000</td> <td>    0.007</td> <td>    0.008</td>\n",
       "</tr>\n",
       "<tr>\n",
       "  <th>hdd</th>                         <td>    0.0011</td> <td>    0.000</td> <td>    6.267</td> <td> 0.000</td> <td>    0.001</td> <td>    0.001</td>\n",
       "</tr>\n",
       "</table>\n",
       "<table class=\"simpletable\">\n",
       "<tr>\n",
       "  <th>Omnibus:</th>       <td>30.893</td> <th>  Durbin-Watson:     </th> <td>   1.367</td>\n",
       "</tr>\n",
       "<tr>\n",
       "  <th>Prob(Omnibus):</th> <td> 0.000</td> <th>  Jarque-Bera (JB):  </th> <td> 112.722</td>\n",
       "</tr>\n",
       "<tr>\n",
       "  <th>Skew:</th>          <td> 0.239</td> <th>  Prob(JB):          </th> <td>3.33e-25</td>\n",
       "</tr>\n",
       "<tr>\n",
       "  <th>Kurtosis:</th>      <td> 5.715</td> <th>  Cond. No.          </th> <td>2.17e+03</td>\n",
       "</tr>\n",
       "</table><br/><br/>Warnings:<br/>[1] Standard Errors assume that the covariance matrix of the errors is correctly specified.<br/>[2] The condition number is large, 2.17e+03. This might indicate that there are<br/>strong multicollinearity or other numerical problems."
      ],
      "text/plain": [
       "<class 'statsmodels.iolib.summary.Summary'>\n",
       "\"\"\"\n",
       "                            OLS Regression Results                            \n",
       "==============================================================================\n",
       "Dep. Variable:                  usage   R-squared:                       0.764\n",
       "Model:                            OLS   Adj. R-squared:                  0.759\n",
       "Method:                 Least Squares   F-statistic:                     140.8\n",
       "Date:                Mon, 31 Aug 2020   Prob (F-statistic):          4.52e-104\n",
       "Time:                        09:02:33   Log-Likelihood:                -294.77\n",
       "No. Observations:                 356   AIC:                             607.5\n",
       "Df Residuals:                     347   BIC:                             642.4\n",
       "Df Model:                           8                                         \n",
       "Covariance Type:            nonrobust                                         \n",
       "===============================================================================================\n",
       "                                  coef    std err          t      P>|t|      [0.025      0.975]\n",
       "-----------------------------------------------------------------------------------------------\n",
       "Intercept                       0.8000      0.099      8.112      0.000       0.606       0.994\n",
       "C(day_of_week)[T.Monday]       -0.0094      0.111     -0.085      0.932      -0.227       0.208\n",
       "C(day_of_week)[T.Saturday]      0.4751      0.111      4.275      0.000       0.257       0.694\n",
       "C(day_of_week)[T.Sunday]        0.4279      0.111      3.869      0.000       0.210       0.645\n",
       "C(day_of_week)[T.Thursday]     -0.1382      0.111     -1.250      0.212      -0.356       0.079\n",
       "C(day_of_week)[T.Tuesday]      -0.1286      0.111     -1.157      0.248      -0.347       0.090\n",
       "C(day_of_week)[T.Wednesday]    -0.0915      0.111     -0.827      0.409      -0.309       0.126\n",
       "cdd                             0.0072      0.000     28.002      0.000       0.007       0.008\n",
       "hdd                             0.0011      0.000      6.267      0.000       0.001       0.001\n",
       "==============================================================================\n",
       "Omnibus:                       30.893   Durbin-Watson:                   1.367\n",
       "Prob(Omnibus):                  0.000   Jarque-Bera (JB):              112.722\n",
       "Skew:                           0.239   Prob(JB):                     3.33e-25\n",
       "Kurtosis:                       5.715   Cond. No.                     2.17e+03\n",
       "==============================================================================\n",
       "\n",
       "Warnings:\n",
       "[1] Standard Errors assume that the covariance matrix of the errors is correctly specified.\n",
       "[2] The condition number is large, 2.17e+03. This might indicate that there are\n",
       "strong multicollinearity or other numerical problems.\n",
       "\"\"\""
      ]
     },
     "execution_count": 267,
     "metadata": {},
     "output_type": "execute_result"
    }
   ],
   "source": [
    "# which dataid to look at\n",
    "i = 0\n",
    "\n",
    "# grab the results for the current datatid\n",
    "results_dataid = results_dataids[i]\n",
    "\n",
    "# pull out the results as a pandas dataframe\n",
    "df = pd.DataFrame(results_dataid['results'])\n",
    "\n",
    "# grab the best scoring balance parameters\n",
    "best_fit = df.iloc[df['score'].idxmin()]\n",
    "\n",
    "# get the dataid from the results dict\n",
    "dataid = results_dataid['dataid']\n",
    "\n",
    "# fetch the data for the current dataid\n",
    "data_dataid = data[data['dataid'] == dataid].copy()\n",
    "\n",
    "# extract hourly temperatures as a numpy array\n",
    "temps = np.array(data_dataid['hourly_temps'].tolist())\n",
    "\n",
    "# recalculate the degree difference from the best model\n",
    "temp_cooling = best_fit['balance'] + best_fit['distance']/2.0\n",
    "data_dataid['cdd'] = degree_difference(temp_cooling, temps, is_cooling=True)\n",
    "temp_heating = best_fit['balance'] - best_fit['distance']/2.0\n",
    "data_dataid['hdd'] = degree_difference(temp_heating, temps, is_cooling=False)\n",
    "\n",
    "# rebuild the best model\n",
    "lmod = smf.ols(\n",
    "    formula = \"usage ~ cdd + hdd + C(day_of_week)\",\n",
    "    data = data_dataid\n",
    ").fit()\n",
    "\n",
    "# fit a model without the day of the week to compare if it was useful\n",
    "lmod_no_dow = smf.ols(\n",
    "    formula = \"usage ~ cdd + hdd\",\n",
    "    data = data_dataid\n",
    ").fit()\n",
    "\n",
    "# use ANOVA to determine if we should keep the day of the week feature\n",
    "anova_results = anova_lm(lmod_no_dow, lmod)\n",
    "print(anova_results)\n",
    "has_day_of_week = anova_results['Pr(>F)'][1] < 0.05\n",
    "if not has_day_of_week:\n",
    "    lmod = lmod_no_dow\n",
    "else:\n",
    "    plotDayOfWeekEffect(lmod)\n",
    "    \n",
    "# plot the model vs the observed\n",
    "plotModel(best_fit['balance'], best_fit['distance'], data_dataid, lmod)\n",
    "\n",
    "# output the model summary table\n",
    "lmod.summary()"
   ]
  },
  {
   "cell_type": "markdown",
   "metadata": {},
   "source": [
    "## Look at our predicted heating/cooling vs actual"
   ]
  },
  {
   "cell_type": "code",
   "execution_count": 253,
   "metadata": {},
   "outputs": [
    {
     "data": {
      "image/png": "[encoded data removed]",
      "text/plain": [
       "<Figure size 432x288 with 1 Axes>"
      ]
     },
     "metadata": {
      "needs_background": "light"
     },
     "output_type": "display_data"
    },
    {
     "data": {
      "image/png": "[encoded data removed]",
      "text/plain": [
       "<Figure size 432x288 with 1 Axes>"
      ]
     },
     "metadata": {
      "needs_background": "light"
     },
     "output_type": "display_data"
    }
   ],
   "source": [
    "pred_cooling = (lmod.model.exog[:, lmod.params.index == 'cdd'] * lmod.params['cdd']).flatten()\n",
    "pred_heating = (lmod.model.exog[:, lmod.params.index == 'hdd'] * lmod.params['hdd']).flatten()\n",
    "\n",
    "actual_cooling = data_dataid['cooling']/1000\n",
    "actual_heating = data_dataid['heating']/1000\n",
    "\n",
    "total_cooling_actual = sum(actual_cooling)\n",
    "total_cooling_pred = sum(pred_cooling)\n",
    "\n",
    "total_heating_actual = sum(actual_heating)\n",
    "total_heating_pred = sum(pred_heating)\n",
    "\n",
    "plt.title('Cooling - Observed vs Predicted')\n",
    "plt.scatter(pred_cooling, actual_cooling)\n",
    "max_cooling = max(pred_cooling.max(), actual_cooling.max())\n",
    "plt.plot([0,max_cooling],[0,max_cooling],c='black')\n",
    "plt.xlabel('Predicted')\n",
    "plt.ylabel('Observed')\n",
    "plt.show()\n",
    "\n",
    "plt.title('Heating - Observed vs Predicted')\n",
    "plt.scatter(pred_heating, actual_heating)\n",
    "max_heating = max(pred_heating.max(), actual_heating.max())\n",
    "plt.plot([0,max_heating],[0,max_heating],c='black')\n",
    "plt.xlabel('Predicted')\n",
    "plt.ylabel('Observed')\n",
    "plt.show()"
   ]
  },
  {
   "cell_type": "markdown",
   "metadata": {},
   "source": [
    "## Extract some values from the best fit models for later analysis"
   ]
  },
  {
   "cell_type": "code",
   "execution_count": 284,
   "metadata": {
    "scrolled": true
   },
   "outputs": [
    {
     "data": {
      "text/html": [
       "<div>\n",
       "<style scoped>\n",
       "    .dataframe tbody tr th:only-of-type {\n",
       "        vertical-align: middle;\n",
       "    }\n",
       "\n",
       "    .dataframe tbody tr th {\n",
       "        vertical-align: top;\n",
       "    }\n",
       "\n",
       "    .dataframe thead th {\n",
       "        text-align: right;\n",
       "    }\n",
       "</style>\n",
       "<table border=\"1\" class=\"dataframe\">\n",
       "  <thead>\n",
       "    <tr style=\"text-align: right;\">\n",
       "      <th></th>\n",
       "      <th>dataid</th>\n",
       "      <th>temp_cooling</th>\n",
       "      <th>temp_heating</th>\n",
       "      <th>r2</th>\n",
       "      <th>cooling_pred</th>\n",
       "      <th>cooling_actual</th>\n",
       "      <th>heating_pred</th>\n",
       "      <th>heating_actual</th>\n",
       "    </tr>\n",
       "  </thead>\n",
       "  <tbody>\n",
       "    <tr>\n",
       "      <th>0</th>\n",
       "      <td>661</td>\n",
       "      <td>68.0</td>\n",
       "      <td>68.0</td>\n",
       "      <td>0.764478</td>\n",
       "      <td>365.992010</td>\n",
       "      <td>227.336181</td>\n",
       "      <td>68.038496</td>\n",
       "      <td>82.170722</td>\n",
       "    </tr>\n",
       "    <tr>\n",
       "      <th>1</th>\n",
       "      <td>1642</td>\n",
       "      <td>61.0</td>\n",
       "      <td>59.0</td>\n",
       "      <td>0.601108</td>\n",
       "      <td>309.789162</td>\n",
       "      <td>194.134820</td>\n",
       "      <td>22.330486</td>\n",
       "      <td>122.835869</td>\n",
       "    </tr>\n",
       "    <tr>\n",
       "      <th>2</th>\n",
       "      <td>2335</td>\n",
       "      <td>65.0</td>\n",
       "      <td>65.0</td>\n",
       "      <td>0.809245</td>\n",
       "      <td>361.364843</td>\n",
       "      <td>260.837272</td>\n",
       "      <td>45.597750</td>\n",
       "      <td>109.247848</td>\n",
       "    </tr>\n",
       "    <tr>\n",
       "      <th>3</th>\n",
       "      <td>2361</td>\n",
       "      <td>67.5</td>\n",
       "      <td>66.5</td>\n",
       "      <td>0.712820</td>\n",
       "      <td>370.673348</td>\n",
       "      <td>267.919643</td>\n",
       "      <td>35.966669</td>\n",
       "      <td>85.048839</td>\n",
       "    </tr>\n",
       "    <tr>\n",
       "      <th>4</th>\n",
       "      <td>2818</td>\n",
       "      <td>64.0</td>\n",
       "      <td>64.0</td>\n",
       "      <td>0.923885</td>\n",
       "      <td>565.933720</td>\n",
       "      <td>372.947116</td>\n",
       "      <td>41.206601</td>\n",
       "      <td>127.055275</td>\n",
       "    </tr>\n",
       "    <tr>\n",
       "      <th>5</th>\n",
       "      <td>3039</td>\n",
       "      <td>56.0</td>\n",
       "      <td>46.0</td>\n",
       "      <td>0.697176</td>\n",
       "      <td>521.924565</td>\n",
       "      <td>427.233674</td>\n",
       "      <td>11.203256</td>\n",
       "      <td>0.000000</td>\n",
       "    </tr>\n",
       "    <tr>\n",
       "      <th>6</th>\n",
       "      <td>3456</td>\n",
       "      <td>67.0</td>\n",
       "      <td>67.0</td>\n",
       "      <td>0.831983</td>\n",
       "      <td>232.678299</td>\n",
       "      <td>171.082050</td>\n",
       "      <td>29.959641</td>\n",
       "      <td>65.121982</td>\n",
       "    </tr>\n",
       "    <tr>\n",
       "      <th>7</th>\n",
       "      <td>3538</td>\n",
       "      <td>66.0</td>\n",
       "      <td>66.0</td>\n",
       "      <td>0.810244</td>\n",
       "      <td>234.456659</td>\n",
       "      <td>135.308519</td>\n",
       "      <td>35.952499</td>\n",
       "      <td>50.952543</td>\n",
       "    </tr>\n",
       "    <tr>\n",
       "      <th>8</th>\n",
       "      <td>4031</td>\n",
       "      <td>65.0</td>\n",
       "      <td>65.0</td>\n",
       "      <td>0.734121</td>\n",
       "      <td>278.988785</td>\n",
       "      <td>0.000000</td>\n",
       "      <td>38.345054</td>\n",
       "      <td>58.222450</td>\n",
       "    </tr>\n",
       "    <tr>\n",
       "      <th>9</th>\n",
       "      <td>4373</td>\n",
       "      <td>63.5</td>\n",
       "      <td>62.5</td>\n",
       "      <td>0.771131</td>\n",
       "      <td>427.604609</td>\n",
       "      <td>287.415519</td>\n",
       "      <td>45.198985</td>\n",
       "      <td>115.551474</td>\n",
       "    </tr>\n",
       "    <tr>\n",
       "      <th>10</th>\n",
       "      <td>4767</td>\n",
       "      <td>66.0</td>\n",
       "      <td>66.0</td>\n",
       "      <td>0.709761</td>\n",
       "      <td>625.980384</td>\n",
       "      <td>382.705712</td>\n",
       "      <td>101.590914</td>\n",
       "      <td>173.057284</td>\n",
       "    </tr>\n",
       "    <tr>\n",
       "      <th>11</th>\n",
       "      <td>5746</td>\n",
       "      <td>69.5</td>\n",
       "      <td>50.5</td>\n",
       "      <td>0.860540</td>\n",
       "      <td>256.719938</td>\n",
       "      <td>220.063533</td>\n",
       "      <td>19.295677</td>\n",
       "      <td>51.369046</td>\n",
       "    </tr>\n",
       "    <tr>\n",
       "      <th>12</th>\n",
       "      <td>6139</td>\n",
       "      <td>68.5</td>\n",
       "      <td>53.5</td>\n",
       "      <td>0.692518</td>\n",
       "      <td>269.106020</td>\n",
       "      <td>203.580475</td>\n",
       "      <td>23.198040</td>\n",
       "      <td>49.124984</td>\n",
       "    </tr>\n",
       "    <tr>\n",
       "      <th>13</th>\n",
       "      <td>7536</td>\n",
       "      <td>65.0</td>\n",
       "      <td>65.0</td>\n",
       "      <td>0.876431</td>\n",
       "      <td>420.698614</td>\n",
       "      <td>273.340604</td>\n",
       "      <td>43.918977</td>\n",
       "      <td>119.058001</td>\n",
       "    </tr>\n",
       "    <tr>\n",
       "      <th>14</th>\n",
       "      <td>7719</td>\n",
       "      <td>64.0</td>\n",
       "      <td>64.0</td>\n",
       "      <td>0.791398</td>\n",
       "      <td>472.975784</td>\n",
       "      <td>334.258337</td>\n",
       "      <td>42.243893</td>\n",
       "      <td>178.145617</td>\n",
       "    </tr>\n",
       "    <tr>\n",
       "      <th>15</th>\n",
       "      <td>7800</td>\n",
       "      <td>64.5</td>\n",
       "      <td>63.5</td>\n",
       "      <td>0.840405</td>\n",
       "      <td>296.543585</td>\n",
       "      <td>233.409470</td>\n",
       "      <td>37.485224</td>\n",
       "      <td>67.142632</td>\n",
       "    </tr>\n",
       "    <tr>\n",
       "      <th>16</th>\n",
       "      <td>7901</td>\n",
       "      <td>62.5</td>\n",
       "      <td>61.5</td>\n",
       "      <td>0.705154</td>\n",
       "      <td>321.753649</td>\n",
       "      <td>230.059919</td>\n",
       "      <td>24.509459</td>\n",
       "      <td>80.357479</td>\n",
       "    </tr>\n",
       "    <tr>\n",
       "      <th>17</th>\n",
       "      <td>7951</td>\n",
       "      <td>68.0</td>\n",
       "      <td>56.0</td>\n",
       "      <td>0.763070</td>\n",
       "      <td>300.070271</td>\n",
       "      <td>223.001544</td>\n",
       "      <td>109.528545</td>\n",
       "      <td>53.909798</td>\n",
       "    </tr>\n",
       "    <tr>\n",
       "      <th>18</th>\n",
       "      <td>8156</td>\n",
       "      <td>58.0</td>\n",
       "      <td>38.0</td>\n",
       "      <td>0.750501</td>\n",
       "      <td>678.516304</td>\n",
       "      <td>470.820778</td>\n",
       "      <td>13.528705</td>\n",
       "      <td>210.762628</td>\n",
       "    </tr>\n",
       "    <tr>\n",
       "      <th>19</th>\n",
       "      <td>8386</td>\n",
       "      <td>67.5</td>\n",
       "      <td>64.5</td>\n",
       "      <td>0.538069</td>\n",
       "      <td>139.746053</td>\n",
       "      <td>96.108381</td>\n",
       "      <td>21.598018</td>\n",
       "      <td>25.860412</td>\n",
       "    </tr>\n",
       "    <tr>\n",
       "      <th>20</th>\n",
       "      <td>8565</td>\n",
       "      <td>55.5</td>\n",
       "      <td>52.5</td>\n",
       "      <td>0.629957</td>\n",
       "      <td>294.037139</td>\n",
       "      <td>258.189854</td>\n",
       "      <td>0.868819</td>\n",
       "      <td>185.535849</td>\n",
       "    </tr>\n",
       "    <tr>\n",
       "      <th>21</th>\n",
       "      <td>9019</td>\n",
       "      <td>68.0</td>\n",
       "      <td>68.0</td>\n",
       "      <td>0.610750</td>\n",
       "      <td>165.095527</td>\n",
       "      <td>128.248546</td>\n",
       "      <td>39.199666</td>\n",
       "      <td>22.620851</td>\n",
       "    </tr>\n",
       "    <tr>\n",
       "      <th>22</th>\n",
       "      <td>9160</td>\n",
       "      <td>66.0</td>\n",
       "      <td>56.0</td>\n",
       "      <td>0.857074</td>\n",
       "      <td>303.135469</td>\n",
       "      <td>228.592043</td>\n",
       "      <td>20.729405</td>\n",
       "      <td>82.381646</td>\n",
       "    </tr>\n",
       "    <tr>\n",
       "      <th>23</th>\n",
       "      <td>9278</td>\n",
       "      <td>56.0</td>\n",
       "      <td>46.0</td>\n",
       "      <td>0.255692</td>\n",
       "      <td>320.164811</td>\n",
       "      <td>396.225395</td>\n",
       "      <td>87.864081</td>\n",
       "      <td>75.631407</td>\n",
       "    </tr>\n",
       "    <tr>\n",
       "      <th>24</th>\n",
       "      <td>9922</td>\n",
       "      <td>85.0</td>\n",
       "      <td>75.0</td>\n",
       "      <td>0.091083</td>\n",
       "      <td>-51.386423</td>\n",
       "      <td>199.376556</td>\n",
       "      <td>-128.649040</td>\n",
       "      <td>122.553524</td>\n",
       "    </tr>\n",
       "  </tbody>\n",
       "</table>\n",
       "</div>"
      ],
      "text/plain": [
       "    dataid  temp_cooling  temp_heating        r2  cooling_pred  \\\n",
       "0      661          68.0          68.0  0.764478    365.992010   \n",
       "1     1642          61.0          59.0  0.601108    309.789162   \n",
       "2     2335          65.0          65.0  0.809245    361.364843   \n",
       "3     2361          67.5          66.5  0.712820    370.673348   \n",
       "4     2818          64.0          64.0  0.923885    565.933720   \n",
       "5     3039          56.0          46.0  0.697176    521.924565   \n",
       "6     3456          67.0          67.0  0.831983    232.678299   \n",
       "7     3538          66.0          66.0  0.810244    234.456659   \n",
       "8     4031          65.0          65.0  0.734121    278.988785   \n",
       "9     4373          63.5          62.5  0.771131    427.604609   \n",
       "10    4767          66.0          66.0  0.709761    625.980384   \n",
       "11    5746          69.5          50.5  0.860540    256.719938   \n",
       "12    6139          68.5          53.5  0.692518    269.106020   \n",
       "13    7536          65.0          65.0  0.876431    420.698614   \n",
       "14    7719          64.0          64.0  0.791398    472.975784   \n",
       "15    7800          64.5          63.5  0.840405    296.543585   \n",
       "16    7901          62.5          61.5  0.705154    321.753649   \n",
       "17    7951          68.0          56.0  0.763070    300.070271   \n",
       "18    8156          58.0          38.0  0.750501    678.516304   \n",
       "19    8386          67.5          64.5  0.538069    139.746053   \n",
       "20    8565          55.5          52.5  0.629957    294.037139   \n",
       "21    9019          68.0          68.0  0.610750    165.095527   \n",
       "22    9160          66.0          56.0  0.857074    303.135469   \n",
       "23    9278          56.0          46.0  0.255692    320.164811   \n",
       "24    9922          85.0          75.0  0.091083    -51.386423   \n",
       "\n",
       "    cooling_actual  heating_pred  heating_actual  \n",
       "0       227.336181     68.038496       82.170722  \n",
       "1       194.134820     22.330486      122.835869  \n",
       "2       260.837272     45.597750      109.247848  \n",
       "3       267.919643     35.966669       85.048839  \n",
       "4       372.947116     41.206601      127.055275  \n",
       "5       427.233674     11.203256        0.000000  \n",
       "6       171.082050     29.959641       65.121982  \n",
       "7       135.308519     35.952499       50.952543  \n",
       "8         0.000000     38.345054       58.222450  \n",
       "9       287.415519     45.198985      115.551474  \n",
       "10      382.705712    101.590914      173.057284  \n",
       "11      220.063533     19.295677       51.369046  \n",
       "12      203.580475     23.198040       49.124984  \n",
       "13      273.340604     43.918977      119.058001  \n",
       "14      334.258337     42.243893      178.145617  \n",
       "15      233.409470     37.485224       67.142632  \n",
       "16      230.059919     24.509459       80.357479  \n",
       "17      223.001544    109.528545       53.909798  \n",
       "18      470.820778     13.528705      210.762628  \n",
       "19       96.108381     21.598018       25.860412  \n",
       "20      258.189854      0.868819      185.535849  \n",
       "21      128.248546     39.199666       22.620851  \n",
       "22      228.592043     20.729405       82.381646  \n",
       "23      396.225395     87.864081       75.631407  \n",
       "24      199.376556   -128.649040      122.553524  "
      ]
     },
     "execution_count": 284,
     "metadata": {},
     "output_type": "execute_result"
    }
   ],
   "source": [
    "cleaned_results = []\n",
    "\n",
    "for cur_results_dataid in results_dataids:\n",
    "    results_dataid = cur_results_dataid.copy()\n",
    "\n",
    "    df = pd.DataFrame(results_dataid['results'])\n",
    "    best_fit = df.iloc[df['score'].idxmin()]\n",
    "\n",
    "    dataid = results_dataid['dataid']\n",
    "    data_dataid = data[data['dataid'] == dataid].copy()\n",
    "\n",
    "    temps = np.array(data_dataid['hourly_temps'].tolist())\n",
    "\n",
    "    temp_cooling = best_fit['balance'] + best_fit['distance']/2.0\n",
    "    temp_heating = best_fit['balance'] - best_fit['distance']/2.0\n",
    "\n",
    "    results_dataid['temp_cooling'] = temp_cooling\n",
    "    results_dataid['temp_heating'] = temp_heating\n",
    "\n",
    "    data_dataid['cdd'] = degree_difference(temp_cooling, temps, is_cooling=True)\n",
    "    data_dataid['hdd'] = degree_difference(temp_heating, temps, is_cooling=False)\n",
    "\n",
    "    lmod = smf.ols(\n",
    "        formula = \"usage ~ cdd + hdd + C(day_of_week)\",\n",
    "        data = data_dataid\n",
    "    ).fit()\n",
    "\n",
    "    lmod_no_dow = smf.ols(\n",
    "        formula = \"usage ~ cdd + hdd\",\n",
    "        data = data_dataid\n",
    "    ).fit()\n",
    "\n",
    "    anova_results = anova_lm(lmod_no_dow, lmod)\n",
    "\n",
    "    has_day_of_week = anova_results['Pr(>F)'][1] < 0.05\n",
    "    if not has_day_of_week:\n",
    "        lmod = lmod_no_dow\n",
    "\n",
    "    results_dataid['r2'] = lmod.rsquared\n",
    "\n",
    "    pred_cooling = (lmod.model.exog[:, lmod.params.index == 'cdd'] * lmod.params['cdd']).flatten()\n",
    "    pred_heating = (lmod.model.exog[:, lmod.params.index == 'hdd'] * lmod.params['hdd']).flatten()\n",
    "\n",
    "    actual_cooling = data_dataid['cooling']/1000\n",
    "    actual_heating = data_dataid['heating']/1000\n",
    "\n",
    "    total_cooling_actual = sum(actual_cooling)\n",
    "    total_cooling_pred = sum(pred_cooling)\n",
    "\n",
    "    total_heating_actual = sum(actual_heating)\n",
    "    total_heating_pred = sum(pred_heating)\n",
    "\n",
    "    results_dataid['cooling_pred'] = total_cooling_pred\n",
    "    results_dataid['cooling_actual'] = total_cooling_actual\n",
    "    results_dataid['heating_pred'] = total_heating_pred\n",
    "    results_dataid['heating_actual'] = total_heating_actual\n",
    "\n",
    "    del results_dataid['results']\n",
    "\n",
    "    cleaned_results.append(results_dataid)\n",
    "    \n",
    "cleaned_results = pd.DataFrame(cleaned_results)\n",
    "cleaned_results = cleaned_results.set_index('dataid')\n",
    "cleaned_results"
   ]
  },
  {
   "cell_type": "code",
   "execution_count": 288,
   "metadata": {},
   "outputs": [
    {
     "data": {
      "text/html": [
       "<div>\n",
       "<style scoped>\n",
       "    .dataframe tbody tr th:only-of-type {\n",
       "        vertical-align: middle;\n",
       "    }\n",
       "\n",
       "    .dataframe tbody tr th {\n",
       "        vertical-align: top;\n",
       "    }\n",
       "\n",
       "    .dataframe thead th {\n",
       "        text-align: right;\n",
       "    }\n",
       "</style>\n",
       "<table border=\"1\" class=\"dataframe\">\n",
       "  <thead>\n",
       "    <tr style=\"text-align: right;\">\n",
       "      <th></th>\n",
       "      <th>temp_cooling</th>\n",
       "      <th>temp_heating</th>\n",
       "      <th>r2</th>\n",
       "      <th>cooling_pred</th>\n",
       "      <th>cooling_actual</th>\n",
       "      <th>heating_pred</th>\n",
       "      <th>heating_actual</th>\n",
       "    </tr>\n",
       "    <tr>\n",
       "      <th>dataid</th>\n",
       "      <th></th>\n",
       "      <th></th>\n",
       "      <th></th>\n",
       "      <th></th>\n",
       "      <th></th>\n",
       "      <th></th>\n",
       "      <th></th>\n",
       "    </tr>\n",
       "  </thead>\n",
       "  <tbody>\n",
       "    <tr>\n",
       "      <th>661</th>\n",
       "      <td>68.0</td>\n",
       "      <td>68.0</td>\n",
       "      <td>0.764478</td>\n",
       "      <td>365.992010</td>\n",
       "      <td>227.336181</td>\n",
       "      <td>68.038496</td>\n",
       "      <td>82.170722</td>\n",
       "    </tr>\n",
       "    <tr>\n",
       "      <th>1642</th>\n",
       "      <td>61.0</td>\n",
       "      <td>59.0</td>\n",
       "      <td>0.601108</td>\n",
       "      <td>309.789162</td>\n",
       "      <td>194.134820</td>\n",
       "      <td>22.330486</td>\n",
       "      <td>122.835869</td>\n",
       "    </tr>\n",
       "    <tr>\n",
       "      <th>2335</th>\n",
       "      <td>65.0</td>\n",
       "      <td>65.0</td>\n",
       "      <td>0.809245</td>\n",
       "      <td>361.364843</td>\n",
       "      <td>260.837272</td>\n",
       "      <td>45.597750</td>\n",
       "      <td>109.247848</td>\n",
       "    </tr>\n",
       "    <tr>\n",
       "      <th>2361</th>\n",
       "      <td>67.5</td>\n",
       "      <td>66.5</td>\n",
       "      <td>0.712820</td>\n",
       "      <td>370.673348</td>\n",
       "      <td>267.919643</td>\n",
       "      <td>35.966669</td>\n",
       "      <td>85.048839</td>\n",
       "    </tr>\n",
       "    <tr>\n",
       "      <th>2818</th>\n",
       "      <td>64.0</td>\n",
       "      <td>64.0</td>\n",
       "      <td>0.923885</td>\n",
       "      <td>565.933720</td>\n",
       "      <td>372.947116</td>\n",
       "      <td>41.206601</td>\n",
       "      <td>127.055275</td>\n",
       "    </tr>\n",
       "    <tr>\n",
       "      <th>3039</th>\n",
       "      <td>56.0</td>\n",
       "      <td>46.0</td>\n",
       "      <td>0.697176</td>\n",
       "      <td>521.924565</td>\n",
       "      <td>427.233674</td>\n",
       "      <td>11.203256</td>\n",
       "      <td>0.000000</td>\n",
       "    </tr>\n",
       "    <tr>\n",
       "      <th>3456</th>\n",
       "      <td>67.0</td>\n",
       "      <td>67.0</td>\n",
       "      <td>0.831983</td>\n",
       "      <td>232.678299</td>\n",
       "      <td>171.082050</td>\n",
       "      <td>29.959641</td>\n",
       "      <td>65.121982</td>\n",
       "    </tr>\n",
       "    <tr>\n",
       "      <th>3538</th>\n",
       "      <td>66.0</td>\n",
       "      <td>66.0</td>\n",
       "      <td>0.810244</td>\n",
       "      <td>234.456659</td>\n",
       "      <td>135.308519</td>\n",
       "      <td>35.952499</td>\n",
       "      <td>50.952543</td>\n",
       "    </tr>\n",
       "    <tr>\n",
       "      <th>4031</th>\n",
       "      <td>65.0</td>\n",
       "      <td>65.0</td>\n",
       "      <td>0.734121</td>\n",
       "      <td>278.988785</td>\n",
       "      <td>0.000000</td>\n",
       "      <td>38.345054</td>\n",
       "      <td>58.222450</td>\n",
       "    </tr>\n",
       "    <tr>\n",
       "      <th>4373</th>\n",
       "      <td>63.5</td>\n",
       "      <td>62.5</td>\n",
       "      <td>0.771131</td>\n",
       "      <td>427.604609</td>\n",
       "      <td>287.415519</td>\n",
       "      <td>45.198985</td>\n",
       "      <td>115.551474</td>\n",
       "    </tr>\n",
       "    <tr>\n",
       "      <th>4767</th>\n",
       "      <td>66.0</td>\n",
       "      <td>66.0</td>\n",
       "      <td>0.709761</td>\n",
       "      <td>625.980384</td>\n",
       "      <td>382.705712</td>\n",
       "      <td>101.590914</td>\n",
       "      <td>173.057284</td>\n",
       "    </tr>\n",
       "    <tr>\n",
       "      <th>5746</th>\n",
       "      <td>69.5</td>\n",
       "      <td>50.5</td>\n",
       "      <td>0.860540</td>\n",
       "      <td>256.719938</td>\n",
       "      <td>220.063533</td>\n",
       "      <td>19.295677</td>\n",
       "      <td>51.369046</td>\n",
       "    </tr>\n",
       "    <tr>\n",
       "      <th>6139</th>\n",
       "      <td>68.5</td>\n",
       "      <td>53.5</td>\n",
       "      <td>0.692518</td>\n",
       "      <td>269.106020</td>\n",
       "      <td>203.580475</td>\n",
       "      <td>23.198040</td>\n",
       "      <td>49.124984</td>\n",
       "    </tr>\n",
       "    <tr>\n",
       "      <th>7536</th>\n",
       "      <td>65.0</td>\n",
       "      <td>65.0</td>\n",
       "      <td>0.876431</td>\n",
       "      <td>420.698614</td>\n",
       "      <td>273.340604</td>\n",
       "      <td>43.918977</td>\n",
       "      <td>119.058001</td>\n",
       "    </tr>\n",
       "    <tr>\n",
       "      <th>7719</th>\n",
       "      <td>64.0</td>\n",
       "      <td>64.0</td>\n",
       "      <td>0.791398</td>\n",
       "      <td>472.975784</td>\n",
       "      <td>334.258337</td>\n",
       "      <td>42.243893</td>\n",
       "      <td>178.145617</td>\n",
       "    </tr>\n",
       "    <tr>\n",
       "      <th>7800</th>\n",
       "      <td>64.5</td>\n",
       "      <td>63.5</td>\n",
       "      <td>0.840405</td>\n",
       "      <td>296.543585</td>\n",
       "      <td>233.409470</td>\n",
       "      <td>37.485224</td>\n",
       "      <td>67.142632</td>\n",
       "    </tr>\n",
       "    <tr>\n",
       "      <th>7901</th>\n",
       "      <td>62.5</td>\n",
       "      <td>61.5</td>\n",
       "      <td>0.705154</td>\n",
       "      <td>321.753649</td>\n",
       "      <td>230.059919</td>\n",
       "      <td>24.509459</td>\n",
       "      <td>80.357479</td>\n",
       "    </tr>\n",
       "    <tr>\n",
       "      <th>7951</th>\n",
       "      <td>68.0</td>\n",
       "      <td>56.0</td>\n",
       "      <td>0.763070</td>\n",
       "      <td>300.070271</td>\n",
       "      <td>223.001544</td>\n",
       "      <td>109.528545</td>\n",
       "      <td>53.909798</td>\n",
       "    </tr>\n",
       "    <tr>\n",
       "      <th>8156</th>\n",
       "      <td>58.0</td>\n",
       "      <td>38.0</td>\n",
       "      <td>0.750501</td>\n",
       "      <td>678.516304</td>\n",
       "      <td>470.820778</td>\n",
       "      <td>13.528705</td>\n",
       "      <td>210.762628</td>\n",
       "    </tr>\n",
       "    <tr>\n",
       "      <th>8386</th>\n",
       "      <td>67.5</td>\n",
       "      <td>64.5</td>\n",
       "      <td>0.538069</td>\n",
       "      <td>139.746053</td>\n",
       "      <td>96.108381</td>\n",
       "      <td>21.598018</td>\n",
       "      <td>25.860412</td>\n",
       "    </tr>\n",
       "    <tr>\n",
       "      <th>8565</th>\n",
       "      <td>55.5</td>\n",
       "      <td>52.5</td>\n",
       "      <td>0.629957</td>\n",
       "      <td>294.037139</td>\n",
       "      <td>258.189854</td>\n",
       "      <td>0.868819</td>\n",
       "      <td>185.535849</td>\n",
       "    </tr>\n",
       "    <tr>\n",
       "      <th>9019</th>\n",
       "      <td>68.0</td>\n",
       "      <td>68.0</td>\n",
       "      <td>0.610750</td>\n",
       "      <td>165.095527</td>\n",
       "      <td>128.248546</td>\n",
       "      <td>39.199666</td>\n",
       "      <td>22.620851</td>\n",
       "    </tr>\n",
       "    <tr>\n",
       "      <th>9160</th>\n",
       "      <td>66.0</td>\n",
       "      <td>56.0</td>\n",
       "      <td>0.857074</td>\n",
       "      <td>303.135469</td>\n",
       "      <td>228.592043</td>\n",
       "      <td>20.729405</td>\n",
       "      <td>82.381646</td>\n",
       "    </tr>\n",
       "    <tr>\n",
       "      <th>9278</th>\n",
       "      <td>56.0</td>\n",
       "      <td>46.0</td>\n",
       "      <td>0.255692</td>\n",
       "      <td>320.164811</td>\n",
       "      <td>396.225395</td>\n",
       "      <td>87.864081</td>\n",
       "      <td>75.631407</td>\n",
       "    </tr>\n",
       "    <tr>\n",
       "      <th>9922</th>\n",
       "      <td>85.0</td>\n",
       "      <td>75.0</td>\n",
       "      <td>0.091083</td>\n",
       "      <td>-51.386423</td>\n",
       "      <td>199.376556</td>\n",
       "      <td>-128.649040</td>\n",
       "      <td>122.553524</td>\n",
       "    </tr>\n",
       "  </tbody>\n",
       "</table>\n",
       "</div>"
      ],
      "text/plain": [
       "        temp_cooling  temp_heating        r2  cooling_pred  cooling_actual  \\\n",
       "dataid                                                                       \n",
       "661             68.0          68.0  0.764478    365.992010      227.336181   \n",
       "1642            61.0          59.0  0.601108    309.789162      194.134820   \n",
       "2335            65.0          65.0  0.809245    361.364843      260.837272   \n",
       "2361            67.5          66.5  0.712820    370.673348      267.919643   \n",
       "2818            64.0          64.0  0.923885    565.933720      372.947116   \n",
       "3039            56.0          46.0  0.697176    521.924565      427.233674   \n",
       "3456            67.0          67.0  0.831983    232.678299      171.082050   \n",
       "3538            66.0          66.0  0.810244    234.456659      135.308519   \n",
       "4031            65.0          65.0  0.734121    278.988785        0.000000   \n",
       "4373            63.5          62.5  0.771131    427.604609      287.415519   \n",
       "4767            66.0          66.0  0.709761    625.980384      382.705712   \n",
       "5746            69.5          50.5  0.860540    256.719938      220.063533   \n",
       "6139            68.5          53.5  0.692518    269.106020      203.580475   \n",
       "7536            65.0          65.0  0.876431    420.698614      273.340604   \n",
       "7719            64.0          64.0  0.791398    472.975784      334.258337   \n",
       "7800            64.5          63.5  0.840405    296.543585      233.409470   \n",
       "7901            62.5          61.5  0.705154    321.753649      230.059919   \n",
       "7951            68.0          56.0  0.763070    300.070271      223.001544   \n",
       "8156            58.0          38.0  0.750501    678.516304      470.820778   \n",
       "8386            67.5          64.5  0.538069    139.746053       96.108381   \n",
       "8565            55.5          52.5  0.629957    294.037139      258.189854   \n",
       "9019            68.0          68.0  0.610750    165.095527      128.248546   \n",
       "9160            66.0          56.0  0.857074    303.135469      228.592043   \n",
       "9278            56.0          46.0  0.255692    320.164811      396.225395   \n",
       "9922            85.0          75.0  0.091083    -51.386423      199.376556   \n",
       "\n",
       "        heating_pred  heating_actual  \n",
       "dataid                                \n",
       "661        68.038496       82.170722  \n",
       "1642       22.330486      122.835869  \n",
       "2335       45.597750      109.247848  \n",
       "2361       35.966669       85.048839  \n",
       "2818       41.206601      127.055275  \n",
       "3039       11.203256        0.000000  \n",
       "3456       29.959641       65.121982  \n",
       "3538       35.952499       50.952543  \n",
       "4031       38.345054       58.222450  \n",
       "4373       45.198985      115.551474  \n",
       "4767      101.590914      173.057284  \n",
       "5746       19.295677       51.369046  \n",
       "6139       23.198040       49.124984  \n",
       "7536       43.918977      119.058001  \n",
       "7719       42.243893      178.145617  \n",
       "7800       37.485224       67.142632  \n",
       "7901       24.509459       80.357479  \n",
       "7951      109.528545       53.909798  \n",
       "8156       13.528705      210.762628  \n",
       "8386       21.598018       25.860412  \n",
       "8565        0.868819      185.535849  \n",
       "9019       39.199666       22.620851  \n",
       "9160       20.729405       82.381646  \n",
       "9278       87.864081       75.631407  \n",
       "9922     -128.649040      122.553524  "
      ]
     },
     "execution_count": 288,
     "metadata": {},
     "output_type": "execute_result"
    }
   ],
   "source": [
    "cleaned_results"
   ]
  },
  {
   "cell_type": "markdown",
   "metadata": {},
   "source": [
    "## Load the metadata"
   ]
  },
  {
   "cell_type": "code",
   "execution_count": 305,
   "metadata": {},
   "outputs": [
    {
     "data": {
      "text/html": [
       "<div>\n",
       "<style scoped>\n",
       "    .dataframe tbody tr th:only-of-type {\n",
       "        vertical-align: middle;\n",
       "    }\n",
       "\n",
       "    .dataframe tbody tr th {\n",
       "        vertical-align: top;\n",
       "    }\n",
       "\n",
       "    .dataframe thead th {\n",
       "        text-align: right;\n",
       "    }\n",
       "</style>\n",
       "<table border=\"1\" class=\"dataframe\">\n",
       "  <thead>\n",
       "    <tr style=\"text-align: right;\">\n",
       "      <th></th>\n",
       "      <th>city_state</th>\n",
       "      <th>house_construction_year</th>\n",
       "      <th>total_square_footage</th>\n",
       "      <th>building_type</th>\n",
       "    </tr>\n",
       "    <tr>\n",
       "      <th>dataid</th>\n",
       "      <th></th>\n",
       "      <th></th>\n",
       "      <th></th>\n",
       "      <th></th>\n",
       "    </tr>\n",
       "  </thead>\n",
       "  <tbody>\n",
       "    <tr>\n",
       "      <th>2836</th>\n",
       "      <td>Austin, Texas</td>\n",
       "      <td>1994.0</td>\n",
       "      <td>2796.0</td>\n",
       "      <td>Single-Family Home 001 (Master)</td>\n",
       "    </tr>\n",
       "    <tr>\n",
       "      <th>2743</th>\n",
       "      <td>Austin, Texas</td>\n",
       "      <td>1949.0</td>\n",
       "      <td>1590.0</td>\n",
       "      <td>Single-Family Home 001 (Master)</td>\n",
       "    </tr>\n",
       "    <tr>\n",
       "      <th>5323</th>\n",
       "      <td>Austin, Texas</td>\n",
       "      <td>2008.0</td>\n",
       "      <td>1185.0</td>\n",
       "      <td>Single-Family Home 001 (Master)</td>\n",
       "    </tr>\n",
       "    <tr>\n",
       "      <th>8560</th>\n",
       "      <td>Austin, Texas</td>\n",
       "      <td>2009.0</td>\n",
       "      <td>2001.0</td>\n",
       "      <td>Single-Family Home 001 (Master)</td>\n",
       "    </tr>\n",
       "    <tr>\n",
       "      <th>3313</th>\n",
       "      <td>Austin, Texas</td>\n",
       "      <td>2007.0</td>\n",
       "      <td>2001.0</td>\n",
       "      <td>Single-Family Home 001 (Master)</td>\n",
       "    </tr>\n",
       "    <tr>\n",
       "      <th>...</th>\n",
       "      <td>...</td>\n",
       "      <td>...</td>\n",
       "      <td>...</td>\n",
       "      <td>...</td>\n",
       "    </tr>\n",
       "    <tr>\n",
       "      <th>891</th>\n",
       "      <td>Austin, Texas</td>\n",
       "      <td>NaN</td>\n",
       "      <td>NaN</td>\n",
       "      <td>Single-Family Home 001 (Master)</td>\n",
       "    </tr>\n",
       "    <tr>\n",
       "      <th>6601</th>\n",
       "      <td>Austin, Texas</td>\n",
       "      <td>NaN</td>\n",
       "      <td>NaN</td>\n",
       "      <td>Single-Family Home 001 (Master)</td>\n",
       "    </tr>\n",
       "    <tr>\n",
       "      <th>114</th>\n",
       "      <td>Austin, Texas</td>\n",
       "      <td>2008.0</td>\n",
       "      <td>1842.0</td>\n",
       "      <td>Single-Family Home 001 (Master)</td>\n",
       "    </tr>\n",
       "    <tr>\n",
       "      <th>997</th>\n",
       "      <td>Berkeley, California</td>\n",
       "      <td>NaN</td>\n",
       "      <td>NaN</td>\n",
       "      <td>Single-Family Home 001 (Master)</td>\n",
       "    </tr>\n",
       "    <tr>\n",
       "      <th>8523</th>\n",
       "      <td>Ithaca, New York</td>\n",
       "      <td>NaN</td>\n",
       "      <td>NaN</td>\n",
       "      <td>Single-Family Home 001 (Master)</td>\n",
       "    </tr>\n",
       "  </tbody>\n",
       "</table>\n",
       "<p>1708 rows × 4 columns</p>\n",
       "</div>"
      ],
      "text/plain": [
       "                  city_state  house_construction_year  total_square_footage  \\\n",
       "dataid                                                                        \n",
       "2836           Austin, Texas                   1994.0                2796.0   \n",
       "2743           Austin, Texas                   1949.0                1590.0   \n",
       "5323           Austin, Texas                   2008.0                1185.0   \n",
       "8560           Austin, Texas                   2009.0                2001.0   \n",
       "3313           Austin, Texas                   2007.0                2001.0   \n",
       "...                      ...                      ...                   ...   \n",
       "891            Austin, Texas                      NaN                   NaN   \n",
       "6601           Austin, Texas                      NaN                   NaN   \n",
       "114            Austin, Texas                   2008.0                1842.0   \n",
       "997     Berkeley, California                      NaN                   NaN   \n",
       "8523        Ithaca, New York                      NaN                   NaN   \n",
       "\n",
       "                          building_type  \n",
       "dataid                                   \n",
       "2836    Single-Family Home 001 (Master)  \n",
       "2743    Single-Family Home 001 (Master)  \n",
       "5323    Single-Family Home 001 (Master)  \n",
       "8560    Single-Family Home 001 (Master)  \n",
       "3313    Single-Family Home 001 (Master)  \n",
       "...                                 ...  \n",
       "891     Single-Family Home 001 (Master)  \n",
       "6601    Single-Family Home 001 (Master)  \n",
       "114     Single-Family Home 001 (Master)  \n",
       "997     Single-Family Home 001 (Master)  \n",
       "8523    Single-Family Home 001 (Master)  \n",
       "\n",
       "[1708 rows x 4 columns]"
      ]
     },
     "execution_count": 305,
     "metadata": {},
     "output_type": "execute_result"
    }
   ],
   "source": [
    "# load the raw metadata csv file\n",
    "metadata = pd.read_csv('../data/metadata.csv')\n",
    "\n",
    "# get rid of the first description row \n",
    "metadata = metadata[1:].copy()\n",
    "\n",
    "metadata['dataid'] = metadata['dataid'].astype(int)\n",
    "\n",
    "# combine city and state into a single column for joining\n",
    "metadata['city_state'] = metadata['city'] + ', ' + metadata['state']\n",
    "\n",
    "# prepare for join, we only want the join key (dataid) and a few features\n",
    "metadata = metadata[[\n",
    "    'dataid', \n",
    "    'city_state', \n",
    "    'house_construction_year', \n",
    "    'total_square_footage', \n",
    "    'building_type'\n",
    "]].set_index('dataid')\n",
    "\n",
    "# make sure these are floats and not strings\n",
    "metadata['total_square_footage'] = metadata['total_square_footage'].astype(float)\n",
    "metadata['house_construction_year'] = metadata['house_construction_year'].astype(float)\n",
    "\n",
    "# output\n",
    "metadata"
   ]
  },
  {
   "cell_type": "code",
   "execution_count": 306,
   "metadata": {},
   "outputs": [],
   "source": [
    "joined = cleaned_results.join(metadata)\n",
    "\n",
    "joined['cooling_pred_sqft'] = joined['cooling_pred'] / joined['total_square_footage']\n",
    "joined['cooling_actual_sqft'] = joined['cooling_actual'] / joined['total_square_footage']\n",
    "joined['heating_pred_sqft'] = joined['heating_pred'] / joined['total_square_footage']\n",
    "joined['heating_actual_sqft'] = joined['heating_actual'] / joined['total_square_footage']"
   ]
  },
  {
   "cell_type": "code",
   "execution_count": 307,
   "metadata": {
    "scrolled": true
   },
   "outputs": [
    {
     "data": {
      "text/html": [
       "<div>\n",
       "<style scoped>\n",
       "    .dataframe tbody tr th:only-of-type {\n",
       "        vertical-align: middle;\n",
       "    }\n",
       "\n",
       "    .dataframe tbody tr th {\n",
       "        vertical-align: top;\n",
       "    }\n",
       "\n",
       "    .dataframe thead th {\n",
       "        text-align: right;\n",
       "    }\n",
       "</style>\n",
       "<table border=\"1\" class=\"dataframe\">\n",
       "  <thead>\n",
       "    <tr style=\"text-align: right;\">\n",
       "      <th></th>\n",
       "      <th>temp_cooling</th>\n",
       "      <th>temp_heating</th>\n",
       "      <th>r2</th>\n",
       "      <th>cooling_pred</th>\n",
       "      <th>cooling_actual</th>\n",
       "      <th>heating_pred</th>\n",
       "      <th>heating_actual</th>\n",
       "      <th>city_state</th>\n",
       "      <th>house_construction_year</th>\n",
       "      <th>total_square_footage</th>\n",
       "      <th>building_type</th>\n",
       "      <th>cooling_pred_sqft</th>\n",
       "      <th>cooling_actual_sqft</th>\n",
       "      <th>heating_pred_sqft</th>\n",
       "      <th>heating_actual_sqft</th>\n",
       "    </tr>\n",
       "    <tr>\n",
       "      <th>dataid</th>\n",
       "      <th></th>\n",
       "      <th></th>\n",
       "      <th></th>\n",
       "      <th></th>\n",
       "      <th></th>\n",
       "      <th></th>\n",
       "      <th></th>\n",
       "      <th></th>\n",
       "      <th></th>\n",
       "      <th></th>\n",
       "      <th></th>\n",
       "      <th></th>\n",
       "      <th></th>\n",
       "      <th></th>\n",
       "      <th></th>\n",
       "    </tr>\n",
       "  </thead>\n",
       "  <tbody>\n",
       "    <tr>\n",
       "      <th>661</th>\n",
       "      <td>68.0</td>\n",
       "      <td>68.0</td>\n",
       "      <td>0.764478</td>\n",
       "      <td>365.992010</td>\n",
       "      <td>227.336181</td>\n",
       "      <td>68.038496</td>\n",
       "      <td>82.170722</td>\n",
       "      <td>Austin, Texas</td>\n",
       "      <td>2007.0</td>\n",
       "      <td>1842.0</td>\n",
       "      <td>Single-Family Home 001 (Master)</td>\n",
       "      <td>0.198693</td>\n",
       "      <td>0.123418</td>\n",
       "      <td>0.036937</td>\n",
       "      <td>0.044610</td>\n",
       "    </tr>\n",
       "    <tr>\n",
       "      <th>1642</th>\n",
       "      <td>61.0</td>\n",
       "      <td>59.0</td>\n",
       "      <td>0.601108</td>\n",
       "      <td>309.789162</td>\n",
       "      <td>194.134820</td>\n",
       "      <td>22.330486</td>\n",
       "      <td>122.835869</td>\n",
       "      <td>Austin, Texas</td>\n",
       "      <td>2007.0</td>\n",
       "      <td>1720.0</td>\n",
       "      <td>Single-Family Home 001 (Master)</td>\n",
       "      <td>0.180110</td>\n",
       "      <td>0.112869</td>\n",
       "      <td>0.012983</td>\n",
       "      <td>0.071416</td>\n",
       "    </tr>\n",
       "    <tr>\n",
       "      <th>2335</th>\n",
       "      <td>65.0</td>\n",
       "      <td>65.0</td>\n",
       "      <td>0.809245</td>\n",
       "      <td>361.364843</td>\n",
       "      <td>260.837272</td>\n",
       "      <td>45.597750</td>\n",
       "      <td>109.247848</td>\n",
       "      <td>Austin, Texas</td>\n",
       "      <td>2008.0</td>\n",
       "      <td>2710.0</td>\n",
       "      <td>Single-Family Home 001 (Master)</td>\n",
       "      <td>0.133345</td>\n",
       "      <td>0.096250</td>\n",
       "      <td>0.016826</td>\n",
       "      <td>0.040313</td>\n",
       "    </tr>\n",
       "    <tr>\n",
       "      <th>2361</th>\n",
       "      <td>67.5</td>\n",
       "      <td>66.5</td>\n",
       "      <td>0.712820</td>\n",
       "      <td>370.673348</td>\n",
       "      <td>267.919643</td>\n",
       "      <td>35.966669</td>\n",
       "      <td>85.048839</td>\n",
       "      <td>Austin, Texas</td>\n",
       "      <td>2009.0</td>\n",
       "      <td>3245.0</td>\n",
       "      <td>Single-Family Home 001 (Master)</td>\n",
       "      <td>0.114229</td>\n",
       "      <td>0.082564</td>\n",
       "      <td>0.011084</td>\n",
       "      <td>0.026209</td>\n",
       "    </tr>\n",
       "    <tr>\n",
       "      <th>2818</th>\n",
       "      <td>64.0</td>\n",
       "      <td>64.0</td>\n",
       "      <td>0.923885</td>\n",
       "      <td>565.933720</td>\n",
       "      <td>372.947116</td>\n",
       "      <td>41.206601</td>\n",
       "      <td>127.055275</td>\n",
       "      <td>Austin, Texas</td>\n",
       "      <td>2007.0</td>\n",
       "      <td>2345.0</td>\n",
       "      <td>Single-Family Home 001 (Master)</td>\n",
       "      <td>0.241336</td>\n",
       "      <td>0.159039</td>\n",
       "      <td>0.017572</td>\n",
       "      <td>0.054181</td>\n",
       "    </tr>\n",
       "    <tr>\n",
       "      <th>3039</th>\n",
       "      <td>56.0</td>\n",
       "      <td>46.0</td>\n",
       "      <td>0.697176</td>\n",
       "      <td>521.924565</td>\n",
       "      <td>427.233674</td>\n",
       "      <td>11.203256</td>\n",
       "      <td>0.000000</td>\n",
       "      <td>Austin, Texas</td>\n",
       "      <td>2010.0</td>\n",
       "      <td>3246.0</td>\n",
       "      <td>Single-Family Home 001 (Master)</td>\n",
       "      <td>0.160790</td>\n",
       "      <td>0.131619</td>\n",
       "      <td>0.003451</td>\n",
       "      <td>0.000000</td>\n",
       "    </tr>\n",
       "    <tr>\n",
       "      <th>3456</th>\n",
       "      <td>67.0</td>\n",
       "      <td>67.0</td>\n",
       "      <td>0.831983</td>\n",
       "      <td>232.678299</td>\n",
       "      <td>171.082050</td>\n",
       "      <td>29.959641</td>\n",
       "      <td>65.121982</td>\n",
       "      <td>Austin, Texas</td>\n",
       "      <td>2008.0</td>\n",
       "      <td>1720.0</td>\n",
       "      <td>Single-Family Home 001 (Master)</td>\n",
       "      <td>0.135278</td>\n",
       "      <td>0.099466</td>\n",
       "      <td>0.017418</td>\n",
       "      <td>0.037862</td>\n",
       "    </tr>\n",
       "    <tr>\n",
       "      <th>3538</th>\n",
       "      <td>66.0</td>\n",
       "      <td>66.0</td>\n",
       "      <td>0.810244</td>\n",
       "      <td>234.456659</td>\n",
       "      <td>135.308519</td>\n",
       "      <td>35.952499</td>\n",
       "      <td>50.952543</td>\n",
       "      <td>Austin, Texas</td>\n",
       "      <td>2007.0</td>\n",
       "      <td>1720.0</td>\n",
       "      <td>Single-Family Home 001 (Master)</td>\n",
       "      <td>0.136312</td>\n",
       "      <td>0.078668</td>\n",
       "      <td>0.020903</td>\n",
       "      <td>0.029624</td>\n",
       "    </tr>\n",
       "    <tr>\n",
       "      <th>4031</th>\n",
       "      <td>65.0</td>\n",
       "      <td>65.0</td>\n",
       "      <td>0.734121</td>\n",
       "      <td>278.988785</td>\n",
       "      <td>0.000000</td>\n",
       "      <td>38.345054</td>\n",
       "      <td>58.222450</td>\n",
       "      <td>Austin, Texas</td>\n",
       "      <td>2007.0</td>\n",
       "      <td>1946.0</td>\n",
       "      <td>Single-Family Home 001 (Master)</td>\n",
       "      <td>0.143365</td>\n",
       "      <td>0.000000</td>\n",
       "      <td>0.019705</td>\n",
       "      <td>0.029919</td>\n",
       "    </tr>\n",
       "    <tr>\n",
       "      <th>4373</th>\n",
       "      <td>63.5</td>\n",
       "      <td>62.5</td>\n",
       "      <td>0.771131</td>\n",
       "      <td>427.604609</td>\n",
       "      <td>287.415519</td>\n",
       "      <td>45.198985</td>\n",
       "      <td>115.551474</td>\n",
       "      <td>Austin, Texas</td>\n",
       "      <td>2008.0</td>\n",
       "      <td>2122.0</td>\n",
       "      <td>Single-Family Home 001 (Master)</td>\n",
       "      <td>0.201510</td>\n",
       "      <td>0.135446</td>\n",
       "      <td>0.021300</td>\n",
       "      <td>0.054454</td>\n",
       "    </tr>\n",
       "    <tr>\n",
       "      <th>4767</th>\n",
       "      <td>66.0</td>\n",
       "      <td>66.0</td>\n",
       "      <td>0.709761</td>\n",
       "      <td>625.980384</td>\n",
       "      <td>382.705712</td>\n",
       "      <td>101.590914</td>\n",
       "      <td>173.057284</td>\n",
       "      <td>Austin, Texas</td>\n",
       "      <td>2008.0</td>\n",
       "      <td>2710.0</td>\n",
       "      <td>Single-Family Home 001 (Master)</td>\n",
       "      <td>0.230989</td>\n",
       "      <td>0.141220</td>\n",
       "      <td>0.037487</td>\n",
       "      <td>0.063859</td>\n",
       "    </tr>\n",
       "    <tr>\n",
       "      <th>5746</th>\n",
       "      <td>69.5</td>\n",
       "      <td>50.5</td>\n",
       "      <td>0.860540</td>\n",
       "      <td>256.719938</td>\n",
       "      <td>220.063533</td>\n",
       "      <td>19.295677</td>\n",
       "      <td>51.369046</td>\n",
       "      <td>Austin, Texas</td>\n",
       "      <td>1950.0</td>\n",
       "      <td>1768.0</td>\n",
       "      <td>Single-Family Home 001 (Master)</td>\n",
       "      <td>0.145204</td>\n",
       "      <td>0.124470</td>\n",
       "      <td>0.010914</td>\n",
       "      <td>0.029055</td>\n",
       "    </tr>\n",
       "    <tr>\n",
       "      <th>6139</th>\n",
       "      <td>68.5</td>\n",
       "      <td>53.5</td>\n",
       "      <td>0.692518</td>\n",
       "      <td>269.106020</td>\n",
       "      <td>203.580475</td>\n",
       "      <td>23.198040</td>\n",
       "      <td>49.124984</td>\n",
       "      <td>Austin, Texas</td>\n",
       "      <td>1970.0</td>\n",
       "      <td>2361.0</td>\n",
       "      <td>Single-Family Home 001 (Master)</td>\n",
       "      <td>0.113980</td>\n",
       "      <td>0.086226</td>\n",
       "      <td>0.009826</td>\n",
       "      <td>0.020807</td>\n",
       "    </tr>\n",
       "    <tr>\n",
       "      <th>7536</th>\n",
       "      <td>65.0</td>\n",
       "      <td>65.0</td>\n",
       "      <td>0.876431</td>\n",
       "      <td>420.698614</td>\n",
       "      <td>273.340604</td>\n",
       "      <td>43.918977</td>\n",
       "      <td>119.058001</td>\n",
       "      <td>Austin, Texas</td>\n",
       "      <td>2008.0</td>\n",
       "      <td>2710.0</td>\n",
       "      <td>Single-Family Home 001 (Master)</td>\n",
       "      <td>0.155239</td>\n",
       "      <td>0.100864</td>\n",
       "      <td>0.016206</td>\n",
       "      <td>0.043933</td>\n",
       "    </tr>\n",
       "    <tr>\n",
       "      <th>7719</th>\n",
       "      <td>64.0</td>\n",
       "      <td>64.0</td>\n",
       "      <td>0.791398</td>\n",
       "      <td>472.975784</td>\n",
       "      <td>334.258337</td>\n",
       "      <td>42.243893</td>\n",
       "      <td>178.145617</td>\n",
       "      <td>Austin, Texas</td>\n",
       "      <td>2008.0</td>\n",
       "      <td>2919.0</td>\n",
       "      <td>Single-Family Home 001 (Master)</td>\n",
       "      <td>0.162033</td>\n",
       "      <td>0.114511</td>\n",
       "      <td>0.014472</td>\n",
       "      <td>0.061030</td>\n",
       "    </tr>\n",
       "    <tr>\n",
       "      <th>7800</th>\n",
       "      <td>64.5</td>\n",
       "      <td>63.5</td>\n",
       "      <td>0.840405</td>\n",
       "      <td>296.543585</td>\n",
       "      <td>233.409470</td>\n",
       "      <td>37.485224</td>\n",
       "      <td>67.142632</td>\n",
       "      <td>Austin, Texas</td>\n",
       "      <td>2008.0</td>\n",
       "      <td>2075.0</td>\n",
       "      <td>Single-Family Home 001 (Master)</td>\n",
       "      <td>0.142913</td>\n",
       "      <td>0.112486</td>\n",
       "      <td>0.018065</td>\n",
       "      <td>0.032358</td>\n",
       "    </tr>\n",
       "    <tr>\n",
       "      <th>7901</th>\n",
       "      <td>62.5</td>\n",
       "      <td>61.5</td>\n",
       "      <td>0.705154</td>\n",
       "      <td>321.753649</td>\n",
       "      <td>230.059919</td>\n",
       "      <td>24.509459</td>\n",
       "      <td>80.357479</td>\n",
       "      <td>Austin, Texas</td>\n",
       "      <td>2007.0</td>\n",
       "      <td>2122.0</td>\n",
       "      <td>Single-Family Home 001 (Master)</td>\n",
       "      <td>0.151628</td>\n",
       "      <td>0.108417</td>\n",
       "      <td>0.011550</td>\n",
       "      <td>0.037869</td>\n",
       "    </tr>\n",
       "    <tr>\n",
       "      <th>7951</th>\n",
       "      <td>68.0</td>\n",
       "      <td>56.0</td>\n",
       "      <td>0.763070</td>\n",
       "      <td>300.070271</td>\n",
       "      <td>223.001544</td>\n",
       "      <td>109.528545</td>\n",
       "      <td>53.909798</td>\n",
       "      <td>Austin, Texas</td>\n",
       "      <td>1971.0</td>\n",
       "      <td>2148.0</td>\n",
       "      <td>Single-Family Home 001 (Master)</td>\n",
       "      <td>0.139698</td>\n",
       "      <td>0.103818</td>\n",
       "      <td>0.050991</td>\n",
       "      <td>0.025098</td>\n",
       "    </tr>\n",
       "    <tr>\n",
       "      <th>8156</th>\n",
       "      <td>58.0</td>\n",
       "      <td>38.0</td>\n",
       "      <td>0.750501</td>\n",
       "      <td>678.516304</td>\n",
       "      <td>470.820778</td>\n",
       "      <td>13.528705</td>\n",
       "      <td>210.762628</td>\n",
       "      <td>Austin, Texas</td>\n",
       "      <td>2008.0</td>\n",
       "      <td>2669.0</td>\n",
       "      <td>Single-Family Home 001 (Master)</td>\n",
       "      <td>0.254221</td>\n",
       "      <td>0.176403</td>\n",
       "      <td>0.005069</td>\n",
       "      <td>0.078967</td>\n",
       "    </tr>\n",
       "    <tr>\n",
       "      <th>8386</th>\n",
       "      <td>67.5</td>\n",
       "      <td>64.5</td>\n",
       "      <td>0.538069</td>\n",
       "      <td>139.746053</td>\n",
       "      <td>96.108381</td>\n",
       "      <td>21.598018</td>\n",
       "      <td>25.860412</td>\n",
       "      <td>Austin, Texas</td>\n",
       "      <td>2007.0</td>\n",
       "      <td>1720.0</td>\n",
       "      <td>Single-Family Home 001 (Master)</td>\n",
       "      <td>0.081248</td>\n",
       "      <td>0.055877</td>\n",
       "      <td>0.012557</td>\n",
       "      <td>0.015035</td>\n",
       "    </tr>\n",
       "    <tr>\n",
       "      <th>8565</th>\n",
       "      <td>55.5</td>\n",
       "      <td>52.5</td>\n",
       "      <td>0.629957</td>\n",
       "      <td>294.037139</td>\n",
       "      <td>258.189854</td>\n",
       "      <td>0.868819</td>\n",
       "      <td>185.535849</td>\n",
       "      <td>Austin, Texas</td>\n",
       "      <td>2009.0</td>\n",
       "      <td>1998.0</td>\n",
       "      <td>Town Home</td>\n",
       "      <td>0.147166</td>\n",
       "      <td>0.129224</td>\n",
       "      <td>0.000435</td>\n",
       "      <td>0.092861</td>\n",
       "    </tr>\n",
       "    <tr>\n",
       "      <th>9019</th>\n",
       "      <td>68.0</td>\n",
       "      <td>68.0</td>\n",
       "      <td>0.610750</td>\n",
       "      <td>165.095527</td>\n",
       "      <td>128.248546</td>\n",
       "      <td>39.199666</td>\n",
       "      <td>22.620851</td>\n",
       "      <td>Austin, Texas</td>\n",
       "      <td>1990.0</td>\n",
       "      <td>1613.0</td>\n",
       "      <td>Single-Family Home 001 (Master)</td>\n",
       "      <td>0.102353</td>\n",
       "      <td>0.079509</td>\n",
       "      <td>0.024302</td>\n",
       "      <td>0.014024</td>\n",
       "    </tr>\n",
       "    <tr>\n",
       "      <th>9160</th>\n",
       "      <td>66.0</td>\n",
       "      <td>56.0</td>\n",
       "      <td>0.857074</td>\n",
       "      <td>303.135469</td>\n",
       "      <td>228.592043</td>\n",
       "      <td>20.729405</td>\n",
       "      <td>82.381646</td>\n",
       "      <td>Austin, Texas</td>\n",
       "      <td>2008.0</td>\n",
       "      <td>2310.0</td>\n",
       "      <td>Single-Family Home 001 (Master)</td>\n",
       "      <td>0.131227</td>\n",
       "      <td>0.098958</td>\n",
       "      <td>0.008974</td>\n",
       "      <td>0.035663</td>\n",
       "    </tr>\n",
       "    <tr>\n",
       "      <th>9278</th>\n",
       "      <td>56.0</td>\n",
       "      <td>46.0</td>\n",
       "      <td>0.255692</td>\n",
       "      <td>320.164811</td>\n",
       "      <td>396.225395</td>\n",
       "      <td>87.864081</td>\n",
       "      <td>75.631407</td>\n",
       "      <td>Austin, Texas</td>\n",
       "      <td>2009.0</td>\n",
       "      <td>3015.0</td>\n",
       "      <td>Single-Family Home 001 (Master)</td>\n",
       "      <td>0.106191</td>\n",
       "      <td>0.131418</td>\n",
       "      <td>0.029142</td>\n",
       "      <td>0.025085</td>\n",
       "    </tr>\n",
       "    <tr>\n",
       "      <th>9922</th>\n",
       "      <td>85.0</td>\n",
       "      <td>75.0</td>\n",
       "      <td>0.091083</td>\n",
       "      <td>-51.386423</td>\n",
       "      <td>199.376556</td>\n",
       "      <td>-128.649040</td>\n",
       "      <td>122.553524</td>\n",
       "      <td>Austin, Texas</td>\n",
       "      <td>2000.0</td>\n",
       "      <td>2331.0</td>\n",
       "      <td>Single-Family Home 001 (Master)</td>\n",
       "      <td>-0.022045</td>\n",
       "      <td>0.085533</td>\n",
       "      <td>-0.055190</td>\n",
       "      <td>0.052576</td>\n",
       "    </tr>\n",
       "  </tbody>\n",
       "</table>\n",
       "</div>"
      ],
      "text/plain": [
       "        temp_cooling  temp_heating        r2  cooling_pred  cooling_actual  \\\n",
       "dataid                                                                       \n",
       "661             68.0          68.0  0.764478    365.992010      227.336181   \n",
       "1642            61.0          59.0  0.601108    309.789162      194.134820   \n",
       "2335            65.0          65.0  0.809245    361.364843      260.837272   \n",
       "2361            67.5          66.5  0.712820    370.673348      267.919643   \n",
       "2818            64.0          64.0  0.923885    565.933720      372.947116   \n",
       "3039            56.0          46.0  0.697176    521.924565      427.233674   \n",
       "3456            67.0          67.0  0.831983    232.678299      171.082050   \n",
       "3538            66.0          66.0  0.810244    234.456659      135.308519   \n",
       "4031            65.0          65.0  0.734121    278.988785        0.000000   \n",
       "4373            63.5          62.5  0.771131    427.604609      287.415519   \n",
       "4767            66.0          66.0  0.709761    625.980384      382.705712   \n",
       "5746            69.5          50.5  0.860540    256.719938      220.063533   \n",
       "6139            68.5          53.5  0.692518    269.106020      203.580475   \n",
       "7536            65.0          65.0  0.876431    420.698614      273.340604   \n",
       "7719            64.0          64.0  0.791398    472.975784      334.258337   \n",
       "7800            64.5          63.5  0.840405    296.543585      233.409470   \n",
       "7901            62.5          61.5  0.705154    321.753649      230.059919   \n",
       "7951            68.0          56.0  0.763070    300.070271      223.001544   \n",
       "8156            58.0          38.0  0.750501    678.516304      470.820778   \n",
       "8386            67.5          64.5  0.538069    139.746053       96.108381   \n",
       "8565            55.5          52.5  0.629957    294.037139      258.189854   \n",
       "9019            68.0          68.0  0.610750    165.095527      128.248546   \n",
       "9160            66.0          56.0  0.857074    303.135469      228.592043   \n",
       "9278            56.0          46.0  0.255692    320.164811      396.225395   \n",
       "9922            85.0          75.0  0.091083    -51.386423      199.376556   \n",
       "\n",
       "        heating_pred  heating_actual     city_state  house_construction_year  \\\n",
       "dataid                                                                         \n",
       "661        68.038496       82.170722  Austin, Texas                   2007.0   \n",
       "1642       22.330486      122.835869  Austin, Texas                   2007.0   \n",
       "2335       45.597750      109.247848  Austin, Texas                   2008.0   \n",
       "2361       35.966669       85.048839  Austin, Texas                   2009.0   \n",
       "2818       41.206601      127.055275  Austin, Texas                   2007.0   \n",
       "3039       11.203256        0.000000  Austin, Texas                   2010.0   \n",
       "3456       29.959641       65.121982  Austin, Texas                   2008.0   \n",
       "3538       35.952499       50.952543  Austin, Texas                   2007.0   \n",
       "4031       38.345054       58.222450  Austin, Texas                   2007.0   \n",
       "4373       45.198985      115.551474  Austin, Texas                   2008.0   \n",
       "4767      101.590914      173.057284  Austin, Texas                   2008.0   \n",
       "5746       19.295677       51.369046  Austin, Texas                   1950.0   \n",
       "6139       23.198040       49.124984  Austin, Texas                   1970.0   \n",
       "7536       43.918977      119.058001  Austin, Texas                   2008.0   \n",
       "7719       42.243893      178.145617  Austin, Texas                   2008.0   \n",
       "7800       37.485224       67.142632  Austin, Texas                   2008.0   \n",
       "7901       24.509459       80.357479  Austin, Texas                   2007.0   \n",
       "7951      109.528545       53.909798  Austin, Texas                   1971.0   \n",
       "8156       13.528705      210.762628  Austin, Texas                   2008.0   \n",
       "8386       21.598018       25.860412  Austin, Texas                   2007.0   \n",
       "8565        0.868819      185.535849  Austin, Texas                   2009.0   \n",
       "9019       39.199666       22.620851  Austin, Texas                   1990.0   \n",
       "9160       20.729405       82.381646  Austin, Texas                   2008.0   \n",
       "9278       87.864081       75.631407  Austin, Texas                   2009.0   \n",
       "9922     -128.649040      122.553524  Austin, Texas                   2000.0   \n",
       "\n",
       "        total_square_footage                    building_type  \\\n",
       "dataid                                                          \n",
       "661                   1842.0  Single-Family Home 001 (Master)   \n",
       "1642                  1720.0  Single-Family Home 001 (Master)   \n",
       "2335                  2710.0  Single-Family Home 001 (Master)   \n",
       "2361                  3245.0  Single-Family Home 001 (Master)   \n",
       "2818                  2345.0  Single-Family Home 001 (Master)   \n",
       "3039                  3246.0  Single-Family Home 001 (Master)   \n",
       "3456                  1720.0  Single-Family Home 001 (Master)   \n",
       "3538                  1720.0  Single-Family Home 001 (Master)   \n",
       "4031                  1946.0  Single-Family Home 001 (Master)   \n",
       "4373                  2122.0  Single-Family Home 001 (Master)   \n",
       "4767                  2710.0  Single-Family Home 001 (Master)   \n",
       "5746                  1768.0  Single-Family Home 001 (Master)   \n",
       "6139                  2361.0  Single-Family Home 001 (Master)   \n",
       "7536                  2710.0  Single-Family Home 001 (Master)   \n",
       "7719                  2919.0  Single-Family Home 001 (Master)   \n",
       "7800                  2075.0  Single-Family Home 001 (Master)   \n",
       "7901                  2122.0  Single-Family Home 001 (Master)   \n",
       "7951                  2148.0  Single-Family Home 001 (Master)   \n",
       "8156                  2669.0  Single-Family Home 001 (Master)   \n",
       "8386                  1720.0  Single-Family Home 001 (Master)   \n",
       "8565                  1998.0                        Town Home   \n",
       "9019                  1613.0  Single-Family Home 001 (Master)   \n",
       "9160                  2310.0  Single-Family Home 001 (Master)   \n",
       "9278                  3015.0  Single-Family Home 001 (Master)   \n",
       "9922                  2331.0  Single-Family Home 001 (Master)   \n",
       "\n",
       "        cooling_pred_sqft  cooling_actual_sqft  heating_pred_sqft  \\\n",
       "dataid                                                              \n",
       "661              0.198693             0.123418           0.036937   \n",
       "1642             0.180110             0.112869           0.012983   \n",
       "2335             0.133345             0.096250           0.016826   \n",
       "2361             0.114229             0.082564           0.011084   \n",
       "2818             0.241336             0.159039           0.017572   \n",
       "3039             0.160790             0.131619           0.003451   \n",
       "3456             0.135278             0.099466           0.017418   \n",
       "3538             0.136312             0.078668           0.020903   \n",
       "4031             0.143365             0.000000           0.019705   \n",
       "4373             0.201510             0.135446           0.021300   \n",
       "4767             0.230989             0.141220           0.037487   \n",
       "5746             0.145204             0.124470           0.010914   \n",
       "6139             0.113980             0.086226           0.009826   \n",
       "7536             0.155239             0.100864           0.016206   \n",
       "7719             0.162033             0.114511           0.014472   \n",
       "7800             0.142913             0.112486           0.018065   \n",
       "7901             0.151628             0.108417           0.011550   \n",
       "7951             0.139698             0.103818           0.050991   \n",
       "8156             0.254221             0.176403           0.005069   \n",
       "8386             0.081248             0.055877           0.012557   \n",
       "8565             0.147166             0.129224           0.000435   \n",
       "9019             0.102353             0.079509           0.024302   \n",
       "9160             0.131227             0.098958           0.008974   \n",
       "9278             0.106191             0.131418           0.029142   \n",
       "9922            -0.022045             0.085533          -0.055190   \n",
       "\n",
       "        heating_actual_sqft  \n",
       "dataid                       \n",
       "661                0.044610  \n",
       "1642               0.071416  \n",
       "2335               0.040313  \n",
       "2361               0.026209  \n",
       "2818               0.054181  \n",
       "3039               0.000000  \n",
       "3456               0.037862  \n",
       "3538               0.029624  \n",
       "4031               0.029919  \n",
       "4373               0.054454  \n",
       "4767               0.063859  \n",
       "5746               0.029055  \n",
       "6139               0.020807  \n",
       "7536               0.043933  \n",
       "7719               0.061030  \n",
       "7800               0.032358  \n",
       "7901               0.037869  \n",
       "7951               0.025098  \n",
       "8156               0.078967  \n",
       "8386               0.015035  \n",
       "8565               0.092861  \n",
       "9019               0.014024  \n",
       "9160               0.035663  \n",
       "9278               0.025085  \n",
       "9922               0.052576  "
      ]
     },
     "execution_count": 307,
     "metadata": {},
     "output_type": "execute_result"
    }
   ],
   "source": [
    "joined"
   ]
  },
  {
   "cell_type": "code",
   "execution_count": 319,
   "metadata": {},
   "outputs": [
    {
     "data": {
      "text/plain": [
       "<matplotlib.collections.PathCollection at 0x1caca3d41d0>"
      ]
     },
     "execution_count": 319,
     "metadata": {},
     "output_type": "execute_result"
    },
    {
     "data": {
      "image/png": "[encoded data removed]",
      "text/plain": [
       "<Figure size 432x288 with 1 Axes>"
      ]
     },
     "metadata": {
      "needs_background": "light"
     },
     "output_type": "display_data"
    }
   ],
   "source": [
    "plt.scatter(joined['total_square_footage'], joined['cooling_actual_sqft'])"
   ]
  },
  {
   "cell_type": "code",
   "execution_count": 14,
   "metadata": {},
   "outputs": [
    {
     "data": {
      "image/png": "[encoded data removed]",
      "text/plain": [
       "<Figure size 432x288 with 1 Axes>"
      ]
     },
     "metadata": {
      "needs_background": "light"
     },
     "output_type": "display_data"
    },
    {
     "data": {
      "text/html": [
       "<table class=\"simpletable\">\n",
       "<caption>OLS Regression Results</caption>\n",
       "<tr>\n",
       "  <th>Dep. Variable:</th>          <td>usage</td>      <th>  R-squared:         </th> <td>   0.764</td> \n",
       "</tr>\n",
       "<tr>\n",
       "  <th>Model:</th>                   <td>OLS</td>       <th>  Adj. R-squared:    </th> <td>   0.759</td> \n",
       "</tr>\n",
       "<tr>\n",
       "  <th>Method:</th>             <td>Least Squares</td>  <th>  F-statistic:       </th> <td>   140.8</td> \n",
       "</tr>\n",
       "<tr>\n",
       "  <th>Date:</th>             <td>Sun, 30 Aug 2020</td> <th>  Prob (F-statistic):</th> <td>4.52e-104</td>\n",
       "</tr>\n",
       "<tr>\n",
       "  <th>Time:</th>                 <td>22:21:56</td>     <th>  Log-Likelihood:    </th> <td> -294.77</td> \n",
       "</tr>\n",
       "<tr>\n",
       "  <th>No. Observations:</th>      <td>   356</td>      <th>  AIC:               </th> <td>   607.5</td> \n",
       "</tr>\n",
       "<tr>\n",
       "  <th>Df Residuals:</th>          <td>   347</td>      <th>  BIC:               </th> <td>   642.4</td> \n",
       "</tr>\n",
       "<tr>\n",
       "  <th>Df Model:</th>              <td>     8</td>      <th>                     </th>     <td> </td>    \n",
       "</tr>\n",
       "<tr>\n",
       "  <th>Covariance Type:</th>      <td>nonrobust</td>    <th>                     </th>     <td> </td>    \n",
       "</tr>\n",
       "</table>\n",
       "<table class=\"simpletable\">\n",
       "<tr>\n",
       "               <td></td>                  <th>coef</th>     <th>std err</th>      <th>t</th>      <th>P>|t|</th>  <th>[0.025</th>    <th>0.975]</th>  \n",
       "</tr>\n",
       "<tr>\n",
       "  <th>Intercept</th>                   <td>    0.8000</td> <td>    0.099</td> <td>    8.112</td> <td> 0.000</td> <td>    0.606</td> <td>    0.994</td>\n",
       "</tr>\n",
       "<tr>\n",
       "  <th>C(day_of_week)[T.Monday]</th>    <td>   -0.0094</td> <td>    0.111</td> <td>   -0.085</td> <td> 0.932</td> <td>   -0.227</td> <td>    0.208</td>\n",
       "</tr>\n",
       "<tr>\n",
       "  <th>C(day_of_week)[T.Saturday]</th>  <td>    0.4751</td> <td>    0.111</td> <td>    4.275</td> <td> 0.000</td> <td>    0.257</td> <td>    0.694</td>\n",
       "</tr>\n",
       "<tr>\n",
       "  <th>C(day_of_week)[T.Sunday]</th>    <td>    0.4279</td> <td>    0.111</td> <td>    3.869</td> <td> 0.000</td> <td>    0.210</td> <td>    0.645</td>\n",
       "</tr>\n",
       "<tr>\n",
       "  <th>C(day_of_week)[T.Thursday]</th>  <td>   -0.1382</td> <td>    0.111</td> <td>   -1.250</td> <td> 0.212</td> <td>   -0.356</td> <td>    0.079</td>\n",
       "</tr>\n",
       "<tr>\n",
       "  <th>C(day_of_week)[T.Tuesday]</th>   <td>   -0.1286</td> <td>    0.111</td> <td>   -1.157</td> <td> 0.248</td> <td>   -0.347</td> <td>    0.090</td>\n",
       "</tr>\n",
       "<tr>\n",
       "  <th>C(day_of_week)[T.Wednesday]</th> <td>   -0.0915</td> <td>    0.111</td> <td>   -0.827</td> <td> 0.409</td> <td>   -0.309</td> <td>    0.126</td>\n",
       "</tr>\n",
       "<tr>\n",
       "  <th>cdd</th>                         <td>    0.0072</td> <td>    0.000</td> <td>   28.002</td> <td> 0.000</td> <td>    0.007</td> <td>    0.008</td>\n",
       "</tr>\n",
       "<tr>\n",
       "  <th>hdd</th>                         <td>    0.0011</td> <td>    0.000</td> <td>    6.267</td> <td> 0.000</td> <td>    0.001</td> <td>    0.001</td>\n",
       "</tr>\n",
       "</table>\n",
       "<table class=\"simpletable\">\n",
       "<tr>\n",
       "  <th>Omnibus:</th>       <td>30.893</td> <th>  Durbin-Watson:     </th> <td>   1.367</td>\n",
       "</tr>\n",
       "<tr>\n",
       "  <th>Prob(Omnibus):</th> <td> 0.000</td> <th>  Jarque-Bera (JB):  </th> <td> 112.722</td>\n",
       "</tr>\n",
       "<tr>\n",
       "  <th>Skew:</th>          <td> 0.239</td> <th>  Prob(JB):          </th> <td>3.33e-25</td>\n",
       "</tr>\n",
       "<tr>\n",
       "  <th>Kurtosis:</th>      <td> 5.715</td> <th>  Cond. No.          </th> <td>2.17e+03</td>\n",
       "</tr>\n",
       "</table><br/><br/>Warnings:<br/>[1] Standard Errors assume that the covariance matrix of the errors is correctly specified.<br/>[2] The condition number is large, 2.17e+03. This might indicate that there are<br/>strong multicollinearity or other numerical problems."
      ],
      "text/plain": [
       "<class 'statsmodels.iolib.summary.Summary'>\n",
       "\"\"\"\n",
       "                            OLS Regression Results                            \n",
       "==============================================================================\n",
       "Dep. Variable:                  usage   R-squared:                       0.764\n",
       "Model:                            OLS   Adj. R-squared:                  0.759\n",
       "Method:                 Least Squares   F-statistic:                     140.8\n",
       "Date:                Sun, 30 Aug 2020   Prob (F-statistic):          4.52e-104\n",
       "Time:                        22:21:56   Log-Likelihood:                -294.77\n",
       "No. Observations:                 356   AIC:                             607.5\n",
       "Df Residuals:                     347   BIC:                             642.4\n",
       "Df Model:                           8                                         \n",
       "Covariance Type:            nonrobust                                         \n",
       "===============================================================================================\n",
       "                                  coef    std err          t      P>|t|      [0.025      0.975]\n",
       "-----------------------------------------------------------------------------------------------\n",
       "Intercept                       0.8000      0.099      8.112      0.000       0.606       0.994\n",
       "C(day_of_week)[T.Monday]       -0.0094      0.111     -0.085      0.932      -0.227       0.208\n",
       "C(day_of_week)[T.Saturday]      0.4751      0.111      4.275      0.000       0.257       0.694\n",
       "C(day_of_week)[T.Sunday]        0.4279      0.111      3.869      0.000       0.210       0.645\n",
       "C(day_of_week)[T.Thursday]     -0.1382      0.111     -1.250      0.212      -0.356       0.079\n",
       "C(day_of_week)[T.Tuesday]      -0.1286      0.111     -1.157      0.248      -0.347       0.090\n",
       "C(day_of_week)[T.Wednesday]    -0.0915      0.111     -0.827      0.409      -0.309       0.126\n",
       "cdd                             0.0072      0.000     28.002      0.000       0.007       0.008\n",
       "hdd                             0.0011      0.000      6.267      0.000       0.001       0.001\n",
       "==============================================================================\n",
       "Omnibus:                       30.893   Durbin-Watson:                   1.367\n",
       "Prob(Omnibus):                  0.000   Jarque-Bera (JB):              112.722\n",
       "Skew:                           0.239   Prob(JB):                     3.33e-25\n",
       "Kurtosis:                       5.715   Cond. No.                     2.17e+03\n",
       "==============================================================================\n",
       "\n",
       "Warnings:\n",
       "[1] Standard Errors assume that the covariance matrix of the errors is correctly specified.\n",
       "[2] The condition number is large, 2.17e+03. This might indicate that there are\n",
       "strong multicollinearity or other numerical problems.\n",
       "\"\"\""
      ]
     },
     "execution_count": 14,
     "metadata": {},
     "output_type": "execute_result"
    }
   ],
   "source": [
    "balance = best_fit['balance']\n",
    "distance = best_fit['distance']\n",
    "\n",
    "temp_cooling = balance + distance/2.0\n",
    "temp_heating = balance - distance/2.0\n",
    "\n",
    "data_dataid['cdd'] = degree_difference(temp_cooling, temps, is_cooling=True)\n",
    "data_dataid['hdd'] = degree_difference(temp_heating, temps, is_cooling=False)\n",
    "\n",
    "lmod = smf.ols(\n",
    "    formula = \"usage ~ cdd + hdd + C(day_of_week)\",\n",
    "    data = data_dataid\n",
    ").fit()\n",
    "\n",
    "\n",
    "\n",
    "\n",
    "lmod.summary()"
   ]
  },
  {
   "cell_type": "code",
   "execution_count": 137,
   "metadata": {},
   "outputs": [
    {
     "ename": "IndexError",
     "evalue": "boolean index did not match indexed array along dimension 0; dimension is 356 but corresponding boolean dimension is 9",
     "output_type": "error",
     "traceback": [
      "\u001b[1;31m---------------------------------------------------------------------------\u001b[0m",
      "\u001b[1;31mIndexError\u001b[0m                                Traceback (most recent call last)",
      "\u001b[1;32m<ipython-input-137-624680974c74>\u001b[0m in \u001b[0;36m<module>\u001b[1;34m\u001b[0m\n\u001b[1;32m----> 1\u001b[1;33m \u001b[0mlmod\u001b[0m\u001b[1;33m.\u001b[0m\u001b[0mmodel\u001b[0m\u001b[1;33m.\u001b[0m\u001b[0mexog\u001b[0m\u001b[1;33m[\u001b[0m\u001b[0mlmod\u001b[0m\u001b[1;33m.\u001b[0m\u001b[0mparams\u001b[0m\u001b[1;33m.\u001b[0m\u001b[0mindex\u001b[0m \u001b[1;33m==\u001b[0m \u001b[1;34m'cdd'\u001b[0m\u001b[1;33m]\u001b[0m\u001b[1;33m\u001b[0m\u001b[1;33m\u001b[0m\u001b[0m\n\u001b[0m",
      "\u001b[1;31mIndexError\u001b[0m: boolean index did not match indexed array along dimension 0; dimension is 356 but corresponding boolean dimension is 9"
     ]
    }
   ],
   "source": [
    "lmod.model.exdog[lmod.params.index == 'cdd']"
   ]
  },
  {
   "cell_type": "code",
   "execution_count": 160,
   "metadata": {},
   "outputs": [
    {
     "data": {
      "text/plain": [
       "array([[ 0.79996212, -0.        ,  0.        , ..., -0.        ,\n",
       "         0.        ,  1.11773108],\n",
       "       [ 0.79996212, -0.        ,  0.        , ..., -0.09148059,\n",
       "         0.        ,  0.98004518],\n",
       "       [ 0.79996212, -0.        ,  0.        , ..., -0.        ,\n",
       "         0.        ,  0.63099594],\n",
       "       ...,\n",
       "       [ 0.79996212, -0.        ,  0.47511313, ..., -0.        ,\n",
       "         0.        ,  0.72633183],\n",
       "       [ 0.79996212, -0.        ,  0.        , ..., -0.        ,\n",
       "         0.        ,  0.78937341],\n",
       "       [ 0.79996212, -0.00938512,  0.        , ..., -0.        ,\n",
       "         0.        ,  0.60140894]])"
      ]
     },
     "execution_count": 160,
     "metadata": {},
     "output_type": "execute_result"
    }
   ],
   "source": [
    "lmod.model.exog * lmod.params.values"
   ]
  },
  {
   "cell_type": "code",
   "execution_count": 165,
   "metadata": {},
   "outputs": [
    {
     "data": {
      "text/plain": [
       "['Intercept',\n",
       " 'C(day_of_week)[T.Monday]',\n",
       " 'C(day_of_week)[T.Saturday]',\n",
       " 'C(day_of_week)[T.Sunday]',\n",
       " 'C(day_of_week)[T.Thursday]',\n",
       " 'C(day_of_week)[T.Tuesday]',\n",
       " 'C(day_of_week)[T.Wednesday]',\n",
       " 'cdd',\n",
       " 'hdd']"
      ]
     },
     "execution_count": 165,
     "metadata": {},
     "output_type": "execute_result"
    }
   ],
   "source": [
    "model = lmod.model\n",
    "model.exog_names"
   ]
  },
  {
   "cell_type": "code",
   "execution_count": 153,
   "metadata": {},
   "outputs": [],
   "source": [
    "pred_cooling = (lmod.model.exog[:, lmod.params.index == 'cdd'] * lmod.params['cdd']).flatten()\n",
    "pred_heating = (lmod.model.exog[:, lmod.params.index == 'hdd'] * lmod.params['hdd']).flatten()"
   ]
  },
  {
   "cell_type": "code",
   "execution_count": 280,
   "metadata": {},
   "outputs": [
    {
     "data": {
      "text/plain": [
       "194.13481999999993"
      ]
     },
     "execution_count": 280,
     "metadata": {},
     "output_type": "execute_result"
    }
   ],
   "source": [
    "sum(np.maximum(data_dataid['cooling']/1000, 0))"
   ]
  },
  {
   "cell_type": "code",
   "execution_count": 278,
   "metadata": {},
   "outputs": [
    {
     "data": {
      "text/plain": [
       "309.78916177240063"
      ]
     },
     "execution_count": 278,
     "metadata": {},
     "output_type": "execute_result"
    }
   ],
   "source": [
    "sum(pred_cooling)"
   ]
  },
  {
   "cell_type": "code",
   "execution_count": 276,
   "metadata": {},
   "outputs": [
    {
     "data": {
      "text/plain": [
       "122.835869"
      ]
     },
     "execution_count": 276,
     "metadata": {},
     "output_type": "execute_result"
    }
   ],
   "source": [
    "sum(np.maximum(data_dataid['heating']/1000, 0))"
   ]
  },
  {
   "cell_type": "code",
   "execution_count": 277,
   "metadata": {},
   "outputs": [
    {
     "data": {
      "text/plain": [
       "22.33048640777332"
      ]
     },
     "execution_count": 277,
     "metadata": {},
     "output_type": "execute_result"
    }
   ],
   "source": [
    "sum(pred_heating)"
   ]
  },
  {
   "cell_type": "code",
   "execution_count": 48,
   "metadata": {},
   "outputs": [],
   "source": [
    "# load the raw metadata csv file\n",
    "metadata = pd.read_csv('../data/metadata.csv')\n",
    "\n",
    "# get rid of the first description row \n",
    "metadata = metadata[1:].copy()\n",
    "\n",
    "metadata['dataid'] = metadata['dataid'].astype(int)\n",
    "\n",
    "# combine city and state into a single column for joining\n",
    "metadata['city_state'] = metadata['city'] + ', ' + metadata['state']\n",
    "\n",
    "# prepare for join, we only want the join key (dataid) and a few features\n",
    "metadata = metadata[[\n",
    "    'dataid', \n",
    "    'city_state', \n",
    "    'house_construction_year', \n",
    "    'total_square_footage', \n",
    "    'building_type'\n",
    "]].set_index('dataid')\n",
    "\n",
    "# output\n",
    "metadata"
   ]
  },
  {
   "cell_type": "code",
   "execution_count": 47,
   "metadata": {},
   "outputs": [
    {
     "data": {
      "text/html": [
       "<div>\n",
       "<style scoped>\n",
       "    .dataframe tbody tr th:only-of-type {\n",
       "        vertical-align: middle;\n",
       "    }\n",
       "\n",
       "    .dataframe tbody tr th {\n",
       "        vertical-align: top;\n",
       "    }\n",
       "\n",
       "    .dataframe thead th {\n",
       "        text-align: right;\n",
       "    }\n",
       "</style>\n",
       "<table border=\"1\" class=\"dataframe\">\n",
       "  <thead>\n",
       "    <tr style=\"text-align: right;\">\n",
       "      <th></th>\n",
       "      <th>city_state</th>\n",
       "    </tr>\n",
       "    <tr>\n",
       "      <th>dataid</th>\n",
       "      <th></th>\n",
       "    </tr>\n",
       "  </thead>\n",
       "  <tbody>\n",
       "    <tr>\n",
       "      <th>2836</th>\n",
       "      <td>Austin, Texas</td>\n",
       "    </tr>\n",
       "    <tr>\n",
       "      <th>2743</th>\n",
       "      <td>Austin, Texas</td>\n",
       "    </tr>\n",
       "    <tr>\n",
       "      <th>5323</th>\n",
       "      <td>Austin, Texas</td>\n",
       "    </tr>\n",
       "    <tr>\n",
       "      <th>8560</th>\n",
       "      <td>Austin, Texas</td>\n",
       "    </tr>\n",
       "    <tr>\n",
       "      <th>3313</th>\n",
       "      <td>Austin, Texas</td>\n",
       "    </tr>\n",
       "    <tr>\n",
       "      <th>...</th>\n",
       "      <td>...</td>\n",
       "    </tr>\n",
       "    <tr>\n",
       "      <th>891</th>\n",
       "      <td>Austin, Texas</td>\n",
       "    </tr>\n",
       "    <tr>\n",
       "      <th>6601</th>\n",
       "      <td>Austin, Texas</td>\n",
       "    </tr>\n",
       "    <tr>\n",
       "      <th>114</th>\n",
       "      <td>Austin, Texas</td>\n",
       "    </tr>\n",
       "    <tr>\n",
       "      <th>997</th>\n",
       "      <td>Berkeley, California</td>\n",
       "    </tr>\n",
       "    <tr>\n",
       "      <th>8523</th>\n",
       "      <td>Ithaca, New York</td>\n",
       "    </tr>\n",
       "  </tbody>\n",
       "</table>\n",
       "<p>1708 rows × 1 columns</p>\n",
       "</div>"
      ],
      "text/plain": [
       "                  city_state\n",
       "dataid                      \n",
       "2836           Austin, Texas\n",
       "2743           Austin, Texas\n",
       "5323           Austin, Texas\n",
       "8560           Austin, Texas\n",
       "3313           Austin, Texas\n",
       "...                      ...\n",
       "891            Austin, Texas\n",
       "6601           Austin, Texas\n",
       "114            Austin, Texas\n",
       "997     Berkeley, California\n",
       "8523        Ithaca, New York\n",
       "\n",
       "[1708 rows x 1 columns]"
      ]
     },
     "execution_count": 47,
     "metadata": {},
     "output_type": "execute_result"
    }
   ],
   "source": []
  },
  {
   "cell_type": "code",
   "execution_count": null,
   "metadata": {},
   "outputs": [],
   "source": []
  }
 ],
 "metadata": {
  "kernelspec": {
   "display_name": "Python 3",
   "language": "python",
   "name": "python3"
  },
  "language_info": {
   "codemirror_mode": {
    "name": "ipython",
    "version": 3
   },
   "file_extension": ".py",
   "mimetype": "text/x-python",
   "name": "python",
   "nbconvert_exporter": "python",
   "pygments_lexer": "ipython3",
   "version": "3.7.2"
  }
 },
 "nbformat": 4,
 "nbformat_minor": 2
}
