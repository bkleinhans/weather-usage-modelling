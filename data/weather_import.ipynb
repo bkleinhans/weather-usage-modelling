{
 "cells": [
  {
   "cell_type": "markdown",
   "metadata": {},
   "source": [
    "# Weather Import\n",
    "## Description\n",
    "Download hourly temperature data from NOAA and save it in the database. Note: The NOAA data only includes a limited number of cities so we have to match to the closest city for some of the Pecan Street data."
   ]
  },
  {
   "cell_type": "markdown",
   "metadata": {},
   "source": [
    "## Imports"
   ]
  },
  {
   "cell_type": "code",
   "execution_count": 1,
   "metadata": {},
   "outputs": [],
   "source": [
    "import json\n",
    "import numpy as np\n",
    "import pandas as pd\n",
    "from sqlalchemy import create_engine"
   ]
  },
  {
   "cell_type": "markdown",
   "metadata": {},
   "source": [
    "## Database connection"
   ]
  },
  {
   "cell_type": "code",
   "execution_count": 2,
   "metadata": {},
   "outputs": [],
   "source": [
    "# load credentials\n",
    "credentials_file_path = '../credentials.json'\n",
    "with open(credentials_file_path) as credentials_file:\n",
    "    credentials = json.load(credentials_file)\n",
    "    \n",
    "# connect to database\n",
    "engine = create_engine('mysql+mysqldb://{user}@{host}/{db}'.format(\n",
    "    user = credentials['user'],\n",
    "    host = credentials['host'],\n",
    "    db = credentials['db']\n",
    "))\n",
    "\n",
    "conn = engine.connect()"
   ]
  },
  {
   "cell_type": "markdown",
   "metadata": {},
   "source": [
    "## Remove tables if they exist\n",
    "Used for refreshing the database."
   ]
  },
  {
   "cell_type": "code",
   "execution_count": 3,
   "metadata": {},
   "outputs": [
    {
     "data": {
      "text/plain": [
       "<sqlalchemy.engine.result.ResultProxy at 0x23772b80668>"
      ]
     },
     "execution_count": 3,
     "metadata": {},
     "output_type": "execute_result"
    }
   ],
   "source": [
    "# drop table if exists\n",
    "conn.execute('DROP TABLE IF EXISTS temps')"
   ]
  },
  {
   "cell_type": "markdown",
   "metadata": {},
   "source": [
    "## Helper function and array for handling columns"
   ]
  },
  {
   "cell_type": "code",
   "execution_count": 4,
   "metadata": {},
   "outputs": [],
   "source": [
    "columns = [ 'WBANNO', 'UTC_DATE', 'UTC_TIME', 'LST_DATE', 'LST_TIME', 'CRX_VN', 'LONGITUDE', 'LATITUDE', \n",
    "            'T_CALC', 'T_HR_AVG', 'T_MAX', 'T_MIN', 'P_CALC', 'SOLARAD', 'SOLARAD_FLAG', 'SOLARAD_MAX', \n",
    "            'SOLARAD_MAX_FLAG', 'SOLARAD_MIN', 'SOLARAD_MIN_FLAG', 'SUR_TEMP_TYPE', 'SUR_TEMP', 'SUR_TEMP_FLAG', \n",
    "            'SUR_TEMP_MAX', 'SUR_TEMP_MAX_FLAG', 'SUR_TEMP_MIN', 'SUR_TEMP_MIN_FLAG', 'RH_HR_AVG', 'RH_HR_AVG_FLAG', \n",
    "            'SOIL_MOISTURE_5', 'SOIL_MOISTURE_10', 'SOIL_MOISTURE_20', 'SOIL_MOISTURE_50', 'SOIL_MOISTURE_100', \n",
    "            'SOIL_TEMP_5', 'SOIL_TEMP_10', 'SOIL_TEMP_20', 'SOIL_TEMP_50', 'SOIL_TEMP_100' ]\n",
    "\n",
    "def split(s):\n",
    "    s_split = np.array(s.split(sep=' '))\n",
    "    row = s_split[s_split!='']\n",
    "    return list(row)"
   ]
  },
  {
   "cell_type": "markdown",
   "metadata": {},
   "source": [
    "## Fetch temps for 2017-2019 and for all close cities"
   ]
  },
  {
   "cell_type": "code",
   "execution_count": 5,
   "metadata": {},
   "outputs": [
    {
     "name": "stdout",
     "output_type": "stream",
     "text": [
      "Done!\n"
     ]
    }
   ],
   "source": [
    "url_root = 'https://www1.ncdc.noaa.gov/pub/data/uscrn/products/hourly02/'\n",
    "file_code = 'CRNH0203'\n",
    "\n",
    "years = ['2018']\n",
    "\n",
    "city_state_file_map = {\n",
    "    'Austin, Texas': 'TX_Austin_33_NW.txt',\n",
    "}\n",
    "\n",
    "for city_state, city_file_name in city_state_file_map.items():\n",
    "    \n",
    "    for year in years:\n",
    "        \n",
    "        try:\n",
    "            url = url_root + year + '/' + file_code + '-' + year + '-' + city_file_name\n",
    "\n",
    "            # fetch city temps from NOAA\n",
    "            df = pd.read_csv(url, header=None)\n",
    "\n",
    "            # format columns\n",
    "            df = pd.DataFrame(np.array(df[0].apply(split).tolist()), columns = columns)\n",
    "\n",
    "            # clean up the format\n",
    "            df['dt'] = pd.to_datetime(df['UTC_DATE'] + ' ' + df['UTC_TIME'])\n",
    "            df['year'] = df['dt'].apply(lambda dt: dt.year)\n",
    "            df['month'] = df['dt'].apply(lambda dt: dt.month)\n",
    "            df['day'] = df['dt'].apply(lambda dt: dt.day)\n",
    "            df['hour'] = df['dt'].apply(lambda dt: dt.hour)\n",
    "            df['city_state'] = city_state\n",
    "\n",
    "            df.to_sql(\n",
    "                name = 'temps',\n",
    "                con = conn,\n",
    "                if_exists = 'append',\n",
    "                index = False\n",
    "            )\n",
    "        except Exception as e:\n",
    "            print(e)\n",
    "            \n",
    "print('Done!')"
   ]
  }
 ],
 "metadata": {
  "kernelspec": {
   "display_name": "Python 3",
   "language": "python",
   "name": "python3"
  },
  "language_info": {
   "codemirror_mode": {
    "name": "ipython",
    "version": 3
   },
   "file_extension": ".py",
   "mimetype": "text/x-python",
   "name": "python",
   "nbconvert_exporter": "python",
   "pygments_lexer": "ipython3",
   "version": "3.7.2"
  }
 },
 "nbformat": 4,
 "nbformat_minor": 2
}
